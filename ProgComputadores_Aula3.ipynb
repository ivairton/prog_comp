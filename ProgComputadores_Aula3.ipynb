{
  "cells": [
    {
      "cell_type": "markdown",
      "metadata": {
        "id": "view-in-github",
        "colab_type": "text"
      },
      "source": [
        "<a href=\"https://colab.research.google.com/github/ivairton/prog_comp/blob/main/ProgComputadores_Aula3.ipynb\" target=\"_parent\"><img src=\"https://colab.research.google.com/assets/colab-badge.svg\" alt=\"Open In Colab\"/></a>"
      ]
    },
    {
      "cell_type": "markdown",
      "id": "7b51e375-3ffc-4550-963e-9ce7e7fb9732",
      "metadata": {
        "editable": false,
        "tags": [],
        "id": "7b51e375-3ffc-4550-963e-9ce7e7fb9732"
      },
      "source": [
        "<h3>UNIVERSIDADE FEDERAL DE MATO GROSSO<br>\n",
        "CAMPUS UNIVERSITÁRIO DO ARAGUAIA<br>\n",
        "Curso de Bacharelado em Ciência da Computação</h3>\n",
        "\n",
        "<h2><b>Disciplina de Programação de Computadores</b></h2>\n",
        "\n",
        "<i>Material desenvolvido pelos professores:</i><br>\n",
        "Prof. Dr. Ivairton Monteiro Santos<br>\n",
        "Prof. Dr. Linder Cândido da Silva\n"
      ]
    },
    {
      "cell_type": "markdown",
      "source": [
        "<h1>\n",
        "  <center>\n",
        "    Aula 3<br><br>\n",
        "    Funções\n",
        "  </center>\n",
        "</h1>"
      ],
      "metadata": {
        "id": "B81qshRJ6rPT"
      },
      "id": "B81qshRJ6rPT"
    },
    {
      "cell_type": "markdown",
      "id": "b485d27c-b3f8-47c3-a418-0fca93eeb196",
      "metadata": {
        "editable": true,
        "tags": [],
        "id": "b485d27c-b3f8-47c3-a418-0fca93eeb196"
      },
      "source": [
        "# 3.1 Introdução\n",
        "Funções são blocos de código reutilizáveis, usados na criação de programas. Usar funções pré-existentes é um aspecto fundamental da reutilização de software. A experiência em engenharia de software tem mostrado que a melhor maneira de desenvolver grandes programas é construí-los a partir de partes menores e mais facilmente gerenciáveis, tais como as funções. Está técnica é conhecida como \"dividir para conquistar\". Além disso, empacotar código como uma função permite executá-lo a partir de vários locais do programa apenas chamando a função, em vez de replicar código possivelmente extenso. Isso também torna os programas mais fáceis de modificar, pois quando alteramos o código de uma função, todas as chamadas a ela executam a versão atualizada.\n",
        "\n",
        "Nesta aula estudaremos o conceito de função e como defini-las na linguagem Python."
      ]
    },
    {
      "cell_type": "markdown",
      "id": "941dd7e2-d4fc-469d-a260-2f601c099495",
      "metadata": {
        "editable": false,
        "tags": [],
        "id": "941dd7e2-d4fc-469d-a260-2f601c099495"
      },
      "source": [
        "# 3.2 Definindo Funções em Python\n",
        "Usar funções prontas, de alta qualidade, oriundas de pacotes de desenvolvidos por terceiros (de fonte confiável), é uma boa prática de desenvolvimento de software, pois economiza tempo e minimiza erros. Já usamos em nossos programas muitas funções integradas, tais como `int()`, `float()`, `print()`, `input()`, `type()`, `sum()`, `len()`, `min()` e `max()`, bem como algumas funções do módulo `statistics`, tais como `mean()`, `median()` e `mode()`. Cada uma dessa funções executa uma tarefa bem definida que pode ser usada quantas vezes for necessário na codificação de um programa.\n",
        "\n",
        "Entretanto, muitas vezes precisamos definir e chamar funções personalizadas, definidas por nós mesmos. Para exemplificar como funções são definidas, criaremos a função `quadrado(numero)` que calcula o quadrado de seu argumento numérico. Em seguida, a chamaremos duas vezes: a primeira para elevar ao quadrado o valor inteiro 7, produzindo o valor `int` 49, e a segunda para elevar ao quadrado o valor `float` 2.5, produzindo o valor `float` 6.25."
      ]
    },
    {
      "cell_type": "code",
      "execution_count": null,
      "id": "5a8d44df-9fd1-4330-bb8b-3511e328ecf6",
      "metadata": {
        "editable": true,
        "tags": [],
        "id": "5a8d44df-9fd1-4330-bb8b-3511e328ecf6"
      },
      "outputs": [],
      "source": [
        "def quadrado(numero):\n",
        "    \"\"\"\n",
        "    Calcula o quadrado de um número.\n",
        "\n",
        "    Parâmetros:\n",
        "      numero: um valor numérico (int, float, double).\n",
        "    Retorno: um valor numérico (numero ** 2)\n",
        "    \"\"\"\n",
        "    resultado = numero ** 2\n",
        "    return resultado"
      ]
    },
    {
      "cell_type": "code",
      "execution_count": null,
      "id": "707d1960-3bd9-47d3-a0fb-a8247fd3efc9",
      "metadata": {
        "editable": true,
        "tags": [],
        "id": "707d1960-3bd9-47d3-a0fb-a8247fd3efc9"
      },
      "outputs": [],
      "source": [
        "result = quadrado(7)"
      ]
    },
    {
      "cell_type": "code",
      "execution_count": null,
      "id": "b37d25df-76d7-4f3d-9a7d-5bcbdd627819",
      "metadata": {
        "editable": true,
        "tags": [],
        "id": "b37d25df-76d7-4f3d-9a7d-5bcbdd627819"
      },
      "outputs": [],
      "source": [
        "print(result)"
      ]
    },
    {
      "cell_type": "code",
      "execution_count": null,
      "id": "a43c20e3-c039-424d-baa2-1cb8d817b914",
      "metadata": {
        "editable": true,
        "tags": [],
        "id": "a43c20e3-c039-424d-baa2-1cb8d817b914"
      },
      "outputs": [],
      "source": [
        "quadrado(2.5)"
      ]
    },
    {
      "cell_type": "code",
      "execution_count": null,
      "id": "c836bf9b-700a-4b39-8e18-ad5955a2c72d",
      "metadata": {
        "editable": true,
        "tags": [],
        "id": "c836bf9b-700a-4b39-8e18-ad5955a2c72d"
      },
      "outputs": [],
      "source": [
        "quadrado('ola, tudo bem?')"
      ]
    },
    {
      "cell_type": "markdown",
      "id": "9a2d5a09-c488-483e-adcf-0daccc637ca9",
      "metadata": {
        "editable": true,
        "tags": [],
        "id": "9a2d5a09-c488-483e-adcf-0daccc637ca9"
      },
      "source": [
        "Em Python, a definição de qualquer função começa com a palavra reservada `def`, seguida pelo nome da função (e.g., quadrado), um par de parênteses e, finalmente, dois pontos (:). **Por convenção**, assim como os identificadores de variáveis, os nomes das funções devem começar com uma letra minúscula. Os parênteses são obrigatórios e devem conter os parâmetros da função, os quais devem ser listados separados por vírgula. Os parâmetros definem os dados que a função precisa para executar sua tarefa.\n",
        "\n",
        "No caso da função `quadrado(numero)`, o único parâmetro necessário é o número que será elevado ao quadrado por meio do operador de exponenciação. Se os parênteses estiverem vazios, significa que função não utiliza parâmetros para realizar sua tarefa. As linhas recuadas após os dois pontos (:) definem o bloco de código da função. O Guia de Estilo para código Python recomenda que a primeira linha do bloco de uma função deve ser uma docstring que explica resumidamente o propósito da função:\n",
        "\n",
        "```\n",
        "\"\"\"Calcula o quadrado do número.\"\"\"\n",
        "```\n",
        "\n",
        "Após as linhas de documentação, vem o código Python que define a tarefa desempenhada pela função. Particularmente, a função quadrado eleva o parâmetro `numero` ao quadrado e atribui o resultado à variável local resultado. Parâmetros de funções e variáveis locais são acessíveis apenas dentro da função (mais sobre isso em breve). Finalmente, quando uma função termina de executar, ela retorna o controle para seu chamador, ou seja, para a linha de código que a invocou. No bloco de código da função `quadrado(numero)`, a instrução `return resultado` encerra a função e devolve o resultado ao chamador. Na verdade, existem duas outras maneiras de retornar o controle para o chamador de uma função:\n",
        "* A execução do comando `return` sem uma expressão encerra a função e retorna implicitamente o valor `None` para o chamador. Em Python `None` representa a ausência de um valor, tal como `NULL` em linguagens como C. O valor `None` é avaliado como `False` em testes condicionais.\n",
        "* Quando **não há** instrução `return` em uma função, ela retorna implicitamente o valor `None` após executar a última instrução do bloco de código da função.\n",
        "\n",
        "As instruções que definem a tarefa desempenhada pela função são escritas apenas uma vez, na definição da função, mas a função pode ser chamada em vários pontos do programa. Chamar a função `quadrado(numero)` com um argumento não numérico como 'hello', causa um erro do tipo `TypeError`, porque o operador de exponenciação (**) funciona apenas com valores numéricos.\n",
        "\n",
        "As chamadas de função também podem ser embutidas em expressões ou passadas como argumento para outras funções. Veja os exemplos abaixo:"
      ]
    },
    {
      "cell_type": "code",
      "execution_count": null,
      "id": "19d1ab57-5fbb-48b0-b5bf-bd8c0a0583c1",
      "metadata": {
        "editable": false,
        "tags": [],
        "id": "19d1ab57-5fbb-48b0-b5bf-bd8c0a0583c1"
      },
      "outputs": [],
      "source": [
        "2.0 +  quadrado(7)"
      ]
    },
    {
      "cell_type": "code",
      "execution_count": null,
      "id": "cf5a9131-826d-4bc4-bf3b-8e5f3cb0be5d",
      "metadata": {
        "editable": true,
        "tags": [],
        "id": "cf5a9131-826d-4bc4-bf3b-8e5f3cb0be5d"
      },
      "outputs": [],
      "source": [
        "quadrado(quadrado(2))"
      ]
    },
    {
      "cell_type": "code",
      "execution_count": null,
      "id": "12c8851e-70a3-4393-96c4-ce9150716ef7",
      "metadata": {
        "editable": true,
        "tags": [],
        "id": "12c8851e-70a3-4393-96c4-ce9150716ef7"
      },
      "outputs": [],
      "source": [
        "print('O quadrado de 7 é', quadrado(7))"
      ]
    },
    {
      "cell_type": "markdown",
      "id": "2c58b469-cbd8-4b96-8fe3-ebb7b88a4f37",
      "metadata": {
        "editable": false,
        "tags": [],
        "id": "2c58b469-cbd8-4b96-8fe3-ebb7b88a4f37"
      },
      "source": [
        "## O que acontece quando uma função é chamada?\n",
        "Quando chamamos `quadrado(7)`, o argumento 7 é atribuído ao parâmetro `número`. Em seguida, `quadrado` calcula o `número ** 2` e o atribui à variável local resultado. O parâmetro **`número` existe apenas durante a chamada da função**. Cada vez que a função é chamada, ele é criado para receber o valor do argumento e é destruído quando a função retorna seu resultado ao chamador.\n",
        "\n",
        "Assim como o parâmetro `número` a variável resultado também é local à função. Os parâmetros e as variáveis definidas no bloco de código de uma função, só podem ser usadas dentro da função e existem apenas enquanto a função está sendo executada. Tentar acessar uma variável local fora da função causa um erro do tipo `NameError`, indicando que a variável não está definida. Em breve veremos que o suporte necessário à criação e destruição **automática** de variáveis locais é implementado usando uma estrutura de dados chamada pilha.\n",
        "\n",
        "## Acessando a documentação de uma função por meio do mecanismo de ajuda do IPython\n",
        "O IPython pode ajudá-lo a entender as funções que você pretende usar em seus programas. Por exemplo, para visualizar a docstring de uma função e aprender como usá-la, digite o nome da função seguido de um ponto de interrogação (?):"
      ]
    },
    {
      "cell_type": "code",
      "execution_count": null,
      "id": "3defef40-f706-4016-9c76-cbfafe1ea6f6",
      "metadata": {
        "editable": true,
        "tags": [],
        "id": "3defef40-f706-4016-9c76-cbfafe1ea6f6"
      },
      "outputs": [],
      "source": [
        "int?"
      ]
    },
    {
      "cell_type": "markdown",
      "id": "b0bbe17b-e522-4e8f-aff6-a4fcaad60983",
      "metadata": {
        "editable": false,
        "tags": [],
        "id": "b0bbe17b-e522-4e8f-aff6-a4fcaad60983"
      },
      "source": [
        "Para a função `quadrado()`, as informações exibidas incluem:\n",
        "* O nome da função e a lista de parâmetros – conhecida como sua assinatura.\n",
        "* O docstring da função.\n",
        "* O nome do arquivo que contém a definição da função.\n",
        "* O tipo do item para o qual você acessou o mecanismo de ajuda do IPython – neste caso, uma função."
      ]
    },
    {
      "cell_type": "code",
      "execution_count": null,
      "id": "62efc7f1-7840-48eb-a270-98680bdad595",
      "metadata": {
        "editable": false,
        "tags": [],
        "id": "62efc7f1-7840-48eb-a270-98680bdad595"
      },
      "outputs": [],
      "source": [
        "quadrado?"
      ]
    },
    {
      "cell_type": "markdown",
      "id": "d3be42f5-d956-4b81-b0a9-11c9d5fc62f2",
      "metadata": {
        "editable": false,
        "tags": [],
        "id": "d3be42f5-d956-4b81-b0a9-11c9d5fc62f2"
      },
      "source": [
        "**Exercício:** Defina a função `raiz_quadrada(numero)` que recebe um número como parâmetro e retorna sua raíz quadrada. Determine a raíz quadrada de `6.25`."
      ]
    },
    {
      "cell_type": "markdown",
      "id": "c5fef606-b032-481d-a901-886267b51737",
      "metadata": {
        "editable": true,
        "tags": [],
        "id": "c5fef606-b032-481d-a901-886267b51737"
      },
      "source": [
        "# 3.3 Funções Com Múltiplos Parâmetros\n",
        "Uma função pode receber zero, um ou múltiplos parâmetros. Como exemplo, vamos definir a função `maximo(valor1, valor2, valor3)` que determina e retorna o maior dos três parâmetros. Em seguida, chamaremos a função três vezes: uma com números inteiros, uma números de ponto flutuante e uma com strings.\n"
      ]
    },
    {
      "cell_type": "code",
      "execution_count": null,
      "id": "35e208ee-9d81-4fbf-a70f-2986127f390c",
      "metadata": {
        "editable": true,
        "tags": [],
        "id": "35e208ee-9d81-4fbf-a70f-2986127f390c"
      },
      "outputs": [],
      "source": [
        "def maximo(valor1, valor2, valor3):\n",
        "    \"\"\"Retorna o maior dos três parâmetros.\"\"\"\n",
        "\n",
        "    maior = valor1\n",
        "    if valor2 > maior:\n",
        "        maior = valor2\n",
        "    if valor3 > maior:\n",
        "        maior = valor3\n",
        "    return maior"
      ]
    },
    {
      "cell_type": "code",
      "execution_count": null,
      "id": "7ed80853-75cd-4c87-b74a-021b34fd3bca",
      "metadata": {
        "editable": true,
        "tags": [],
        "id": "7ed80853-75cd-4c87-b74a-021b34fd3bca"
      },
      "outputs": [],
      "source": [
        "maximo(12, 27, 36)"
      ]
    },
    {
      "cell_type": "code",
      "execution_count": null,
      "id": "c193871c-ae0a-487e-97b5-e95e1fc1a592",
      "metadata": {
        "editable": true,
        "tags": [],
        "id": "c193871c-ae0a-487e-97b5-e95e1fc1a592"
      },
      "outputs": [],
      "source": [
        "maximo(12.3, 45.6, 9.7)"
      ]
    },
    {
      "cell_type": "code",
      "execution_count": null,
      "id": "25147c17-4bf0-4af6-acb4-48994ac760c6",
      "metadata": {
        "editable": true,
        "tags": [],
        "id": "25147c17-4bf0-4af6-acb4-48994ac760c6"
      },
      "outputs": [],
      "source": [
        "maximo('yellow', 'red', 'orange')"
      ]
    },
    {
      "cell_type": "code",
      "execution_count": null,
      "id": "ef5862fb-467f-484e-8003-f5affe0feea2",
      "metadata": {
        "editable": true,
        "tags": [],
        "id": "ef5862fb-467f-484e-8003-f5affe0feea2"
      },
      "outputs": [],
      "source": [
        "maximo(13.5, -3, 7)"
      ]
    },
    {
      "cell_type": "markdown",
      "id": "ae2beebd-2c47-420f-8059-c44cc99c1ff3",
      "metadata": {
        "editable": false,
        "tags": [],
        "id": "ae2beebd-2c47-420f-8059-c44cc99c1ff3"
      },
      "source": [
        "A função `maximo` possui três parâmetros: `valor1`, `valor2`, `valor3`. Quando uma função possui múltiplos parâmetros eles devem ser especificados separados por vírgula. Quando o controle retorna ao chamador, os parâmetros e as variáveis locais, tal como `maior`, defindas no bloco de código da função, são destruídas. O resultado retornado via comando `return` é capturado pelo chamador.\n",
        "\n",
        "Lembre-se, a despeito de estarmos implementando nossa própria versão, Python já disponibiliza as funções integradas `max()` e `min()` para determinar o maior e o menor de seus argumentos:"
      ]
    },
    {
      "cell_type": "code",
      "execution_count": null,
      "id": "e1a45293-6d04-4b4b-91de-8b964551a124",
      "metadata": {
        "editable": true,
        "tags": [],
        "id": "e1a45293-6d04-4b4b-91de-8b964551a124"
      },
      "outputs": [],
      "source": [
        "max('yellow', 'red', 'orange', 'blue', 'green')"
      ]
    },
    {
      "cell_type": "code",
      "execution_count": null,
      "id": "947bdec3-c92d-4bc2-b2ed-f3352db20fbb",
      "metadata": {
        "editable": true,
        "tags": [],
        "id": "947bdec3-c92d-4bc2-b2ed-f3352db20fbb"
      },
      "outputs": [],
      "source": [
        "max(['yellow', 'red', 'orange', 'blue', 'green']) # Na for de lista"
      ]
    },
    {
      "cell_type": "code",
      "execution_count": null,
      "id": "46d7c570-814e-4f16-80d7-6fc4a1e02ca3",
      "metadata": {
        "editable": true,
        "tags": [],
        "id": "46d7c570-814e-4f16-80d7-6fc4a1e02ca3"
      },
      "outputs": [],
      "source": [
        "min(15, 9, 27, 14)"
      ]
    },
    {
      "cell_type": "code",
      "execution_count": null,
      "id": "45b3e61a-98fd-4720-89d0-335850d213db",
      "metadata": {
        "editable": true,
        "tags": [],
        "id": "45b3e61a-98fd-4720-89d0-335850d213db"
      },
      "outputs": [],
      "source": [
        "min([15, 9, 27, 14])"
      ]
    },
    {
      "cell_type": "markdown",
      "id": "6cb745fc-5126-4b89-ad69-97ab2eef9bfd",
      "metadata": {
        "editable": false,
        "tags": [],
        "id": "6cb745fc-5126-4b89-ad69-97ab2eef9bfd"
      },
      "source": [
        "# Geração de Números Randômicos\n",
        "\n",
        "Aprenderemos agora como gerar números aleatórios em Python. Isso pode ser feito usando o módulo `random` da biblioteca padrão de Python. Para começar, vamos produzir 10 números aleatórios inteiros, no intervalo de 1 a 6, para simular o lançamento de um dado de seis faces:"
      ]
    },
    {
      "cell_type": "code",
      "execution_count": null,
      "id": "0db1d70d-bf90-4e99-9078-c2e7b421fe96",
      "metadata": {
        "editable": true,
        "tags": [],
        "id": "0db1d70d-bf90-4e99-9078-c2e7b421fe96"
      },
      "outputs": [],
      "source": [
        "import random # importa o módulo random (aleatório ou randômico)"
      ]
    },
    {
      "cell_type": "code",
      "execution_count": null,
      "id": "9fec40b9-fdc7-4798-a50b-fa7dbe381f05",
      "metadata": {
        "editable": true,
        "tags": [],
        "id": "9fec40b9-fdc7-4798-a50b-fa7dbe381f05"
      },
      "outputs": [],
      "source": [
        "for lance in range(10):\n",
        "    print(random.randrange(1, 7), end=' ')"
      ]
    },
    {
      "cell_type": "markdown",
      "id": "f81488dc-7761-4ab6-98ec-a81f66c68745",
      "metadata": {
        "editable": false,
        "tags": [],
        "id": "f81488dc-7761-4ab6-98ec-a81f66c68745"
      },
      "source": [
        "Primeiro, importamos o módulo `random` para possibilitar o uso de seus recursos. A função `randrange()` gera um número inteiro dentro do intervalo especificado, sem incluir o valor do segundo argumento. Execute o programa várias vezes e observe que valores diferentes são exibidos cada vez que o trecho de código acima é executado."
      ]
    },
    {
      "cell_type": "markdown",
      "id": "c4692b9e-1904-47d6-8dff-514d581e05d5",
      "metadata": {
        "editable": false,
        "tags": [],
        "id": "c4692b9e-1904-47d6-8dff-514d581e05d5"
      },
      "source": [
        "### Rolando um dado de seis faces 6.000.000 de vezes\n",
        "\n",
        "A função `randrange()` supostamente amostra números aleatórios de uma distribuição uniforme. Se este é realmente o caso, cada número no intervalo considerado tem probabilidade igual de ser retornado cada vez que a chamamos. O programa a seguir simula 6.000.000 lançamentos de um dado de seis faces. Ao executá-lo, aguarde o tempo necessário (vai demorar um pouquinho) para que o programa realize o sorteio e imprima o número de vezes que cada face do dado foi sorteada (aproximadamente 1.000.000 de vezes)."
      ]
    },
    {
      "cell_type": "code",
      "execution_count": null,
      "id": "52644d49-7493-4ed7-939c-4772d0c1d4ee",
      "metadata": {
        "editable": true,
        "tags": [],
        "id": "52644d49-7493-4ed7-939c-4772d0c1d4ee",
        "colab": {
          "base_uri": "https://localhost:8080/"
        },
        "outputId": "560f9e31-4fdb-49bd-db4e-7355508dcf77"
      },
      "outputs": [
        {
          "output_type": "stream",
          "name": "stdout",
          "text": [
            "Face   Frequência\n",
            "   1      1000653\n",
            "   2      1000123\n",
            "   3      1000050\n",
            "   4       998728\n",
            "   5       999722\n",
            "   6      1000724\n"
          ]
        }
      ],
      "source": [
        "\n",
        "\"\"\"Rola um dado de seis faces 6.000.000 de vezes.\"\"\"\n",
        "import random\n",
        "\n",
        "# contadores de frequência\n",
        "frequencia1 = 0\n",
        "frequencia2 = 0\n",
        "frequencia3 = 0\n",
        "frequencia4 = 0\n",
        "frequencia5 = 0\n",
        "frequencia6 = 0\n",
        "\n",
        "# simula 6.000.000 de lançamentos\n",
        "for lance in range(6_000_000):  # note o separador (_)\n",
        "    face = random.randrange(1, 7)\n",
        "\n",
        "    # incrementa o contador apropriado\n",
        "    if face == 1:\n",
        "        frequencia1 += 1\n",
        "    elif face == 2:\n",
        "        frequencia2 += 1\n",
        "    elif face == 3:\n",
        "        frequencia3 += 1\n",
        "    elif face == 4:\n",
        "        frequencia4 += 1\n",
        "    elif face == 5:\n",
        "        frequencia5 += 1\n",
        "    elif face == 6:\n",
        "        frequencia6 += 1\n",
        "\n",
        "print(f'Face{\"Frequência\":>13}')\n",
        "print(f'{1:>4}{frequencia1:>13}')\n",
        "print(f'{2:>4}{frequencia2:>13}')\n",
        "print(f'{3:>4}{frequencia3:>13}')\n",
        "print(f'{4:>4}{frequencia4:>13}')\n",
        "print(f'{5:>4}{frequencia5:>13}')\n",
        "print(f'{6:>4}{frequencia6:>13}')"
      ]
    },
    {
      "cell_type": "markdown",
      "id": "8ea4e9be-129e-4aec-9bc2-acf02a4ad930",
      "metadata": {
        "editable": true,
        "tags": [],
        "id": "8ea4e9be-129e-4aec-9bc2-acf02a4ad930"
      },
      "source": [
        "O programa usa instruções `if...elif` aninhadas na instrução `for` para determinar o número de vezes que cada face do dado aparece. A instrução `for` itera 6.000.000 vezes. Usamos o separador de dígitos sublinhado (_) do Python para tornar o valor 6000000 mais legível. Para cada lançamento de dado, o programa adiciona 1 ao contador apropriado. Este programa pode levar alguns segundos para concluir a execução. Note que cada execução produz resultados diferentes."
      ]
    },
    {
      "cell_type": "markdown",
      "id": "8d6b4d05-82ff-4885-b5c5-7941488309a3",
      "metadata": {
        "editable": true,
        "tags": [],
        "id": "8d6b4d05-82ff-4885-b5c5-7941488309a3"
      },
      "source": [
        "##  Reprodutibilidade do Gerador de Números Aleatórios para"
      ]
    },
    {
      "cell_type": "markdown",
      "id": "eb894415-73d0-4428-82f6-154eac9fec40",
      "metadata": {
        "editable": true,
        "tags": [],
        "id": "eb894415-73d0-4428-82f6-154eac9fec40"
      },
      "source": [
        "A função `randrange()` na verdade gera **números pseudoaleatórios**, com base em um cálculo interno que começa com um valor numérico conhecido como semente (**seed**). Chamar `randrange()` repetidamente produz uma sequência de números que parece aleatória, porque cada vez que iniciamos uma nova sessão interativa ou executamos um script que usa as funções do módulo aleatório, Python usa internamente um valor inicial diferente para a semente. Porém, quando depuramos erros de lógica em programas que usam dados gerados aleatoriamente, pode ser útil usar a mesma sequência de números aleatórios até eliminar os erros lógicos, antes de testar o programa com outros valores. Para isso, usamos a função **seed** do módulo `random` para inicializar o gerador de números aleatórios, forçando `randrange()` a começar a calcular sua sequência de números pseudoaleatórios a partir da semente que você especificar."
      ]
    },
    {
      "cell_type": "code",
      "execution_count": null,
      "id": "0c75e985-ff51-465b-a15a-a6431d425c1e",
      "metadata": {
        "editable": true,
        "tags": [],
        "id": "0c75e985-ff51-465b-a15a-a6431d425c1e"
      },
      "outputs": [],
      "source": [
        "import random\n",
        "\n",
        "random.seed(56)\n",
        "\n",
        "for roll in range(10):\n",
        "    print(random.randrange(1, 10), end=' ')"
      ]
    },
    {
      "cell_type": "code",
      "execution_count": null,
      "id": "b4476c90-3bf4-4011-8974-6062c639933a",
      "metadata": {
        "editable": true,
        "tags": [],
        "id": "b4476c90-3bf4-4011-8974-6062c639933a"
      },
      "outputs": [],
      "source": [
        "for roll in range(10):\n",
        "    print(random.randrange(1, 10), end=' ')"
      ]
    },
    {
      "cell_type": "code",
      "execution_count": null,
      "id": "abc4c8d9-be6f-4bcf-b4f9-81a5e20b3ed1",
      "metadata": {
        "editable": true,
        "tags": [],
        "id": "abc4c8d9-be6f-4bcf-b4f9-81a5e20b3ed1"
      },
      "outputs": [],
      "source": [
        "random.seed(56)\n",
        "\n",
        "for roll in range(10):\n",
        "    print(random.randrange(1, 10), end=' ')"
      ]
    },
    {
      "cell_type": "code",
      "execution_count": null,
      "id": "9339559f-b1cc-4b32-9f62-40d7f862a48e",
      "metadata": {
        "editable": true,
        "tags": [],
        "id": "9339559f-b1cc-4b32-9f62-40d7f862a48e"
      },
      "outputs": [],
      "source": [
        "for roll in range(10):\n",
        "    print(random.randrange(1, 10), end=' ')"
      ]
    },
    {
      "cell_type": "markdown",
      "id": "2e2c05da-6256-4700-942b-3ae8fdd266f2",
      "metadata": {
        "editable": true,
        "tags": [],
        "id": "2e2c05da-6256-4700-942b-3ae8fdd266f2"
      },
      "source": [
        "**_Exercício:_** Use um comando `for`, a função `randrange` e uma expressão condicional para simular 20 lançamentos de moeda, exibindo `C` para cara e `K` para coroa, todos na mesma linha, cada um separado por um espaço."
      ]
    },
    {
      "cell_type": "code",
      "execution_count": null,
      "id": "6e2aa7ec-4c57-4abd-bf1f-151574bd63b4",
      "metadata": {
        "editable": true,
        "tags": [],
        "id": "6e2aa7ec-4c57-4abd-bf1f-151574bd63b4"
      },
      "outputs": [],
      "source": [
        "import random\n",
        "\n",
        "for i in range(20):\n",
        "    lance = random.randrange(1, 3) # cara 1; coroa 2\n",
        "    if lance == 1:\n",
        "        print('C', end=' ')\n",
        "    else:\n",
        "        print('K', end=' ')"
      ]
    },
    {
      "cell_type": "markdown",
      "id": "e346799c-fd1b-42dd-bf82-58062bfc291d",
      "metadata": {
        "editable": true,
        "tags": [],
        "id": "e346799c-fd1b-42dd-bf82-58062bfc291d"
      },
      "source": [
        "# 3.4 Estudo de Caso\n",
        "\n",
        "Vamos agora implementar um programa que simula um jogo de dados conhecido como “craps”. Os requisitos do programa, extraídos das regras do jogo, são os seguintes:\n",
        "* Dois dados de seis lados são lançados. Quando os dados param, calculamos a soma dos pontos das duas faces voltadas para cima.\n",
        "* Se a soma for 7 ou 11 no primeiro lançamento, o jogador ganha. Se a soma for 2, 3 ou 12 no primeiro lançamento (chamado “craps”), o jogador perde (ou seja, a “casa” ganha).\n",
        "* Se a soma for 4, 5, 6, 8, 9 ou 10 no primeiro lançamento, essa soma se torna sua referência. Para vencer, você deve continuar lançando os dados até que a soma dê novamente o valor de referência.\n",
        "* Você perde se tirar um 7 antes da pontuação de referência.\n",
        "\n",
        "O script a seguir simula o jogo e mostra vários exemplos de execuções, ilustrando a vitória no primeiro lançamento, a derrota no primeiro lançamento, a vitória no lançamento subsequente e a perda no lançamento subsequente."
      ]
    },
    {
      "cell_type": "code",
      "execution_count": null,
      "id": "89ad9fa8-a59a-4516-b414-9ec4ccc79a81",
      "metadata": {
        "editable": true,
        "tags": [],
        "id": "89ad9fa8-a59a-4516-b414-9ec4ccc79a81"
      },
      "outputs": [],
      "source": [
        "\"\"\"Simulando o jogo Craps.\"\"\"\n",
        "\n",
        "import random\n",
        "\n",
        "def roll_dice():\n",
        "    \"\"\"Rola dois dados e retorna os valores em suas faces como uma tupla.\"\"\"\n",
        "\n",
        "    dado1 = random.randrange(1, 7)\n",
        "    dado2 = random.randrange(1, 7)\n",
        "    return (dado1, dado2)  # enpacota os valores em uma tupla\n",
        "\n",
        "def display_dice(dados):\n",
        "    \"\"\"Mostra o resultado de lançamento de dois dados.\"\"\"\n",
        "\n",
        "    dado1, dado2 = dados  # desempacota a tupla nas variáveis dado1 e dado2\n",
        "    print(f'Jogador lançou {dado1} + {dado2} = {sum(dados)}')\n",
        "\n",
        "valor_dados = roll_dice()  # primeiro lancamento\n",
        "display_dice(valor_dados)\n",
        "\n",
        "# determina o status do jogo, baseado no primeiro lançamento\n",
        "soma_dos_dados = sum(valor_dados) # sum() é uma função do Python que soma os valores de uma tupla\n",
        "\n",
        "if soma_dos_dados in (7, 11):       # equivalente a (soma_dos_dados == 7) or (soma_dos_dados == 11)\n",
        "    game_status = 'GANHOU'\n",
        "elif soma_dos_dados in (2, 3, 12):  # equivalente a (soma_dos_dados == 2) or (soma_dos_dados == 3) or (soma_dos_dados == 12)\n",
        "    game_status = 'PERDEU'\n",
        "else:\n",
        "    game_status = 'CONTINUE'\n",
        "    meus_pontos = soma_dos_dados\n",
        "    print('Minha pontuação é:', meus_pontos)\n",
        "\n",
        "# continua lançando até ganhar ou perder\n",
        "while game_status == 'CONTINUE':\n",
        "    valor_dados = roll_dice() # lança novamente o dado\n",
        "    display_dice(valor_dados) # mostra os valores\n",
        "    soma_dos_dados = sum(valor_dados) # soma os valores\n",
        "\n",
        "    if soma_dos_dados == meus_pontos:\n",
        "        game_status = 'GANHOU'\n",
        "    elif soma_dos_dados == 7:\n",
        "        game_status = 'PERDEU'\n",
        "\n",
        "# mostra a mensagem final\n",
        "if game_status == 'GANHOU':\n",
        "    print('Jogador Ganhou!')\n",
        "elif game_status == 'PERDEU':\n",
        "    print('Jogador Perdeu!')"
      ]
    },
    {
      "cell_type": "markdown",
      "id": "24385415-199a-4883-9de5-d043199a17e8",
      "metadata": {
        "editable": true,
        "tags": [],
        "id": "24385415-199a-4883-9de5-d043199a17e8"
      },
      "source": [
        "## Explicação Adicional\n",
        "### Função `roll_dice()`\n",
        "A função `roll_dice()` simula o lançamento de dois dados. Ela é definida uma vez, e depois chamada de vários locais do programa. A lista de parâmetros vazia indica que `roll_dice()` não requer argumentos para executar sua tarefa.\n",
        "\n",
        "Cada uma das funções integradas e personalizadas que chamamos até agora retorna um valor. Entretanto, às vezes é útil retornar mais de um valor, como em `roll_dice()`, que retorna os valores das faces de dois dados empacotados em uma tupla – uma sequência imutável (não modificável) de valores. Uma tupla é criada entre parênteses com os valores separados por vírgulas: (valor1, valor2). Isso é conhecido como empacotamento com tupla. Os parênteses são opcionais, mas recomendamos usá-los para maior clareza. Discutiremos tuplas com mais profundidade em aulas subsequentes.\n",
        "\n",
        "### Função `display_dice()`\n",
        "Para extrair os valores de uma tupla, a atribuímos a uma lista de variáveis ​​separadas por vírgula, descompactando-a. O número de variáveis ​​à esquerda da atribuição deve corresponder ao número de elementos da tupla. Caso contrário, ocorrerá um erro do tipo `ValueError`. Note que as funções `roll_dice()` e `display_dice()` contêm variáveis ​​locais chamadas `dado1` e `dado2`. Apesar de possuirem o mesmo nome, essas variáveis ​​não “colidirão”, porque pertencem a blocos de funções diferentes. Cada variável local é acessível apenas no bloco onde foi definida. Isso é chamado de escopo da variável.\n"
      ]
    },
    {
      "cell_type": "markdown",
      "id": "8d7d209b-ed18-42a2-814f-151a6555f34e",
      "metadata": {
        "editable": true,
        "tags": [],
        "id": "8d7d209b-ed18-42a2-814f-151a6555f34e"
      },
      "source": [
        "**_Exercício:_** Crie uma tupla chamada `estudante` empacotando o nome `'Sue'` e uma lista de notas `[89, 94, 85]`. Mostre a tupla, e então a desempacote nas variáveis `nome` e `notas`, e mostre os valores."
      ]
    },
    {
      "cell_type": "markdown",
      "id": "b0f5d0fb-59af-429b-8663-582947a9a050",
      "metadata": {
        "tags": [],
        "id": "b0f5d0fb-59af-429b-8663-582947a9a050"
      },
      "source": [
        "# 3.5 Biblioteca Padrão de Python\n",
        "Sempre que programamos, devemos evitar “reinventar a roda”. A prática normal, consiste em escrever programas combinando funções e classes personalizadas com funções e classes preexistentes definidas em módulos, como aqueles da biblioteca Padrão Python e outras bibliotecas.\n",
        "\n",
        "Um módulo é um arquivo que agrupa funções, dados e classes relacionadas. Por exemplo, o tipo `Decimal` do módulo `decimal` da biblioteca Padrão Python é uma classe. Um pacote agrupa módulos relacionados. Neste curso trabalharemos com muitos módulos e pacotes preexistentes, mas também criaremos nossos próprios módulos personalizados. Na verdade, todo arquivo de código-fonte Python (.py) é um módulo. A criação de pacotes está além do escopo deste curso. Eles normalmente são usados ​​para organizar a funcionalidade de uma grande biblioteca em subconjuntos menores que são mais fáceis de manter e podem ser importados separadamente por conveniência. Por exemplo, a biblioteca de visualização `matplotlib`, que usaremos adiante, possui uma extensa funcionalidade (sua documentação tem mais de 2.300 páginas). Por isso, importaremos apenas os subconjuntos que precisamos em nossos programas.\n",
        "\n",
        "A biblioteca Padrão Python é fornecida com a linguagem Python principal. Seus pacotes e módulos contêm recursos para uma ampla variedade de tarefas cotidianas de programação. Uma listagem completa dos módulos da biblioteca padrão pode ser encontrada em https://docs.python.org/3/library/. Já usamos alguns de seus recursos quando importamos os módulos `decimal`, `statistics` e `random`. A seguir apresentamos algumas funções matemáticas do módulo `math`."
      ]
    },
    {
      "cell_type": "code",
      "execution_count": null,
      "id": "c7b99473-a132-4e51-af82-7b7102d2d359",
      "metadata": {
        "editable": true,
        "tags": [],
        "id": "c7b99473-a132-4e51-af82-7b7102d2d359"
      },
      "outputs": [],
      "source": [
        "import math # módulo que define funções matemáticas"
      ]
    },
    {
      "cell_type": "code",
      "execution_count": null,
      "id": "29bad6f5-ce83-4cc3-b77c-1117b3c3e461",
      "metadata": {
        "editable": true,
        "tags": [],
        "id": "29bad6f5-ce83-4cc3-b77c-1117b3c3e461"
      },
      "outputs": [],
      "source": [
        "math.sqrt(900) # raiz quadrada"
      ]
    },
    {
      "cell_type": "code",
      "execution_count": null,
      "id": "0866c7ae-7a44-4c1a-9793-a37a65ebc3dc",
      "metadata": {
        "editable": true,
        "tags": [],
        "id": "0866c7ae-7a44-4c1a-9793-a37a65ebc3dc"
      },
      "outputs": [],
      "source": [
        "math.fabs(-10) # valor absoluto"
      ]
    },
    {
      "cell_type": "code",
      "execution_count": null,
      "id": "24f75513-dfed-4539-aa4e-2ec605c0bd06",
      "metadata": {
        "editable": true,
        "tags": [],
        "id": "24f75513-dfed-4539-aa4e-2ec605c0bd06"
      },
      "outputs": [],
      "source": [
        "math.fmod(10, 3) # resto da divisão 10 / 3"
      ]
    },
    {
      "cell_type": "code",
      "execution_count": null,
      "id": "ce339d7a-ef26-447e-9bac-3811341d5710",
      "metadata": {
        "editable": true,
        "tags": [],
        "id": "ce339d7a-ef26-447e-9bac-3811341d5710"
      },
      "outputs": [],
      "source": [
        "math.ceil(4.4) # arredonda para cima"
      ]
    },
    {
      "cell_type": "code",
      "execution_count": null,
      "id": "5e40016e-744a-4932-a52e-8b34a5aef0c0",
      "metadata": {
        "editable": true,
        "tags": [],
        "id": "5e40016e-744a-4932-a52e-8b34a5aef0c0"
      },
      "outputs": [],
      "source": [
        "math.floor(4.7) # arredonda para baixo"
      ]
    },
    {
      "cell_type": "code",
      "execution_count": null,
      "id": "84737b2b-9095-45e5-bc00-4da26b3fa4b8",
      "metadata": {
        "editable": true,
        "tags": [],
        "id": "84737b2b-9095-45e5-bc00-4da26b3fa4b8"
      },
      "outputs": [],
      "source": [
        "math.sin(1.3) # seno"
      ]
    },
    {
      "cell_type": "code",
      "execution_count": null,
      "id": "694abb48-4185-4895-87a7-eb2c62c4f8e9",
      "metadata": {
        "editable": true,
        "tags": [],
        "id": "694abb48-4185-4895-87a7-eb2c62c4f8e9"
      },
      "outputs": [],
      "source": [
        "math.cos(1.3) # conseno"
      ]
    },
    {
      "cell_type": "code",
      "execution_count": null,
      "id": "9c638b2a-42b2-406d-92bd-1f421c9368e0",
      "metadata": {
        "editable": true,
        "tags": [],
        "id": "9c638b2a-42b2-406d-92bd-1f421c9368e0"
      },
      "outputs": [],
      "source": [
        "math.tan(1.3) # tangente"
      ]
    },
    {
      "cell_type": "code",
      "execution_count": null,
      "id": "ffe75eb4-1fa6-4ec6-b08d-1ca9497f00e7",
      "metadata": {
        "editable": true,
        "tags": [],
        "id": "ffe75eb4-1fa6-4ec6-b08d-1ca9497f00e7"
      },
      "outputs": [],
      "source": [
        "math.exp(2.0) # exponencial e^(2.0)"
      ]
    },
    {
      "cell_type": "code",
      "execution_count": null,
      "id": "2d07fdc7-e592-42b3-8ffa-0841cf11330a",
      "metadata": {
        "editable": true,
        "tags": [],
        "id": "2d07fdc7-e592-42b3-8ffa-0841cf11330a"
      },
      "outputs": [],
      "source": [
        "math.log(5.0) # logaritmo base e"
      ]
    },
    {
      "cell_type": "code",
      "execution_count": null,
      "id": "1fa3a777-b062-4360-b974-c75895086d8e",
      "metadata": {
        "editable": true,
        "tags": [],
        "id": "1fa3a777-b062-4360-b974-c75895086d8e"
      },
      "outputs": [],
      "source": [
        "math.log10(5.0) # logaritmo base 10"
      ]
    },
    {
      "cell_type": "code",
      "execution_count": null,
      "id": "d3fcf7cc-af6d-46e8-97d4-88f7851bd57d",
      "metadata": {
        "editable": true,
        "tags": [],
        "id": "d3fcf7cc-af6d-46e8-97d4-88f7851bd57d"
      },
      "outputs": [],
      "source": [
        "math.pow(2.0, 3.0) # potenciação 2.0^(3.0)"
      ]
    },
    {
      "cell_type": "markdown",
      "id": "1bd0ce42-2119-4201-97b2-a3f01b420083",
      "metadata": {
        "editable": false,
        "tags": [],
        "id": "1bd0ce42-2119-4201-97b2-a3f01b420083"
      },
      "source": [
        "# 3.6 Valores de Parâmetros Default\n",
        "\n",
        "Ao definir uma função, podemos especificar que um parâmetro tenha um valor padrão. Ao chamar a função, se o argumento de um dos parâmetros com valor padrão for omitido, o valor padrão desse parâmetro será passado automaticamente para a função. O exemplo abaixo define a função `area_retangulo` com valores padrão para os parâmetros `comprimento` e `largura`. Especificamos um valor padrão para um parâmetros seguindo o nome do parâmetro com = e um valor.  "
      ]
    },
    {
      "cell_type": "code",
      "execution_count": null,
      "id": "eef2d6c4-ed66-47a1-8865-243956697431",
      "metadata": {
        "editable": true,
        "tags": [],
        "id": "eef2d6c4-ed66-47a1-8865-243956697431"
      },
      "outputs": [],
      "source": [
        "def area_retangulo(comprimento=2, largura=3):\n",
        "    \"\"\"Retorna a área do retângulo.\"\"\"\n",
        "\n",
        "    return comprimento * largura"
      ]
    },
    {
      "cell_type": "markdown",
      "id": "227b1f48-e324-4f0d-a6b7-21d703a23975",
      "metadata": {
        "editable": true,
        "tags": [],
        "id": "227b1f48-e324-4f0d-a6b7-21d703a23975"
      },
      "source": [
        "Neste caso, os valores padrão para os parâmetros são 2 e 3 para comprimento e largura, respectivamente. Quaisquer parâmetros com valores padrão devem aparecer na lista de parâmetros à direita dos parâmetros que não possuem valores padrão. Note, a seguir, que a função `area_retangulo` pode ser chamada sem especificar argumentos para um ou mais parâmetros da função, pois eles foram definidos com valores padrão."
      ]
    },
    {
      "cell_type": "code",
      "execution_count": null,
      "id": "24f0b00b-5f6a-4d24-8ff9-b845cb49a3cc",
      "metadata": {
        "editable": true,
        "tags": [],
        "id": "24f0b00b-5f6a-4d24-8ff9-b845cb49a3cc"
      },
      "outputs": [],
      "source": [
        "area_retangulo()"
      ]
    },
    {
      "cell_type": "code",
      "execution_count": null,
      "id": "6ee354c9-3393-4bdf-a41d-8b58f0baf16f",
      "metadata": {
        "editable": true,
        "tags": [],
        "id": "6ee354c9-3393-4bdf-a41d-8b58f0baf16f"
      },
      "outputs": [],
      "source": [
        "area_retangulo(10)"
      ]
    },
    {
      "cell_type": "code",
      "execution_count": null,
      "id": "2a645af6-05c0-4f0e-9a8d-6d3ed7c688c4",
      "metadata": {
        "editable": true,
        "tags": [],
        "id": "2a645af6-05c0-4f0e-9a8d-6d3ed7c688c4"
      },
      "outputs": [],
      "source": [
        "area_retangulo(10, 5)"
      ]
    },
    {
      "cell_type": "markdown",
      "id": "316724dd-b7ff-4a25-9d4b-9da691f1e741",
      "metadata": {
        "editable": true,
        "tags": [],
        "id": "316724dd-b7ff-4a25-9d4b-9da691f1e741"
      },
      "source": [
        "A chamada `area_retangulo(10)` possui apenas um argumento. Os argumentos são atribuídos aos parâmetros da esquerda para a direita, portanto 10 é usado como `comprimento`. O interpretador passa o valor do parâmetro padrão 3 para a `largura` como se tivessemos chamado `area_retangulo(10, 3)`."
      ]
    },
    {
      "cell_type": "markdown",
      "id": "aa5bea70-e81e-4184-8920-724239e3ab20",
      "metadata": {
        "editable": false,
        "tags": [],
        "id": "aa5bea70-e81e-4184-8920-724239e3ab20"
      },
      "source": [
        "# 3.7 Palavra-Chave de Argumentos\n",
        "Ao chamar funções, podemos passar argumentos em qualquer ordem usando o nome do parâmetro como palavra-chave para identificação. Para exemplificar, redefinimos a função `area_retangulo`, desta vez sem valores padrão para os parâmetros:\n"
      ]
    },
    {
      "cell_type": "code",
      "execution_count": null,
      "id": "5de2789f-2d7e-4b0d-878b-e3bdcaf7b3eb",
      "metadata": {
        "editable": true,
        "tags": [],
        "id": "5de2789f-2d7e-4b0d-878b-e3bdcaf7b3eb"
      },
      "outputs": [],
      "source": [
        "def area_retangulo(comprimento, largura):\n",
        "    \"\"\"Retorna a area do retângulo.\"\"\"\n",
        "\n",
        "    print(f'Comprimento = {comprimento}, Largura = {largura}')\n",
        "    return comprimento * largura"
      ]
    },
    {
      "cell_type": "markdown",
      "id": "4f00d2a6-6a7a-4667-96a8-bf60f5d67c93",
      "metadata": {
        "editable": false,
        "tags": [],
        "id": "4f00d2a6-6a7a-4667-96a8-bf60f5d67c93"
      },
      "source": [
        "A chamada a seguir mostra que a ordem dos argumentos não importa quando as palavras chave são usadas. Ou seja, eles não precisam corresponder às posições dos parâmetros na definição da função."
      ]
    },
    {
      "cell_type": "code",
      "execution_count": null,
      "id": "23d56172-d3b3-4d5a-8c87-aa1ff0fcfb47",
      "metadata": {
        "id": "23d56172-d3b3-4d5a-8c87-aa1ff0fcfb47"
      },
      "outputs": [],
      "source": [
        "area_retangulo(20, 5)"
      ]
    },
    {
      "cell_type": "code",
      "execution_count": null,
      "id": "63e8734b-5b72-4e94-bb75-bbba10d8596f",
      "metadata": {
        "editable": true,
        "tags": [],
        "id": "63e8734b-5b72-4e94-bb75-bbba10d8596f"
      },
      "outputs": [],
      "source": [
        "area_retangulo(largura=4, comprimento=30)"
      ]
    },
    {
      "cell_type": "markdown",
      "id": "69d5db20-0842-4c85-8e4f-7c6601f8b89e",
      "metadata": {
        "editable": true,
        "tags": [],
        "id": "69d5db20-0842-4c85-8e4f-7c6601f8b89e"
      },
      "source": [
        "Em cada chamada de função, os argumentos especificados com palavra-chave devem ser colocados após os argumentos posicionais, isto é,  quaisquer argumentos para os quais você não especifica o nome do parâmetro. Tais argumentos são atribuídos aos parâmetros da função da esquerda para a direita, com base nas posições do argumento na lista de argumentos. Argumentos especificados com palavras-chave também são úteis para melhorar a legibilidade das chamadas de funções, especialmente para funções com muitos parâmetros."
      ]
    },
    {
      "cell_type": "markdown",
      "id": "abfcbdbb-0ced-4318-8962-747ec0ddea31",
      "metadata": {
        "editable": false,
        "tags": [],
        "id": "abfcbdbb-0ced-4318-8962-747ec0ddea31"
      },
      "source": [
        "# 3.8 Lista de Argumento Arbitrária\n",
        "\n",
        "Funções com listas de argumentos arbitrárias, como as funções internas `min()` e `max()`, podem\n",
        "receber qualquer número de argumentos. Observe as chamada abaixo e note o número variável de argumentos usados."
      ]
    },
    {
      "cell_type": "code",
      "execution_count": null,
      "id": "4109da70-41c7-4273-b13e-98b512a1cad4",
      "metadata": {
        "editable": true,
        "tags": [],
        "id": "4109da70-41c7-4273-b13e-98b512a1cad4"
      },
      "outputs": [],
      "source": [
        "min(1, 5, 10)"
      ]
    },
    {
      "cell_type": "code",
      "execution_count": null,
      "id": "72a5446a-8036-4549-862c-40d07589979f",
      "metadata": {
        "editable": true,
        "tags": [],
        "id": "72a5446a-8036-4549-862c-40d07589979f"
      },
      "outputs": [],
      "source": [
        "min(88, 75, 96, 55, 83)"
      ]
    },
    {
      "cell_type": "code",
      "execution_count": null,
      "id": "10cf910b-c07f-4e5c-b06d-781f51a02245",
      "metadata": {
        "editable": true,
        "tags": [],
        "id": "10cf910b-c07f-4e5c-b06d-781f51a02245"
      },
      "outputs": [],
      "source": [
        "min(4, 20, 7, 32, -1, -4, 22, 35)"
      ]
    },
    {
      "cell_type": "markdown",
      "id": "e953daa4-a5bc-4ba8-8bf0-e3811e576128",
      "metadata": {
        "editable": false,
        "tags": [],
        "id": "e953daa4-a5bc-4ba8-8bf0-e3811e576128"
      },
      "source": [
        "A documentação diz qua a função `min()` possui dois parâmetros obrigatórios (chamados arg1 e arg2) e um terceiro parâmetro opcional no formato `*args`, indicando que a função pode receber qualquer número de argumentos adicionais. O * antes do nome do parâmetro diz ao Python para empacotar quaisquer argumentos restantes em uma tupla que é passada para o parâmetro `args`. Na chamada acima, o parâmetro arg1 recebe 88, o parâmetro arg2 recebe 75 e o parâmetro args recebe a tupla (96, 55, 83)."
      ]
    },
    {
      "cell_type": "markdown",
      "id": "a25803e3-b323-4c7b-86c1-99df739488c9",
      "metadata": {
        "editable": false,
        "tags": [],
        "id": "a25803e3-b323-4c7b-86c1-99df739488c9"
      },
      "source": [
        "## Definindo uma Função com Número de Argumentos Arbitrário\n",
        "\n",
        "Vamos definir uma função para cálculo de média que pode receber qualquer número de argumentos. Usaremos `*args` como nome do parâmetro, mas você pode usar qualquer identificador que preferir. Se a função tiver mais de um parâmetros, o parâmetro `*args` deverá ser o parâmetro mais à direita.\n",
        "\n",
        "Para calcular a média, somamos todos os argumentos, incluindo os elementos da tupla `args` (retornado pela função integrada `sum()`), e dividimos pelo número de elementos (o número de elementos da tupla pode ser obtido pela função integrada `len()`)."
      ]
    },
    {
      "cell_type": "code",
      "execution_count": null,
      "id": "b4b2aae3-f558-45a5-819d-d52d1fc44bb9",
      "metadata": {
        "editable": true,
        "tags": [],
        "id": "b4b2aae3-f558-45a5-819d-d52d1fc44bb9"
      },
      "outputs": [],
      "source": [
        "def media(valor1, *args):\n",
        "    return (sum(args) + valor1) / (len(args) + 1)"
      ]
    },
    {
      "cell_type": "markdown",
      "id": "a3c430ba-7b19-47b8-90e0-49eb3830954f",
      "metadata": {
        "editable": true,
        "tags": [],
        "id": "a3c430ba-7b19-47b8-90e0-49eb3830954f"
      },
      "source": [
        "Agora vamos chamar a função `media()` várias vezes com listas de argumentos de comprimentos diferentes:"
      ]
    },
    {
      "cell_type": "code",
      "execution_count": null,
      "id": "9f521097-ce07-4942-94cd-3d656d34f5e1",
      "metadata": {
        "editable": true,
        "tags": [],
        "id": "9f521097-ce07-4942-94cd-3d656d34f5e1"
      },
      "outputs": [],
      "source": [
        "media(10, 5)"
      ]
    },
    {
      "cell_type": "code",
      "execution_count": null,
      "id": "3cd6e9d2-0d6f-41a4-bbc3-82bf836dd215",
      "metadata": {
        "editable": true,
        "tags": [],
        "id": "3cd6e9d2-0d6f-41a4-bbc3-82bf836dd215"
      },
      "outputs": [],
      "source": [
        "media(5, 10, 15)"
      ]
    },
    {
      "cell_type": "code",
      "execution_count": null,
      "id": "fc4f07c1-a940-48ad-99c7-34ab9ac1c994",
      "metadata": {
        "editable": true,
        "tags": [],
        "id": "fc4f07c1-a940-48ad-99c7-34ab9ac1c994"
      },
      "outputs": [],
      "source": [
        "media(5, 10, 15, 20)"
      ]
    },
    {
      "cell_type": "markdown",
      "id": "45b2331d-c15d-4c87-b119-d40cd7c603ec",
      "metadata": {
        "editable": false,
        "tags": [],
        "id": "45b2331d-c15d-4c87-b119-d40cd7c603ec"
      },
      "source": [
        "Na chamada de funções com número de argumentos arbitrário, tal como `media()`, podemos passar uma tupla, lista ou outros estruturas iteráveis. O operador *, quando aplicado a um argumento iterável em uma chamada de função, descompacta seus elementos. O exemplo seguir cria uma lista de notas com cinco elementos e, em seguida, usa a expressão `*notas` para descompactar seus elementos e passá-los como argumento para a função `media()`:"
      ]
    },
    {
      "cell_type": "code",
      "execution_count": null,
      "id": "db904099-b632-42d9-9ac3-ac65864aba4e",
      "metadata": {
        "editable": true,
        "tags": [],
        "id": "db904099-b632-42d9-9ac3-ac65864aba4e"
      },
      "outputs": [],
      "source": [
        "notas = [88, 75, 96, 55, 83] # lista"
      ]
    },
    {
      "cell_type": "code",
      "execution_count": null,
      "id": "e16a7ce6-bd95-420b-8dc0-3cf72af1b00a",
      "metadata": {
        "editable": true,
        "tags": [],
        "id": "e16a7ce6-bd95-420b-8dc0-3cf72af1b00a"
      },
      "outputs": [],
      "source": [
        "media(*notas)"
      ]
    },
    {
      "cell_type": "markdown",
      "id": "8504c1c6-3c24-4ac4-803a-f6b8a9f6b024",
      "metadata": {
        "editable": true,
        "tags": [],
        "id": "8504c1c6-3c24-4ac4-803a-f6b8a9f6b024"
      },
      "source": [
        "**__Exercício:__** Crie uma função chamada `calcular_produto()` que receba uma lista arbitrária de argumentos e retorne o produto de todos os argumentos. Chame a função com os argumentos 10, 20 e 30 e depois com a sequência de inteiros produzida por range(1, 6, 2)."
      ]
    },
    {
      "cell_type": "code",
      "execution_count": null,
      "id": "4cdff966-f538-4cac-a58d-8ee73320666d",
      "metadata": {
        "id": "4cdff966-f538-4cac-a58d-8ee73320666d"
      },
      "outputs": [],
      "source": [
        "def calcular_produto(*args):\n",
        "    prod = 1\n",
        "    for i in range(len(args)):\n",
        "        prod *= args[i]\n",
        "\n",
        "    return prod"
      ]
    },
    {
      "cell_type": "code",
      "execution_count": null,
      "id": "7a0f1281-e65b-4a19-8c32-862de025ec99",
      "metadata": {
        "id": "7a0f1281-e65b-4a19-8c32-862de025ec99"
      },
      "outputs": [],
      "source": [
        "calcular_produto(10, 20, 30)"
      ]
    },
    {
      "cell_type": "code",
      "execution_count": null,
      "id": "21922e0b-e35b-435b-93ed-d2572265035d",
      "metadata": {
        "id": "21922e0b-e35b-435b-93ed-d2572265035d"
      },
      "outputs": [],
      "source": [
        "calcular_produto(*(range(1, 6, 2)))"
      ]
    },
    {
      "cell_type": "markdown",
      "id": "493df046-9def-4021-b415-740fd61bfe78",
      "metadata": {
        "editable": true,
        "tags": [],
        "id": "493df046-9def-4021-b415-740fd61bfe78"
      },
      "source": [
        "# 3.9 Métodos: Funções que Pertencem a Objetos\n",
        "\n",
        "Um método é simplesmente uma função que chamamos de um objeto usando a seguinte sintaxe: `nome_objeto.nome_método (argumentos)`. Para exemplificar, a seguir criamos a variável s e atribuímos a ela o objeto string 'Hello'. Em seguida, chamamos os métodos `lower()` e `upper()` do objeto, os quais produzem novas strings contendo versões da string original com todas as letras minúsculas e todas as letras maiúsculas, respectivamente, mas deixando s inalterada:"
      ]
    },
    {
      "cell_type": "code",
      "execution_count": null,
      "id": "137285da-a6d0-4958-8b81-62e54bc6a4e0",
      "metadata": {
        "editable": true,
        "tags": [],
        "id": "137285da-a6d0-4958-8b81-62e54bc6a4e0"
      },
      "outputs": [],
      "source": [
        "s = 'Hello' # s é uma referencia para um objeto string"
      ]
    },
    {
      "cell_type": "code",
      "execution_count": null,
      "id": "69af3b01-e349-47fb-86b5-5d97454d6081",
      "metadata": {
        "editable": true,
        "tags": [],
        "id": "69af3b01-e349-47fb-86b5-5d97454d6081"
      },
      "outputs": [],
      "source": [
        "s.lower()  # chama o método lower do objeto string referenciado por s"
      ]
    },
    {
      "cell_type": "code",
      "execution_count": null,
      "id": "eb629e93-24cb-4db4-982f-c2d7cb9fd4e5",
      "metadata": {
        "editable": true,
        "tags": [],
        "id": "eb629e93-24cb-4db4-982f-c2d7cb9fd4e5"
      },
      "outputs": [],
      "source": [
        "s3 = s.upper()"
      ]
    },
    {
      "cell_type": "code",
      "execution_count": null,
      "id": "46a79f04-b3ea-4678-a571-992875cc2d19",
      "metadata": {
        "editable": true,
        "tags": [],
        "id": "46a79f04-b3ea-4678-a571-992875cc2d19"
      },
      "outputs": [],
      "source": [
        "s"
      ]
    },
    {
      "cell_type": "markdown",
      "id": "1118fa41-025a-4372-8149-48648e223cfe",
      "metadata": {
        "editable": true,
        "tags": [],
        "id": "1118fa41-025a-4372-8149-48648e223cfe"
      },
      "source": [
        "# 3.10 Regras de Escopo\n",
        "\n",
        "Todo identificador possui um **escopo** que determina onde você pode usá-lo em seu programa. Para essa parte do programa onde o identificador é acessível, dizemos que ele está “no escopo”."
      ]
    },
    {
      "cell_type": "markdown",
      "id": "8e1b300e-3cba-4afd-a460-735f439c005c",
      "metadata": {
        "editable": false,
        "tags": [],
        "id": "8e1b300e-3cba-4afd-a460-735f439c005c"
      },
      "source": [
        "### Escopo Local\n",
        "O identificador de uma variável local possui escopo local. Em outras palavras,  uma variável local está “no escopo” desde sua definição até o final do bloco da função onde ela foi criada. Ela “sai do escopo” quando a função retorna ao seu chamador. Portanto, uma variável local só pode ser usada dentro da função que a define."
      ]
    },
    {
      "cell_type": "markdown",
      "id": "cf6e3cec-a3ea-496b-9767-e3b72438585d",
      "metadata": {
        "editable": false,
        "tags": [],
        "id": "cf6e3cec-a3ea-496b-9767-e3b72438585d"
      },
      "source": [
        "### Escopo de Classe\n",
        "\n",
        "O identificador de uma variável possui escopo de classe quando a variável é definida como membro da classe. Em outras palavras, uma variável local está “no escopo” desde sua definição até o final do bloco de definição da classe onde ela foi criada. Uma variável com escopo de classe existe enquando o objeto da qual é membro existir."
      ]
    },
    {
      "cell_type": "markdown",
      "id": "073e4c4f-8c48-4002-96f2-f2f900efb883",
      "metadata": {
        "editable": false,
        "tags": [],
        "id": "073e4c4f-8c48-4002-96f2-f2f900efb883"
      },
      "source": [
        "### Escopo Global\n",
        "\n",
        "Identificadores definidos fora de qualquer função (ou classe) têm escopo global. Variáveis ​​com escopo global são conhecidas como variáveis ​​globais. Identificadores com escopo global podem ser usados ​​em um arquivo .py ou em uma sessão interativa em qualquer lugar após serem definidos."
      ]
    },
    {
      "cell_type": "markdown",
      "id": "9e2b0554-a00e-446c-bf29-99a2fad6e66b",
      "metadata": {
        "editable": true,
        "tags": [],
        "id": "9e2b0554-a00e-446c-bf29-99a2fad6e66b"
      },
      "source": [
        "### Acessando uma Variável Global em uma Função\n",
        "\n",
        "Podemos acessar o valor de uma variável global dentro de uma função:"
      ]
    },
    {
      "cell_type": "code",
      "execution_count": null,
      "id": "74824b9e-422c-43fa-bff8-733a3aebd61f",
      "metadata": {
        "editable": true,
        "tags": [],
        "id": "74824b9e-422c-43fa-bff8-733a3aebd61f"
      },
      "outputs": [],
      "source": [
        "x = 7 # variável global"
      ]
    },
    {
      "cell_type": "code",
      "execution_count": null,
      "id": "f0f9f495-a762-40e3-8242-face0d5af5c2",
      "metadata": {
        "editable": true,
        "tags": [],
        "id": "f0f9f495-a762-40e3-8242-face0d5af5c2"
      },
      "outputs": [],
      "source": [
        "def access_global():\n",
        "    print('Acessando x dentro de access_global:', x)"
      ]
    },
    {
      "cell_type": "code",
      "execution_count": null,
      "id": "7f8742d6-be93-4718-b67e-d833bc45123d",
      "metadata": {
        "editable": true,
        "tags": [],
        "id": "7f8742d6-be93-4718-b67e-d833bc45123d"
      },
      "outputs": [],
      "source": [
        "access_global()"
      ]
    },
    {
      "cell_type": "markdown",
      "id": "47286b80-70c8-4cef-b72a-903ebff79e2c",
      "metadata": {
        "editable": true,
        "tags": [],
        "id": "47286b80-70c8-4cef-b72a-903ebff79e2c"
      },
      "source": [
        "No entanto, por padrão, em Python não é possível modificar uma variável global em uma função. Isso porque quando atribuímos pela primeira vez um valor a uma variável no bloco de uma função, Python cria uma nova variável local:"
      ]
    },
    {
      "cell_type": "code",
      "execution_count": null,
      "id": "a7bed582-6194-4ae7-94ee-7ecf5130401b",
      "metadata": {
        "editable": true,
        "tags": [],
        "id": "a7bed582-6194-4ae7-94ee-7ecf5130401b"
      },
      "outputs": [],
      "source": [
        "def try_to_modify_global():\n",
        "    x = 3.5\n",
        "    print('Acessando x em try_to_modify_global:', x)"
      ]
    },
    {
      "cell_type": "code",
      "execution_count": null,
      "id": "c958275a-229e-4fb7-a3bf-a03cfcf86443",
      "metadata": {
        "editable": true,
        "tags": [],
        "id": "c958275a-229e-4fb7-a3bf-a03cfcf86443",
        "outputId": "82070548-44da-4066-e9cf-147d239e8aa5"
      },
      "outputs": [
        {
          "name": "stdout",
          "output_type": "stream",
          "text": [
            "Acessando x em try_to_modify_global: 3.5\n"
          ]
        }
      ],
      "source": [
        "try_to_modify_global()"
      ]
    },
    {
      "cell_type": "code",
      "execution_count": null,
      "id": "36b4ca35-5aec-4b8d-8c28-a87b14b05944",
      "metadata": {
        "editable": true,
        "tags": [],
        "id": "36b4ca35-5aec-4b8d-8c28-a87b14b05944",
        "outputId": "9500bd92-7a07-484b-d882-85403ed50136"
      },
      "outputs": [
        {
          "data": {
            "text/plain": [
              "7"
            ]
          },
          "execution_count": 51,
          "metadata": {},
          "output_type": "execute_result"
        }
      ],
      "source": [
        "x"
      ]
    },
    {
      "cell_type": "markdown",
      "id": "7557f416-cfc0-4f21-b693-a493a1f8e510",
      "metadata": {
        "editable": true,
        "tags": [],
        "id": "7557f416-cfc0-4f21-b693-a493a1f8e510"
      },
      "source": [
        "No bloco da função `try_to_modify_global()`, o x local se sobrepõe o x global, tornando-o inacessível no escopo do bloco da função. Para modificar uma variável global em um bloco de função, você deve usar a instrução `global` para declarar que a variável está definida no escopo global:"
      ]
    },
    {
      "cell_type": "code",
      "execution_count": null,
      "id": "61fffa4a-c74e-48d3-926b-34ba97605f01",
      "metadata": {
        "editable": true,
        "tags": [],
        "id": "61fffa4a-c74e-48d3-926b-34ba97605f01"
      },
      "outputs": [],
      "source": [
        "def modify_global():\n",
        "    global x\n",
        "    x = 'hello'\n",
        "    print('Acessando x de modify_global:', x)\n"
      ]
    },
    {
      "cell_type": "code",
      "execution_count": null,
      "id": "672b517f-6d62-40b5-9dac-39e5b650f7b7",
      "metadata": {
        "editable": true,
        "tags": [],
        "id": "672b517f-6d62-40b5-9dac-39e5b650f7b7",
        "outputId": "ed8e677b-29c5-4c88-ceca-c6737bec1003"
      },
      "outputs": [
        {
          "name": "stdout",
          "output_type": "stream",
          "text": [
            "Acessando x de modify_global: hello\n"
          ]
        }
      ],
      "source": [
        "modify_global()"
      ]
    },
    {
      "cell_type": "code",
      "execution_count": null,
      "id": "6e526727-5732-4695-b7f1-c3e365352b3e",
      "metadata": {
        "editable": true,
        "tags": [],
        "id": "6e526727-5732-4695-b7f1-c3e365352b3e",
        "outputId": "ada9579f-c0a5-41c1-de84-15bfdf5436c4"
      },
      "outputs": [
        {
          "data": {
            "text/plain": [
              "'hello'"
            ]
          },
          "execution_count": 55,
          "metadata": {},
          "output_type": "execute_result"
        }
      ],
      "source": [
        "x"
      ]
    },
    {
      "cell_type": "markdown",
      "source": [
        "_**OBS.**: Variáveis globais devem ser usadas apenas em casos específicos, que realmente demandam este tipo de recurso. Na maioria das vezes são desnecessárias e devem ser evitadas sempre que possível. Variáveis globais são fonte de inconsistências na execução dos algoritmos e também podem ser fonte de falha de segurança._"
      ],
      "metadata": {
        "id": "u2dOloSkJePV"
      },
      "id": "u2dOloSkJePV"
    },
    {
      "cell_type": "markdown",
      "id": "58b9d08e-5b97-4f65-9e96-1e2f8e868a47",
      "metadata": {
        "editable": true,
        "tags": [],
        "id": "58b9d08e-5b97-4f65-9e96-1e2f8e868a47"
      },
      "source": [
        "### Mais Detalhes Sobre Escopo\n",
        "\n",
        "Quando criamos uma variável em um bloco, ela é local à esse bloco. Entretanto, quando você cria uma variável em um conjunto de instruções de controle, o escopo da variável depende de onde a instrução de controle está definida:\n",
        "* Se a instrução de controle estiver no escopo global, então quaisquer variáveis ​​definidas na instrução de controle terão escopo global.\n",
        "* Se a instrução de controle estiver em um bloco de função, então quaisquer variáveis ​​definidas na instrução de controle terão escopo local.\n",
        "\n",
        "### Sombreando Funções\n",
        "\n",
        "Se você definir uma variável em escopo global, com o mesmo nome de uma função integrada, ela ocultará a função integrada, tornando-a inacessível em seu código. No exemplo a seguir, quando executamos a atribuição, o Python vincula o identificador `sum` ao objeto int que contém 15. A partir desse ponto, o identificador `sum` não faz mais referência à função integrada. Então, quando você tentar usar `sum()` como uma função, ocorre um erro do tipo `TypeError`:"
      ]
    },
    {
      "cell_type": "code",
      "execution_count": null,
      "id": "9fd670dd-ca5d-4384-b0d1-407fa672b7be",
      "metadata": {
        "id": "9fd670dd-ca5d-4384-b0d1-407fa672b7be"
      },
      "outputs": [],
      "source": [
        "sum((1, 2, 3, 4))"
      ]
    },
    {
      "cell_type": "code",
      "execution_count": null,
      "id": "21129feb-9b50-4fb6-b3c4-b04876041503",
      "metadata": {
        "editable": true,
        "tags": [],
        "id": "21129feb-9b50-4fb6-b3c4-b04876041503"
      },
      "outputs": [],
      "source": [
        "sum = 10 + 5"
      ]
    },
    {
      "cell_type": "code",
      "execution_count": null,
      "id": "56bc64b5-9a85-4ffb-a105-54caa7d3f45e",
      "metadata": {
        "editable": true,
        "tags": [],
        "id": "56bc64b5-9a85-4ffb-a105-54caa7d3f45e"
      },
      "outputs": [],
      "source": [
        "sum"
      ]
    },
    {
      "cell_type": "code",
      "execution_count": null,
      "id": "adc78b7d-c060-432d-99c6-a26812bbe891",
      "metadata": {
        "editable": true,
        "tags": [],
        "id": "adc78b7d-c060-432d-99c6-a26812bbe891"
      },
      "outputs": [],
      "source": [
        "sum([10, 5])"
      ]
    },
    {
      "cell_type": "markdown",
      "id": "1b0bfa05-dfa6-42f5-a525-7bbd3ced3493",
      "metadata": {
        "editable": true,
        "tags": [],
        "id": "1b0bfa05-dfa6-42f5-a525-7bbd3ced3493"
      },
      "source": [
        "### Comandos em Escopo Global\n",
        "\n",
        "Nos programas que vimos até agora, escrevemos instruções fora das funções no escopo global e algumas instruções dentro de blocos de funções. As instruções no escopo global são executadas assim que são encontradas pelo interpretador, enquanto as instruções em um bloco de função são executadas somente quando a função é chamada."
      ]
    },
    {
      "cell_type": "markdown",
      "id": "5abbe386-29b1-4842-a5e6-513f33c64f45",
      "metadata": {
        "editable": false,
        "tags": [],
        "id": "5abbe386-29b1-4842-a5e6-513f33c64f45"
      },
      "source": [
        "# 3.11 O comando `import`\n",
        "Já usamos o comando `import` para importar módulos e usar seus recursos. Vamos agora explorar um pouco mais de detalhes."
      ]
    },
    {
      "cell_type": "markdown",
      "id": "1f146fe0-8293-40ef-bc64-1255a7ab0519",
      "metadata": {
        "editable": false,
        "tags": [],
        "id": "1f146fe0-8293-40ef-bc64-1255a7ab0519"
      },
      "source": [
        "### Importando Múltiplos Identificadores de um Módulo"
      ]
    },
    {
      "cell_type": "code",
      "execution_count": null,
      "id": "a865ed62-82cf-4eb0-84f4-3a5943ae6bde",
      "metadata": {
        "editable": true,
        "tags": [],
        "id": "a865ed62-82cf-4eb0-84f4-3a5943ae6bde"
      },
      "outputs": [],
      "source": [
        "from math import ceil, floor"
      ]
    },
    {
      "cell_type": "code",
      "execution_count": null,
      "id": "75d6b263-861d-417f-8077-1e980bdc8baa",
      "metadata": {
        "editable": true,
        "tags": [],
        "id": "75d6b263-861d-417f-8077-1e980bdc8baa"
      },
      "outputs": [],
      "source": [
        "ceil(10.3)"
      ]
    },
    {
      "cell_type": "code",
      "execution_count": null,
      "id": "860b8d77-fa63-45b7-b9fa-f226e65b1d1d",
      "metadata": {
        "editable": true,
        "tags": [],
        "id": "860b8d77-fa63-45b7-b9fa-f226e65b1d1d"
      },
      "outputs": [],
      "source": [
        "floor(10.7)"
      ]
    },
    {
      "cell_type": "markdown",
      "id": "1995e4fd-c2fe-4589-9440-332bfb9fb54e",
      "metadata": {
        "editable": false,
        "tags": [],
        "id": "1995e4fd-c2fe-4589-9440-332bfb9fb54e"
      },
      "source": [
        "### Associando Nomes de Módulos com Identificadores (apelidos)"
      ]
    },
    {
      "cell_type": "code",
      "execution_count": null,
      "id": "3e78f258-a1fd-4a67-9c47-1387b8d80b58",
      "metadata": {
        "editable": true,
        "tags": [],
        "id": "3e78f258-a1fd-4a67-9c47-1387b8d80b58"
      },
      "outputs": [],
      "source": [
        "import statistics as stat"
      ]
    },
    {
      "cell_type": "code",
      "execution_count": null,
      "id": "3981bf8a-6d6d-4fbe-9684-afb00ce50e76",
      "metadata": {
        "editable": true,
        "tags": [],
        "id": "3981bf8a-6d6d-4fbe-9684-afb00ce50e76"
      },
      "outputs": [],
      "source": [
        "notas = [85, 93, 45, 87, 93] # define uma lista"
      ]
    },
    {
      "cell_type": "code",
      "execution_count": null,
      "id": "c7ea8883-50f2-4325-9420-30d71863d997",
      "metadata": {
        "editable": true,
        "tags": [],
        "id": "c7ea8883-50f2-4325-9420-30d71863d997"
      },
      "outputs": [],
      "source": [
        "stat.mean(notas)"
      ]
    },
    {
      "cell_type": "markdown",
      "id": "78d237b8-1776-4de4-b657-97c0d0a34905",
      "metadata": {
        "editable": true,
        "tags": [],
        "id": "78d237b8-1776-4de4-b657-97c0d0a34905"
      },
      "source": [
        "**__Exercício:__** Importe o módulo decimal com o nome abreviado dec e, em seguida, crie um objeto Decimal com o valor 2.5 e eleve ao quadrado seu valor."
      ]
    },
    {
      "cell_type": "code",
      "execution_count": null,
      "id": "43e05ef0-943a-470a-aaee-58548ac93f92",
      "metadata": {
        "id": "43e05ef0-943a-470a-aaee-58548ac93f92"
      },
      "outputs": [],
      "source": [
        "import decimal\n",
        "valor = dec.Decimal(2.5) ** 2\n",
        "print(valor)"
      ]
    },
    {
      "cell_type": "markdown",
      "id": "f4a34c2d-7486-4e25-a7bc-01f74e4b9789",
      "metadata": {
        "editable": true,
        "tags": [],
        "id": "f4a34c2d-7486-4e25-a7bc-01f74e4b9789"
      },
      "source": [
        "# 3.12 Detalhes Sobre Passagem de Argumentos para Funções\n",
        "\n",
        "Vamos dar uma olhada mais de perto em como os argumentos são passados ​​para funções. Em muitas linguagens de programação, existem duas maneiras de passar argumentos: passagem por valor e passagem por referência.\n",
        "* Com **passagem por valor**, a função chamada recebe uma cópia do valor do argumento e trabalha exclusivamente com essa cópia. As alterações na cópia recebida pela função não afetam o valor da variável original no chamador.\n",
        "* Com **passagem por referência**, a função chamada pode acessar diretamente o valor do argumento no chamador e modificar o valor se ele for mutável.\n",
        "\n",
        "Argumentos Python são sempre passados ​​por referência. Algumas pessoas chamam de passagem por objeto, porque tudo em Python é um objeto, mas na verdade o que é passado são referências à objetos. Quando uma chamada de função fornece um argumento, o Python copia a referência do objeto passado (e não o objeto em si) no parâmetro correspondente. Isso é importante para o desempenho. As funções muitas vezes manipulam objetos grandes, e copiá-los consumiria grandes quantidades de memória e reduziria significativamente o desempenho do programa.\n",
        "\n",
        "### Endereços de Memória, Referências e “Pointeiros”\n",
        "\n",
        "Interagimos com um objeto por meio de uma referência, que nos bastidores é o endereço (ou localização) desse objeto na memória do computador – isso é chamado de “ponteiro” em outras linguagens. Depois de uma instrução de atribuição como `x = 7`, a variável x na verdade não contém o valor 7. Em vez disso, contém uma referência a um objeto contendo 7."
      ]
    },
    {
      "cell_type": "code",
      "execution_count": null,
      "id": "dd1b4319-fbcb-4b5d-9e07-0bb150585b42",
      "metadata": {
        "editable": true,
        "tags": [],
        "id": "dd1b4319-fbcb-4b5d-9e07-0bb150585b42"
      },
      "outputs": [],
      "source": [
        "x = 7 # variavel global"
      ]
    },
    {
      "cell_type": "code",
      "execution_count": null,
      "id": "44b188b4-c7e5-46bc-a3f6-9e988f9527c2",
      "metadata": {
        "editable": true,
        "tags": [],
        "id": "44b188b4-c7e5-46bc-a3f6-9e988f9527c2"
      },
      "outputs": [],
      "source": [
        "id(x)"
      ]
    },
    {
      "cell_type": "markdown",
      "id": "b7038f3b-7e9c-4ae5-a0e1-a11ecf4b76d1",
      "metadata": {
        "editable": true,
        "tags": [],
        "id": "b7038f3b-7e9c-4ae5-a0e1-a11ecf4b76d1"
      },
      "source": [
        "Vamos agora definir a função `cubo(numero)`, que calcula o cubo de um número, e passar x como argumento. O objetivo é verificar que a função copia a referência ao objeto 7, e não o objeto em si."
      ]
    },
    {
      "cell_type": "code",
      "execution_count": null,
      "id": "c8d51351-9e18-47d7-82ee-ba8af3edc87d",
      "metadata": {
        "editable": true,
        "tags": [],
        "id": "c8d51351-9e18-47d7-82ee-ba8af3edc87d"
      },
      "outputs": [],
      "source": [
        "def cubo(numero):\n",
        "    print('id(numero):', id(numero))\n",
        "    return numero ** 3"
      ]
    },
    {
      "cell_type": "code",
      "execution_count": null,
      "id": "e62b4a64-825f-4b13-9380-f7f4c74e9c83",
      "metadata": {
        "editable": true,
        "tags": [],
        "id": "e62b4a64-825f-4b13-9380-f7f4c74e9c83"
      },
      "outputs": [],
      "source": [
        "cubo(x)"
      ]
    },
    {
      "cell_type": "markdown",
      "id": "9fbe4660-c444-41b3-8b49-304f19b54013",
      "metadata": {
        "editable": true,
        "tags": [],
        "id": "9fbe4660-c444-41b3-8b49-304f19b54013"
      },
      "source": [
        "### Testando a identidade de Objetos com o Operador `is`"
      ]
    },
    {
      "cell_type": "code",
      "execution_count": null,
      "id": "dff08dc7-ee46-4457-81ad-c892b1dd521e",
      "metadata": {
        "editable": true,
        "tags": [],
        "id": "dff08dc7-ee46-4457-81ad-c892b1dd521e"
      },
      "outputs": [],
      "source": [
        "def cubo(numero):\n",
        "    print('numero is x:', numero is x)  # x é uma variável global\n",
        "    return numero ** 3"
      ]
    },
    {
      "cell_type": "code",
      "execution_count": null,
      "id": "c52ac84b-72f7-4fa0-8ff9-20dc77235187",
      "metadata": {
        "editable": true,
        "tags": [],
        "id": "c52ac84b-72f7-4fa0-8ff9-20dc77235187"
      },
      "outputs": [],
      "source": [
        "cubo(x)"
      ]
    },
    {
      "cell_type": "markdown",
      "id": "a3ee02ee-9039-44b6-8c5c-c9590caf40a6",
      "metadata": {
        "editable": true,
        "tags": [],
        "id": "a3ee02ee-9039-44b6-8c5c-c9590caf40a6"
      },
      "source": [
        "### Objetos Imutáveis como Argumento\n",
        "Quando uma função recebe como argumento uma referência a um objeto imutável (não modificável) - como um `int`, `float`, `string` - mesmo tendo acesso direto ao objeto original no chamador, não é possível modificar o valor do objeto imutável original. Para provar isso, primeiro vamos fazer com que o `cubo()` exiba o id(número) antes e depois de atribuir um novo objeto ao parâmetro:"
      ]
    },
    {
      "cell_type": "code",
      "execution_count": null,
      "id": "cf9748e5-57b1-4013-a1e2-9ccd8aa53bb8",
      "metadata": {
        "editable": true,
        "tags": [],
        "id": "cf9748e5-57b1-4013-a1e2-9ccd8aa53bb8"
      },
      "outputs": [],
      "source": [
        "def cubo(numero):\n",
        "    print('id(numero) antes de modificar numero:', id(numero))\n",
        "    numero **= 3\n",
        "    print('id(number) depois de modificar numero:', id(numero))\n",
        "    return numero"
      ]
    },
    {
      "cell_type": "code",
      "execution_count": null,
      "id": "b4b9af1c-f035-415e-8ff1-f17826bd253e",
      "metadata": {
        "editable": true,
        "tags": [],
        "id": "b4b9af1c-f035-415e-8ff1-f17826bd253e"
      },
      "outputs": [],
      "source": [
        "cubo(x)"
      ]
    },
    {
      "cell_type": "code",
      "execution_count": null,
      "id": "8cd33320-187c-472d-94c8-5d292328ac38",
      "metadata": {
        "editable": true,
        "tags": [],
        "id": "8cd33320-187c-472d-94c8-5d292328ac38"
      },
      "outputs": [],
      "source": [
        "print(f'x = {x}; id(x) = {id(x)}')"
      ]
    },
    {
      "cell_type": "markdown",
      "id": "6250f9bb-85bc-4d58-9870-83eb07ae8756",
      "metadata": {
        "editable": true,
        "tags": [],
        "id": "6250f9bb-85bc-4d58-9870-83eb07ae8756"
      },
      "source": [
        "### Objetos Mutáveis como Argumento\n",
        "Quando estudarmos as estruturas básicas de dados, mostraremos que quando uma referência a um objeto mutável como uma lista é passada para uma função, a função pode modificar o objeto original no chamador."
      ]
    },
    {
      "cell_type": "markdown",
      "id": "c7cd8057-91fb-4672-99a2-550be8a73522",
      "metadata": {
        "editable": true,
        "tags": [],
        "id": "c7cd8057-91fb-4672-99a2-550be8a73522"
      },
      "source": [
        "# 4.12 Exercícios"
      ]
    },
    {
      "cell_type": "markdown",
      "id": "5b47182f-f2ac-4587-ac7b-1e17e65ae42c",
      "metadata": {
        "id": "5b47182f-f2ac-4587-ac7b-1e17e65ae42c"
      },
      "source": [
        "1. O que está errado na definição da função `cube()`abaixo?"
      ]
    },
    {
      "cell_type": "code",
      "execution_count": null,
      "id": "6800ba3b-2ca8-429d-9b23-e48cc9d453fc",
      "metadata": {
        "id": "6800ba3b-2ca8-429d-9b23-e48cc9d453fc"
      },
      "outputs": [],
      "source": [
        "def cube(x):\n",
        "    \"\"\"Calcula a cubo de x.\"\"\"\n",
        "    x ** 3\n",
        "\n",
        "print('The cube of 2 is', cube(2))"
      ]
    },
    {
      "cell_type": "markdown",
      "id": "38483374-afdb-4dc1-bfd2-9ea8dd707988",
      "metadata": {
        "id": "38483374-afdb-4dc1-bfd2-9ea8dd707988"
      },
      "source": [
        "2. O que a função `mystery()` faz? Assuma que seja passado uma lista `[1, 2, 3, 4, 5]` como argumento."
      ]
    },
    {
      "cell_type": "code",
      "execution_count": null,
      "id": "c1c147d3-396c-4902-8540-1d560b8a151e",
      "metadata": {
        "id": "c1c147d3-396c-4902-8540-1d560b8a151e"
      },
      "outputs": [],
      "source": [
        "def mystery(x):\n",
        "    y = 0\n",
        "\n",
        "    for value in x:\n",
        "        y += value ** 2\n",
        "\n",
        "    return y"
      ]
    },
    {
      "cell_type": "markdown",
      "id": "74ad4414-3c8b-416c-bbc6-118c13799d3d",
      "metadata": {
        "id": "74ad4414-3c8b-416c-bbc6-118c13799d3d"
      },
      "source": [
        "3. Implemente a função `seconds_since_midnight()` que retorne o número de segundos passados desde a meia-noite. A função deve receber três inteiros representando a hora atual do dia. Suponha que a hora seja um valor de 0 (meia-noite) a 23 (23h) e que o minuto e o segundo sejam valores de 0 a 59. Teste sua função com horários reais. Por exemplo, se você chamar a função para 13h30min45 passando 13, 30 e 45, a função deverá retornar 48645."
      ]
    },
    {
      "cell_type": "markdown",
      "id": "4119de3c-fbad-4c7d-a534-27d3161aaba2",
      "metadata": {
        "id": "4119de3c-fbad-4c7d-a534-27d3161aaba2"
      },
      "source": [
        "4. A função `média()` definida em aula pode receber qualquer número de argumentos. Entretanto, se você chamá-la sem argumentos, a função causará um erro do tipo `ZeroDivisionError`. Reimplemente a função média para receber um argumento obrigatório e lista de argumentos arbitrários *args, e atualize seu cálculo de acordo. Teste sua função. A função sempre exigirá pelo menos um argumento, então você não poderá mais obter o erro ZeroDivisionError. Quando você chama a função média sem argumentos, Python deve emitir um erro do tipo `TypeError` indicando \"media() faltando 1 argumento posicional necessário\"."
      ]
    },
    {
      "cell_type": "code",
      "execution_count": null,
      "id": "ee36a927-63dc-4d8a-98da-f4f031ea34fe",
      "metadata": {
        "editable": true,
        "tags": [],
        "id": "ee36a927-63dc-4d8a-98da-f4f031ea34fe"
      },
      "outputs": [],
      "source": []
    }
  ],
  "metadata": {
    "kernelspec": {
      "display_name": "Python 3 (ipykernel)",
      "language": "python",
      "name": "python3"
    },
    "language_info": {
      "codemirror_mode": {
        "name": "ipython",
        "version": 3
      },
      "file_extension": ".py",
      "mimetype": "text/x-python",
      "name": "python",
      "nbconvert_exporter": "python",
      "pygments_lexer": "ipython3",
      "version": "3.11.2"
    },
    "colab": {
      "provenance": [],
      "include_colab_link": true
    }
  },
  "nbformat": 4,
  "nbformat_minor": 5
}