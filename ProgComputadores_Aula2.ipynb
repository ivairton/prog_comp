{
  "cells": [
    {
      "cell_type": "markdown",
      "source": [],
      "metadata": {
        "id": "BcNGZ96BAPPS"
      },
      "id": "BcNGZ96BAPPS"
    },
    {
      "cell_type": "markdown",
      "source": [
        "<h3>UNIVERSIDADE FEDERAL DE MATO GROSSO<br>\n",
        "CAMPUS UNIVERSITÁRIO DO ARAGUAIA<br>\n",
        "Curso de Bacharelado em Ciência da Computação</h3>\n",
        "\n",
        "<h2><b>Disciplina de Programação de Computadores</b></h2>\n",
        "\n",
        "<i>Material desenvolvido pelos professores:</i><br>\n",
        "Prof. Dr. Ivairton Monteiro Santos<br>\n",
        "Prof. Dr. Linder Cândido da Silva"
      ],
      "metadata": {
        "id": "l0SQbcH-SGFP"
      },
      "id": "l0SQbcH-SGFP"
    },
    {
      "cell_type": "markdown",
      "id": "7b51e375-3ffc-4550-963e-9ce7e7fb9732",
      "metadata": {
        "editable": false,
        "tags": [],
        "id": "7b51e375-3ffc-4550-963e-9ce7e7fb9732"
      },
      "source": [
        " <h1><center>Aula 2<br><br>Controle de Fluxo e Desenvolvimento de\n",
        "Programas</center></h1>\n"
      ]
    },
    {
      "cell_type": "markdown",
      "id": "316939d0-ac21-4479-8625-5ab0c915341a",
      "metadata": {
        "editable": false,
        "tags": [],
        "id": "316939d0-ac21-4479-8625-5ab0c915341a"
      },
      "source": [
        "# 2.1 Introdução\n",
        "Antes de escrever um programa para resolver um problema específico, devemos compreender o problema e cuidadosamente planejar sua solução na forma de um __algoritmo__. Em seguida, o algoritmo deve ser convertido para a linguagem de programação de interesse - em nosso caso, __Python__.\n",
        "\n",
        "Para construir um algoritmo que resolva um problema específico, precisamos definir uma série de __ações__ a serem executadas, bem como a __ordem__ de execução dessas ações. Especificar corretamente a ordem de execução é essencial. Por exemplo, considere um algoritmo que provavelmente você usa para sair da cama e ir para a Universidade estudar. A sequência básica de ações é a seguinte:\n",
        "1. Sair da cama;\n",
        "2. tirar o pijama;\n",
        "3. tomar banho;\n",
        "4. vestir-se;\n",
        "5. tomar café da manhã;\n",
        "6. dirigir ou pegar uma condução para chegar à Universidade.\n",
        "\n",
        "Esse algoritmos define uma ordem aceitável de ações, pois termina com você na UFMT pronto para assistir as aulas do dia. Por outro lado, suponha que estas mesmas ações sejam executadas em uma ordem diferente:\n",
        "1. Sair da cama;\n",
        "2. tirar o pijama;\n",
        "3. **vestir-se**;\n",
        "4. **tomar banho**;\n",
        "5. tomar café da manhã;\n",
        "6. dirigir ou pegar uma condução para o trabalho.  \n",
        "\n",
        "Nesse caso, a troca das ações 3 e 4, resulta em um novo algoritmo que termina com você na UFMT, porém todo molhado, o que normalmente não é aceitável. Deste modo, fica claro que o controle correto do fluxo de execução é essencial para a corretude do algoritmo/programa.\n",
        "\n",
        "Nessa aula discutiremos os princípios básicos de contrução de algoritmos, bem como conheceremos os blocos básicos da linguagem de programação Python usados para implementá-los."
      ]
    },
    {
      "cell_type": "markdown",
      "id": "d3a457b5-ecc5-46a0-a3ec-8d701c437d1d",
      "metadata": {
        "tags": [],
        "id": "d3a457b5-ecc5-46a0-a3ec-8d701c437d1d"
      },
      "source": [
        "# 2.2 Programação Estruturada\n",
        "Em 1960, Bohm e Jacopini demonstraram que qualquer algoritmo/programa pode ser escrito combinando três estruturas básicas, a saber: blocos de __execução sequencial__, comandos de __seleção__ e comandos de __repetição__.\n",
        "\n",
        "Um bloco de execução sequencial consiste em uma sequência de instruções que são executadas __uma após a outra__, na ordem em que foram escritas, tal como ilustrado pelo fluxograma abaixo."
      ]
    },
    {
      "cell_type": "markdown",
      "source": [
        "![sequencial.gif](data:image/gif;base64,R0lGODdhgAA+AbMAAAAAAAkJCT8/P0pKSouLi6Wlpb+/v8XFxd/f3////wAAAAAAAAAAAAAAAAAAAAAAACH5BAkAAAoALAAAAACAAD4BAAT/MMlJq7046827/2AojmRpnmiqrmzrvnAsz3Rt33iu73zv/0AbYDgMGk1FSvLI5Cwtz6Z0AuhUp9jEdbPNMrtcbxOsIYt75vI5mM6017f3RQ6n0Sv3eixP1fv4fH4vgIJ/VoWGToh/bVGLO1GOj2hEgZNCl1OWmTWbnDOen3uiR6GkLqanLKmqKqytKK+wSLNotTyytyK5uiC8vR6/wIqtlcbHyMnKy8zNzpVxwMJqvdNu0tHV2brWGN2a27ffUNiY2ubc4XZX497qMuyekh/tSmvQJfV9+fgSxlT9tASEkkqfP1fxABL0t2WeQFroRhxjOOffQ4reCr6j1zAhno4Y/y9WhNiJn0KRJy8ucejwUMQQKz0+jBmSpcaXMC0KJAKwn86PA+ltXGEw2FBXX44iaQlJKamiRYFALVfyXNV0OGFNtWqHaleuoJ6JHUu2bDKsw66mBbVWbVsYUb2+HTQXXt1Rd+nmRbWXb99VfwEHRjqYBLPCHJUhTjxxcbCzjh//jMylMWUrQS+7yaw5Y1xxTDvj0Wq2tOnTlr+iVS3Oqaitq9mCtTsbb2zat223zlrMNVF2TXn7DQ2U+DXhRmga9u35ic6fk2uagr1U+kKRTI3PYV4Rn6TGyjOSZO0LJErr2Buxol7+pCPl4T/G4i4fI0345uufYF/ep///36UGE/99AyaF3H5jEIjZZ8S4NQt/Wim4CIS9HfiahIhQqIqGp3D4VByohSjiWLmJdpyJLqHYoIrUsNiii+7AeKKM5NC4nY014miPjjvyeJCPP9p4mItDEgkZjIrRiAyOSzLJGYvRyciTj1NSCWSQV2ap5ZZcdunll2CGKeaYZJY5xQEGIEABmmrCOIAABVDwZpwwBgAAARTYiSeMBBBwAAV9/mnmoIQWauihiCaq6KKMNuroo5DWxeBuQE5ai6UPZolphFduWmGlOhapoqijHmlkk1IKeOqTKEa5qqevaddZlTzCCteIuOaKKnmZWviJhxf6ygmwv2JYCLHDGisIspkwe4n4s5NAW50WwTkIV0gL9ligtV84t5yw3TkHYBdRVrHSt9zmhJ4SMr2HHbq8MpZEgN7lt8+88Mq2i3nv8WtvkEWEIi16/br3L7UUCYwhfgoxjC2WtPpirGXPVRwxxLJqq69fpSgbhoHp8mOrxrhRGu+nJ2/osR4DZ7hyHS0f+zIcUOlqs64lKqnpzp3yDGrPQP8stJVBEz10qklCuQzSqrZq6qsZL7Yr0yM/y2qpVTcb9WVZJ0vl1bOCsXVfNo2a4qxncy0U2kZpZknX4EisttyUve32tnWvfXfbbH8s2h1wi1G2kfpRHenhiCeu+OKMN+7445BHLjkIEQAAOw==)\n",
        "\n",
        "_Bloco de execução sequencial._"
      ],
      "metadata": {
        "id": "LDIPXTBZBJSm"
      },
      "id": "LDIPXTBZBJSm"
    },
    {
      "cell_type": "markdown",
      "id": "7086be91-d5cf-4980-b8af-7f90ededc7d0",
      "metadata": {
        "editable": false,
        "tags": [],
        "id": "7086be91-d5cf-4980-b8af-7f90ededc7d0"
      },
      "source": [
        "Por outro lado, um comando __seleção__ permite especificar que seja executado um dentre dois ou mais subprogramas (bloco de comandos), de acordo com o valor de um ou mais __testes de condição__ booleanos. Já um comando de __repetição__, permite que uma ou mais ações sejam executadas um __número finito de vezes__, de acordo com algum teste de condição que determina a parada.\n",
        "\n",
        "A seguir, veremos mais detalhes sobre as estruturas básicas de seleção e repetição, incluindo as várias possibilidades de contruí-las em Python. O bloco de execução sequencial não demanda maiores explicações, pois está associado ao comportamento padrão de execução.\n"
      ]
    },
    {
      "cell_type": "markdown",
      "id": "b82da6bf-0553-4306-bd89-a89caffac965",
      "metadata": {
        "editable": true,
        "tags": [],
        "id": "b82da6bf-0553-4306-bd89-a89caffac965"
      },
      "source": [
        "# 2.3 Comandos de Seleção\n",
        " Python fornece três comandos básicos de seleção: `if`, `if-else` e `if-elif-else`. É fácil perceber que na verdade tratam-se de variações do comando `if` básico, as quais, como veremos, trazem mais flexibilidade e até mesmo mais desempenho."
      ]
    },
    {
      "cell_type": "markdown",
      "id": "f039d1f3-1b1b-42d6-891d-8fe39f9e1ef6",
      "metadata": {
        "editable": false,
        "tags": [],
        "id": "f039d1f3-1b1b-42d6-891d-8fe39f9e1ef6"
      },
      "source": [
        "## 2.3.1 O Comando `if`\n",
        "O comando `if` exige a especificação de um teste de condição e de um bloco de comandos. Quando executado, se o teste de condição for avaliado como Verdadeiro (`True`), então o bloco de comandos é executado. Se o teste teste de condição for avaliado como Falso (`False`), então o bloco de comandos é ignorado. O fluxograma abaixo ilustra a operação do comando `if`.\n",
        "\n",
        "![selecao.gif](data:image/gif;base64,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)\n",
        "\n",
        "_Teste 1_\n",
        "\n",
        "No fluxograma, o retâgulo indica o bloco de comandos (uma ou mais ações a serem executadas). Para ilustrar a aplicação do comando, considere o seguinte problema. Desejamos criar um programa para testar a aprovação de um estudante em um exame. Suponha que a nota para aprovação seja 60. Para resolvê-lo precisamos testar se a nota obtida supera o valor necessário para aprovação. Ou seja, o teste é realizado sob a condição `nota >= 60`."
      ]
    },
    {
      "cell_type": "code",
      "execution_count": null,
      "id": "6b819fd6-0c7b-430d-9d72-bef8f6e08b21",
      "metadata": {
        "editable": false,
        "tags": [],
        "id": "6b819fd6-0c7b-430d-9d72-bef8f6e08b21"
      },
      "outputs": [],
      "source": [
        "nota = int(input(\"Entre com a nota do estudante (0 a 100): \"))"
      ]
    },
    {
      "cell_type": "code",
      "execution_count": null,
      "id": "c16ff5f0-b57d-4594-ac42-aacc9ea11631",
      "metadata": {
        "editable": false,
        "tags": [],
        "id": "c16ff5f0-b57d-4594-ac42-aacc9ea11631"
      },
      "outputs": [],
      "source": [
        "if nota >= 60:\n",
        "   print('Aprovado')"
      ]
    },
    {
      "cell_type": "code",
      "execution_count": null,
      "id": "14325bde-4b71-46a4-bd97-18958cd46a10",
      "metadata": {
        "editable": true,
        "tags": [],
        "id": "14325bde-4b71-46a4-bd97-18958cd46a10"
      },
      "outputs": [],
      "source": [
        "if nota < 60:\n",
        "    print('Reprovado')"
      ]
    },
    {
      "cell_type": "markdown",
      "id": "0ed46c13-e97e-4bc4-9f57-c8626a4a6547",
      "metadata": {
        "editable": false,
        "tags": [],
        "id": "0ed46c13-e97e-4bc4-9f57-c8626a4a6547"
      },
      "source": [
        "Se a condição for verdadeira, isto é, se a nota for maior ou igual a 60, a string 'Aprovado' será exibida. Se a condição for falsa, isto é, se a nota obtida for menor que 60, nada será exibido.\n",
        "\n",
        "Note que o bloco de comandos (no caso uma única instrução `print()`) está __identado__ (recuado) em relação ao comando `if`. Python requer indentação para enfatizar o bloco de comandos a ser executado no caso de condição verdadeira. Por exemplo, há um erro no código abaixo, porque o comando de exibição (`print()`) não está definido com recuo em relação ao comando `if`. Também é um erro de sintaxe uma identação que não corresponda a nenhum nível de identação especificado anteriormente."
      ]
    },
    {
      "cell_type": "code",
      "execution_count": null,
      "id": "d9e7f9c0-d206-49fd-a6d3-af26c6a7e3e1",
      "metadata": {
        "editable": true,
        "tags": [],
        "id": "d9e7f9c0-d206-49fd-a6d3-af26c6a7e3e1"
      },
      "outputs": [],
      "source": [
        "if nota >= 60:\n",
        "print('Aprovado')  # Erro! comando não indentado apropriadamente"
      ]
    },
    {
      "cell_type": "code",
      "execution_count": null,
      "id": "070030df-9a78-43a3-95e0-92e4f7c38cb6",
      "metadata": {
        "editable": true,
        "tags": [],
        "id": "070030df-9a78-43a3-95e0-92e4f7c38cb6"
      },
      "outputs": [],
      "source": [
        "if nota >= 60:\n",
        "    print('Aprovado')\n",
        "  print('Bom trabalho!') # Erro! Identação não bate com nenhum nível anterior"
      ]
    },
    {
      "cell_type": "markdown",
      "id": "a267bf6a-6384-4ab6-8c70-3c5901284b54",
      "metadata": {
        "editable": true,
        "tags": [],
        "id": "a267bf6a-6384-4ab6-8c70-3c5901284b54"
      },
      "source": [
        "### Expressões Tratadas como `True` ou `False`\n",
        "No comando `if`, uma condição pode ser definida por um valor numérico. Se o valor númerico apresentado como condição for diferente de 0, então a condição é avaliada como Verdadeira (`True`). Caso contrário, a condição é avaliada como Falsa (`False`).\n",
        "\n",
        "Similarmente, no comando `if`, uma condição pode ser definida por uma string. Se a string apresentada como condição contiver caracters, então a condição é avaliada como verdadeira (`True`). Caso contrário, ou seja, uma condição definida por uma strings vazia ('', \"\" ou \"\"\"\"\"\"), é avaliada como falsa (`False`)."
      ]
    },
    {
      "cell_type": "code",
      "execution_count": null,
      "id": "944073b8-ca4e-41e8-b469-d69da4077c8f",
      "metadata": {
        "editable": false,
        "tags": [],
        "id": "944073b8-ca4e-41e8-b469-d69da4077c8f"
      },
      "outputs": [],
      "source": [
        "if 1:\n",
        "    print('Valores diferentes de zero são avaliados como verdadeiro, portanto isso será exibido')"
      ]
    },
    {
      "cell_type": "code",
      "execution_count": null,
      "id": "f0881b71-ebbb-434b-9c62-f7a30b8549c5",
      "metadata": {
        "editable": false,
        "tags": [],
        "id": "f0881b71-ebbb-434b-9c62-f7a30b8549c5"
      },
      "outputs": [],
      "source": [
        "if 0:\n",
        "    print('Zero é falso, portanto isso não será exibido')"
      ]
    },
    {
      "cell_type": "code",
      "execution_count": null,
      "id": "99b69ed5-cf05-48c0-9ca7-f250680e3f04",
      "metadata": {
        "editable": false,
        "tags": [],
        "id": "99b69ed5-cf05-48c0-9ca7-f250680e3f04"
      },
      "outputs": [],
      "source": [
        "if \"teste\":\n",
        "    print('Strings com caracteres são avaliadas como verdadeiro, portanto isso será exibido')"
      ]
    },
    {
      "cell_type": "code",
      "execution_count": null,
      "id": "f9850085-e30e-4bc3-a5bc-d23d780555a5",
      "metadata": {
        "editable": false,
        "tags": [],
        "id": "f9850085-e30e-4bc3-a5bc-d23d780555a5"
      },
      "outputs": [],
      "source": [
        "if \"\":\n",
        "    print('String vazia é falso, portanto isso não será exibido')"
      ]
    },
    {
      "cell_type": "markdown",
      "id": "bd1662cb-de0d-49f0-bf65-a627ba33b1a2",
      "metadata": {
        "editable": true,
        "tags": [],
        "id": "bd1662cb-de0d-49f0-bf65-a627ba33b1a2"
      },
      "source": [
        "## 2.3.2 O Comando `if...else`\n",
        "O comando `if...else` exige a especificação de um teste de condição e dois blocos de comandos. Se o teste de condição for avaliado como Verdadeiro (`True`), o bloco de comandos associado ao `if` é executado. Caso contrário, se o teste de condição for avaliado como Falso (`False`), então o bloco de comando associado ao `else`é executado. O fluxograma abaixo ilustra a operação do comando `if...else`.\n",
        "\n",
        "![selecaodupla.gif](data:image/gif;base64,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)\n",
        "\n",
        "_Teste 2_\n",
        "\n",
        "O comando `if...else` é chamado de comando de seleção dupla porque seleciona um dentre dois blocos de comandos diferentes. Para ilustrar a aplicação, vamos retormar o problema de testar a aprovação de um estudante em um teste."
      ]
    },
    {
      "cell_type": "code",
      "execution_count": null,
      "id": "ff2ceba1-6860-43b9-93ea-dd5dcdf8101a",
      "metadata": {
        "editable": false,
        "tags": [],
        "id": "ff2ceba1-6860-43b9-93ea-dd5dcdf8101a"
      },
      "outputs": [],
      "source": [
        "nota = 85"
      ]
    },
    {
      "cell_type": "code",
      "execution_count": null,
      "id": "52e7cd85-9f6a-4982-8802-80a94d208932",
      "metadata": {
        "editable": false,
        "tags": [],
        "id": "52e7cd85-9f6a-4982-8802-80a94d208932"
      },
      "outputs": [],
      "source": [
        "if nota >= 60:\n",
        "    print('Aprovado')\n",
        "    print('Parabéns!')\n",
        "else:\n",
        "    print('Reprovado')"
      ]
    },
    {
      "cell_type": "code",
      "execution_count": null,
      "id": "1e8d5e9a-9897-4e21-8902-422d34fb93ae",
      "metadata": {
        "editable": false,
        "tags": [],
        "id": "1e8d5e9a-9897-4e21-8902-422d34fb93ae"
      },
      "outputs": [],
      "source": [
        "nota = 57"
      ]
    },
    {
      "cell_type": "code",
      "execution_count": null,
      "id": "c5ab3429-49cd-40c9-ab39-ce13717a3c91",
      "metadata": {
        "editable": false,
        "tags": [],
        "id": "c5ab3429-49cd-40c9-ab39-ce13717a3c91"
      },
      "outputs": [],
      "source": [
        "if nota >= 60:\n",
        "    print('Aprovado')\n",
        "    print('Parabéns!')\n",
        "else:\n",
        "    print('Reprovado')"
      ]
    },
    {
      "cell_type": "markdown",
      "id": "37acd3bf-dc2c-42c0-98e7-e2817e263648",
      "metadata": {
        "editable": false,
        "tags": [],
        "id": "37acd3bf-dc2c-42c0-98e7-e2817e263648"
      },
      "source": [
        "### Expressões Condicionais\n",
        "Python possibilita escrever declarações baseadas em condições, como as anteriores, usando uma __expressão condicional__, o que torna o código mais conciso:"
      ]
    },
    {
      "cell_type": "code",
      "execution_count": null,
      "id": "a26ca968-43af-4851-87ce-4212e350e60d",
      "metadata": {
        "editable": true,
        "tags": [],
        "id": "a26ca968-43af-4851-87ce-4212e350e60d"
      },
      "outputs": [],
      "source": [
        "nota = 50"
      ]
    },
    {
      "cell_type": "code",
      "execution_count": null,
      "id": "3f3e7174-e1d1-4ca7-8eb9-fd19ae065529",
      "metadata": {
        "editable": true,
        "tags": [],
        "id": "3f3e7174-e1d1-4ca7-8eb9-fd19ae065529"
      },
      "outputs": [],
      "source": [
        "resultado = ('Aprovado\\nParabéns!' if nota >= 60 else 'Reprovado')"
      ]
    },
    {
      "cell_type": "code",
      "execution_count": null,
      "id": "70dd2267-ada0-474b-8de5-b0d9ffdd93ae",
      "metadata": {
        "editable": false,
        "tags": [],
        "id": "70dd2267-ada0-474b-8de5-b0d9ffdd93ae"
      },
      "outputs": [],
      "source": [
        "print(resultado)"
      ]
    },
    {
      "cell_type": "markdown",
      "id": "b0276627-fee3-4189-b33b-a7d34845d3d1",
      "metadata": {
        "editable": false,
        "tags": [],
        "id": "b0276627-fee3-4189-b33b-a7d34845d3d1"
      },
      "source": [
        "Os parênteses não são obrigatórios, mas deixam claro que a instrução atribui o valor da expressão condicional à variável `resultado`. Primeiro, Python avalia se a nota >= 60. Caso o teste de condição seja avaliado como Verdadeiro, `resultado` recebe o valor à esquerda do `if`, isto é,  'Aprovado\\nParabéns!'. Caso contrário, se o teste de condição for avaliado como Falso, a variável `resultado` recebe o valor da expressão à direita do `else`, isto é, 'Reprovado'."
      ]
    },
    {
      "cell_type": "markdown",
      "id": "0d6c8315-5134-43c0-84a7-20bc5a8030bb",
      "metadata": {
        "editable": false,
        "tags": [],
        "id": "0d6c8315-5134-43c0-84a7-20bc5a8030bb"
      },
      "source": [
        "## 2.3.3 O Comando `if`…`elif`…`else`\n",
        "O comando `if...elif...else` executa um dentre vários blocos de comandos diferentes, dependendo da verdade ou falsidade dos diversos testes de condição.\n",
        "\n",
        "![selecaoMultipla.gif](data:image/gif;base64,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)\n",
        "\n",
        "_Teste 3_\n",
        "\n",
        "Para ilustrar a aplicação, considere novamento o problema de avaliar a nota de um estudante em um exame. Entretanto, dessa vez, ao invés de receber um resultado constando 'Aprovado' ou 'Reprovado', suponha que a nota determine um conceito: 'A' para notas maiores ou iguais a 90; 'B' para notas entre 80 e 90; 'C' para notas entre 70 e 80; 'D' para notas entre 60 e 70; e 'E' para notas menores que 60. Essa lógica é facilmente implementada com um comando `if...elif...else`:"
      ]
    },
    {
      "cell_type": "code",
      "execution_count": null,
      "id": "1c7c3d7b-ba44-467c-972a-5fb3901276a8",
      "metadata": {
        "editable": true,
        "tags": [],
        "id": "1c7c3d7b-ba44-467c-972a-5fb3901276a8"
      },
      "outputs": [],
      "source": [
        "nota = 55"
      ]
    },
    {
      "cell_type": "code",
      "execution_count": null,
      "id": "9094ce31-9f5e-4d43-8147-7597be60b4a8",
      "metadata": {
        "editable": false,
        "tags": [],
        "id": "9094ce31-9f5e-4d43-8147-7597be60b4a8"
      },
      "outputs": [],
      "source": [
        "if nota >= 90:\n",
        "    print('A')\n",
        "elif nota >= 80:\n",
        "    print('B')\n",
        "elif nota >= 70:\n",
        "    print('C')\n",
        "elif nota >= 60:\n",
        "    print('D')\n",
        "else:\n",
        "    print('E')"
      ]
    },
    {
      "cell_type": "markdown",
      "id": "093f4cdd-7405-44dc-8f6a-269e36d74be8",
      "metadata": {
        "editable": false,
        "tags": [],
        "id": "093f4cdd-7405-44dc-8f6a-269e36d74be8"
      },
      "source": [
        "Somente o bloco de código associado à __primeira condição__ avaliada como Verdadeira (`True`) é executado. Particulamente, no exemplo acima, a primeira condição (nota >= 90) é Falsa, então print('A') é ignorado. A segunda condição (nota >= 80) também é Falsa, então print('B') é ignorado. A terceira condição (nota >= 70) é Verdadeira, então print('C') é executado. Todo o código restante do `if...elif...else` é ignorado.\n",
        "\n",
        "É importante mencionar que um `if...elif...else` é mais rápido do que instruções `if` separadas, porque o teste de condição é interrompido assim que uma condição avaliada como Verdadeira é encontrada.\n",
        "\n",
        "O `else` no comando `if...elif...else` é opcional. Incluí-lo permite lidar com valores que não satisfazem nenhuma das condições. Quando o `else` não é incluído e nenhum teste de condições é avaliado como verdadeiro, o programa não executa nenhum dos blocos de comandos. Se o `else` for especificado você deve colocá-lo após o último `elif`; caso contrário, ocorrerá um erro de sintaxe."
      ]
    },
    {
      "cell_type": "markdown",
      "id": "2f1d554c-58bc-44f5-bae4-ec18e6bcc68f",
      "metadata": {
        "editable": false,
        "tags": [],
        "id": "2f1d554c-58bc-44f5-bae4-ec18e6bcc68f"
      },
      "source": [
        "# 2.4 Comandos de Repetição\n",
        "Um comando de __repetição__ permite que uma ou mais ações sejam executadas um número finito de vezes, de acordo com algum teste de condição que determina a parada. Python disponibiliza dois tipos de comandos básicos de repetição, `while` e `for`, os quais discutiremos a seguir."
      ]
    },
    {
      "cell_type": "markdown",
      "id": "e25e7378-8a0f-4617-bcd6-1b30a709c8ad",
      "metadata": {
        "editable": true,
        "tags": [],
        "id": "e25e7378-8a0f-4617-bcd6-1b30a709c8ad"
      },
      "source": [
        "## 2.4.1 O Comando `while`\n",
        "O comando `while` repete um bloco de comandos __enquanto__ a condição permanecer Verdadeira (`True`). Esse tipo de comando é muitas vezes chamado de __loop__ e sua lógica de operação é ilustrada pelo fluxograma abaixo.\n",
        "\n",
        "![while.gif](data:image/gif;base64,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)\n",
        "\n",
        "_Fluxograma do comando **while**_\n",
        "\n",
        "Para exemplificar a operação do comando `while`, vamos usá-lo para encontrar a primeira potência de três que seja maior que cinquenta ($3^x > 50$). O programa deve calcular o valor da potência e o expoente.\n"
      ]
    },
    {
      "cell_type": "code",
      "execution_count": null,
      "id": "bb13a356-fa1a-424d-9c57-6c4b6ea55a71",
      "metadata": {
        "editable": true,
        "tags": [],
        "id": "bb13a356-fa1a-424d-9c57-6c4b6ea55a71"
      },
      "outputs": [],
      "source": [
        "potencia = 3\n",
        "expoente = 1"
      ]
    },
    {
      "cell_type": "code",
      "execution_count": null,
      "id": "cc2e185a-d265-4776-9611-00c89d1ecd32",
      "metadata": {
        "editable": true,
        "tags": [],
        "id": "cc2e185a-d265-4776-9611-00c89d1ecd32"
      },
      "outputs": [],
      "source": [
        "while potencia <= 50:\n",
        "   potencia = potencia * 3\n",
        "   print(potencia)\n",
        "   expoente = expoente + 1"
      ]
    },
    {
      "cell_type": "code",
      "execution_count": null,
      "id": "fe4a9de6-3290-4827-883a-1d67c8258348",
      "metadata": {
        "editable": false,
        "tags": [],
        "id": "fe4a9de6-3290-4827-883a-1d67c8258348"
      },
      "outputs": [],
      "source": [
        "print('Potencia: ',potencia)"
      ]
    },
    {
      "cell_type": "code",
      "execution_count": null,
      "id": "6ba6bfaf-dd7c-4b7d-85d0-04cc5f5e1125",
      "metadata": {
        "editable": false,
        "tags": [],
        "id": "6ba6bfaf-dd7c-4b7d-85d0-04cc5f5e1125"
      },
      "outputs": [],
      "source": [
        "print('Expoente: ', expoente)"
      ]
    },
    {
      "cell_type": "markdown",
      "id": "d7e28674-44c1-4b0c-9989-1ad3f945549a",
      "metadata": {
        "editable": true,
        "tags": [],
        "id": "d7e28674-44c1-4b0c-9989-1ad3f945549a"
      },
      "source": [
        "Primeiro, criamos as variáveis potencia e expoente e as inicializamos, respectivamente com 3 e 1, pois $(3^1 = 3)$ é menor que 50. Em seguida, o comando `while` é executado da seguinte forma:\n",
        "1. Python testa a condição potencia <= 50, que é `True` porque potência é 3. Então, no bloco de comandos, a variável potencia é multiplicada por 3 e é adicionado 1 à variável expoente, resultando $3^2 = 9$. Assim, a primeira iteração do loop está concluída.\n",
        "2. Python testa novamente a condição, que continua verdadeira porque a variável potência neste ponto vale 9. No bloco de comandos, a variável potencia é multiplicada por 3 e é adicionado 1 à variável expoente, resultando em $3^3 = 27$.  Isso completa a segunda iteração do loop.\n",
        "3. Python testa novamente a condição, que continua verdadeira porque a variável potência neste ponto vale 27. No bloco de comandos, a variável potencia é multiplicada por 3 e é adicionado 1 à variável expoente, pois $3^4 = 81$.  Isso completa a terceira iteração do loop.\n",
        "4. Python testa novamente a condição, que finalmente é `False` porque a potência agora é 81 >= 50. A repetição termina."
      ]
    },
    {
      "cell_type": "markdown",
      "id": "09d51466-2c35-48d8-b7dc-579760803f7b",
      "metadata": {
        "editable": true,
        "tags": [],
        "id": "09d51466-2c35-48d8-b7dc-579760803f7b"
      },
      "source": [
        "As variáveis que são testadas pelo comando `while` devem, a cada iteração, ser modificadas dentro do bloco de comandos para que, eventualmente, a condição de teste retorne Falso (`False`). Observe no exemplo acima que a variável potência é testada no comando `while` e que seu valor é alterado dentro do bloco de comandos. Se esse cuidado não for tomado, ocorre um erro lógico denominado __loop infinito__. Esse erro impede que o comando while termine (o programa parece “travar”). Caso isso aconteça, em aplicações executadas a partir de um Terminal, digite Ctrl + c para encerrar o loop infinito. As IDEs normalmente possuem um botão na barra de ferramentas ou uma opção de menu para interromper a execução de um programa."
      ]
    },
    {
      "cell_type": "markdown",
      "id": "c19f4be7-d321-4a58-bbbc-e1dff27fc80c",
      "metadata": {
        "editable": true,
        "tags": [],
        "id": "c19f4be7-d321-4a58-bbbc-e1dff27fc80c"
      },
      "source": [
        "### Exercício\n",
        "1. Escreva um programa que calcule a maior potência de 7 menor do que 1000."
      ]
    },
    {
      "cell_type": "code",
      "execution_count": null,
      "id": "32a307b8-ff6c-4fdb-b2cc-8fc7fc1a811e",
      "metadata": {
        "editable": true,
        "tags": [],
        "id": "32a307b8-ff6c-4fdb-b2cc-8fc7fc1a811e"
      },
      "outputs": [],
      "source": [
        "potencia = 7\n",
        "expoente = 1\n",
        "\n",
        "while potencia <= 1000:\n",
        "    potencia = potencia * 7\n",
        "    expoente = expoente  + 1\n",
        "\n",
        "#exibindo resultados\n",
        "potencia = potencia / 7\n",
        "expoente = expoente - 1\n",
        "\n",
        "print('Potencia = ', potencia)\n",
        "print('Expoente = ', expoente)\n"
      ]
    },
    {
      "cell_type": "markdown",
      "id": "3af82e47-6acd-42bf-89d3-8d17511c4313",
      "metadata": {
        "editable": false,
        "tags": [],
        "id": "3af82e47-6acd-42bf-89d3-8d17511c4313"
      },
      "source": [
        "## 2.4.2 O Comando `for`\n",
        "Assim como comando `while`, o comando `for` permite repetir uma ou mais ações um número finito de vezes. Porém, o comando `for` repete o grupo de ações para cada item presente em uma __sequência__ de itens. Para compreender o comando `for`, precisamos relembrar o conceito matemático de sequência. Uma sequência é uma estrutura discreta usada para representar uma __lista ordenada__. Por exemplo, {1, 8, 3, 5, 8} representa uma sequência com cinco itens. Dizemos que sequência é ordenada porque cada item tem uma posição dentro da sequência: o item 1 está na posição 0; o item 8 está na posição 1 e 4; o item 3 está na posição 2 e o item 5 está na posição 3. Abaixo apresentamos um fluxograma que ilustra a operação do comando `for`.\n",
        "\n",
        "![for.gif](data:image/gif;base64,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)\n",
        "\n",
        "_Fluxograma do comando **for**_"
      ]
    },
    {
      "cell_type": "markdown",
      "id": "3dd5550f-d5ff-4cbd-afac-3060e54eed32",
      "metadata": {
        "editable": false,
        "tags": [],
        "id": "3dd5550f-d5ff-4cbd-afac-3060e54eed32"
      },
      "source": [
        "Em Python, uma string é uma sequência de caracteres individuais (como ocorre num vetor). O exemplo a seguir exibe os caracteres da string 'Programming' separados por espaços:"
      ]
    },
    {
      "cell_type": "code",
      "execution_count": null,
      "id": "142e46dd-f66d-4930-90f3-e87a55a2e030",
      "metadata": {
        "editable": true,
        "tags": [],
        "id": "142e46dd-f66d-4930-90f3-e87a55a2e030"
      },
      "outputs": [],
      "source": [
        "for caracter in 'Programming':\n",
        "    print(caracter, end=' ')"
      ]
    },
    {
      "cell_type": "markdown",
      "source": [
        "Ou seja, no contexto anterior 🔼, a variável de controle do laço (`caracter`) assume cada letra da palavra \"Programmin\" (automaticamente) a cada iteração do laço.\n",
        "\n",
        "Para o comando `for` do exemplo, a execução se dá da seguinte maneira:\n",
        "* Na primeira iteração do comando, variável de controle `caracter`, definida entre as palavras-chave `for` e `in`, recebe (automaticamente) o primeiro caracter da string (nesse caso, 'P'). A seguir, o bloco de comandos é executado, exibindo o valor do caractere seguido por espaço.\n",
        "* Depois de executar o bloco de comandos, Python atribui à variável de controle `caractere` o próximo item da sequência (ou seja, o 'r' de 'Programming') e, em seguida, executa o bloco de comandos novamente.\n",
        "* Isso continua enquanto houver itens na sequência para serem processados. O comando termina após a impressão da letra 'g', seguida do espaço.\n",
        "\n",
        "O mesmo comportamento vai ocorrer quando tivermos outras estruturas \"iterativas\", como no caso de uma lista 🔽 :"
      ],
      "metadata": {
        "id": "dB54GdB4FPbt"
      },
      "id": "dB54GdB4FPbt"
    },
    {
      "cell_type": "code",
      "execution_count": null,
      "id": "6e2f78df-b12d-4e3f-8620-fb20a6c074d4",
      "metadata": {
        "editable": true,
        "tags": [],
        "id": "6e2f78df-b12d-4e3f-8620-fb20a6c074d4"
      },
      "outputs": [],
      "source": [
        "minhaLista = [0 , 1, 'Maria', 'UFMT', 2023]\n",
        "for valor in minhaLista:\n",
        "    print(valor, end=' ')"
      ]
    },
    {
      "cell_type": "markdown",
      "id": "da9fe475-338d-41a5-a807-31576eb4f9d8",
      "metadata": {
        "editable": false,
        "tags": [],
        "id": "da9fe475-338d-41a5-a807-31576eb4f9d8"
      },
      "source": [
        "\n",
        "\n",
        "Usar a variável de iteração para exibir seu valor, é comum, mas não obrigatório! Em geral, usamos o comando `for` para processar os ítens de uma sequência, um a um, ou para repetir um processamento definido por um bloco de comandos um número pré-definido de vezes (número de elementos da sequência)."
      ]
    },
    {
      "cell_type": "markdown",
      "id": "566050a1-835e-4f69-b85e-7cd0278b40a1",
      "metadata": {
        "editable": false,
        "tags": [],
        "id": "566050a1-835e-4f69-b85e-7cd0278b40a1"
      },
      "source": [
        "### Novos argumentos para a função `print()`: `end=` e `sep=`\n",
        "A função `print()` imprime seu(s) argumento(s) e então move o cursor para a próxima linha (quebra a automaticamente). Entretanto, é possível alterar esse comportamento padrão usando o argumento `end`, que redefine a termição da string a ser impressa na tela, tal como já usamos em `print(caractere, end=' ')`. Nesse caso, cada chamada a `print()` exibe o valor do caracter definido no argumento `end`, no exemplo, um espaço (substituindo a quebra de linha). Portanto, todos os caracteres são exibidos horizontalmente na mesma linha. O argumento `end` é opcional. Se você não incluí-lo, `print()` incluirá um '\\n' (quebra de linha) por padrão.\n",
        "\n",
        "Argumentos definidos com palavra-chave, tal como `end`, as vezes são chamados de argumentos nomeados. O Guia de Estilo para código Python recomenda não colocar espaços ao redor de um argumento definido por palavra-chave (argumento nomeado).\n",
        "\n",
        "Outro exemplo de argumento nomeado da função `print()` é o argumento `sep`. Este argumento especifica uma string separadora que aparece entre os itens a serem exibidos. Quando não especificamos esse argumento, `print()` usa por padrão um caracter de espaço. Para exemplificar, vamos exibir três números, cada um separado do próximo por uma vírgula e um espaço, em vez de apenas um espaço:"
      ]
    },
    {
      "cell_type": "code",
      "execution_count": null,
      "id": "d257a7d0-3a81-476f-a494-d61206f2b205",
      "metadata": {
        "editable": true,
        "tags": [],
        "id": "d257a7d0-3a81-476f-a494-d61206f2b205"
      },
      "outputs": [],
      "source": [
        "print(10, 20, 30, sep=', ')"
      ]
    },
    {
      "cell_type": "markdown",
      "id": "756db7a2-5f16-4d78-87f4-8eeecaa7a46a",
      "metadata": {
        "editable": false,
        "tags": [],
        "id": "756db7a2-5f16-4d78-87f4-8eeecaa7a46a"
      },
      "source": [
        "### Iteráveis (Iterables), Listas e Iteradores (Iterators)\n",
        "No comando `for`, a sequência informada à direita da palavra-chave `in` deve ser __iterável__ (Iterable). Um iterável é um objeto do qual é possível pegar um item por vez até que não restem mais itens. Com essa propriedade, o comando `for` consegue solicitar do objeto iterável cada elemento da sequência que ele armazena.\n",
        "\n",
        "Além das strings, Python possui outros tipos de sequências iteráveis. Uma das mais comuns é a __lista__. Uma lista é uma coleção de objetos especificados entre colchetes separados por vírgula (ex.:[*a*,*b*,*c*]). Por exemplo, em Python, o comando `[5, 4, 3, 10]` especifica uma lista com 4 inteiros; `[3, 'UFMT', 56, 'abc']` especifica uma lista mista com dois inteiros e duas strings. O exemplo a seguir soma cinco inteiros presentes em uma lista:"
      ]
    },
    {
      "cell_type": "code",
      "execution_count": null,
      "id": "a4e5c35f-1227-4f50-a431-7d8d7133242a",
      "metadata": {
        "editable": false,
        "tags": [],
        "id": "a4e5c35f-1227-4f50-a431-7d8d7133242a"
      },
      "outputs": [],
      "source": [
        "total = 0"
      ]
    },
    {
      "cell_type": "code",
      "execution_count": null,
      "id": "e34a3738-87df-4180-a54e-2d85821cff63",
      "metadata": {
        "editable": false,
        "tags": [],
        "id": "e34a3738-87df-4180-a54e-2d85821cff63"
      },
      "outputs": [],
      "source": [
        "for numero in [2, -3, 0, 17, 9]:\n",
        "    total = total + numero"
      ]
    },
    {
      "cell_type": "code",
      "execution_count": null,
      "id": "774868d0-52b7-48a7-acba-8725e7df2c7c",
      "metadata": {
        "editable": false,
        "tags": [],
        "id": "774868d0-52b7-48a7-acba-8725e7df2c7c"
      },
      "outputs": [],
      "source": [
        "print(total)"
      ]
    },
    {
      "cell_type": "markdown",
      "id": "ffc6c848-9546-4b02-a9da-8f33ddfea3c5",
      "metadata": {
        "tags": [],
        "id": "ffc6c848-9546-4b02-a9da-8f33ddfea3c5"
      },
      "source": [
        "Toda sequência iterável possui um __iterador__. \"Nos bastidores\", o comando `for` usa o iterador para obter cada item consecutivo até que não haja mais itens para processar. O iterador sempre sabe onde ele está na sequência, por isso pode retornar o próximo item quando for solicitado.\n",
        "\n",
        "No exemplo acima, a cada iteração, cada número da lista é adicionado na variável `total` (incializada em 0). Quando não há mais itens para serem processados, total contém a soma (25) dos itens da lista.\n",
        "\n",
        "As listas serão estudadas em mais detalhes nas próximas aulas. Veremos que a ordem dos itens em uma lista é importante e que, diferente das strings, os itens de uma lista são mutáveis ​​(ou seja, modificáveis)."
      ]
    },
    {
      "cell_type": "markdown",
      "id": "b57b2795-5f67-4c8c-abe1-10aa28ddbf38",
      "metadata": {
        "editable": false,
        "tags": [],
        "id": "b57b2795-5f67-4c8c-abe1-10aa28ddbf38"
      },
      "source": [
        "### Função interna `range()` e Geradores\n",
        "A função interna `range(n)` cria um objeto iterável que representa uma sequência de valores inteiros consecutivos começando em 0 e continuando até o valor do argumento menos 1 (n-1). Por exemplo, o comando `range(10)` cria e retorna uma série iterável com os valores inteiros \\{0, 1, 2, 3, 4, 5, 6, 7, 8, 9\\}. Para ilustrar uma aplicação, vamos criar um comando `for` usando uma chamada à função `range()`, de modo que ocorram exatamente 10 iterações com os valores de 0 a 9:\n"
      ]
    },
    {
      "cell_type": "code",
      "execution_count": null,
      "id": "830915af-cabc-414a-b035-874479183e9f",
      "metadata": {
        "editable": true,
        "tags": [],
        "id": "830915af-cabc-414a-b035-874479183e9f"
      },
      "outputs": [],
      "source": [
        "for contador in range(10): # range ira produzir a serie: 0, 1, 2, 3, 4, 5, 6, 7, 8, 9\n",
        "    print(contador, end=' ')"
      ]
    },
    {
      "cell_type": "markdown",
      "id": "52719f60-25a6-4811-83c3-d13b697a8039",
      "metadata": {
        "editable": false,
        "tags": [],
        "id": "52719f60-25a6-4811-83c3-d13b697a8039"
      },
      "source": [
        "O comando `for` termina quando processa o último número inteiro produzido por `range()`. Iteradores e objetos iteráveis ​​são dois dos recursos de programação funcional de Python.\n",
        "\n",
        "Um erro lógico conhecido como erro __off-by-one__ ocorre quando você assume que o valor `n` passado como argumento de `range()` está incluído na sequência gerada. Por exemplo, se você fornecer 9 como argumento visando produzir a sequência de 0 a 9, poderá cair numa situação de erro (lógico), pois a sequência gerada com 9 valores distintos incluirá apenas os valores de 0 a 8 (começando pelo zero)."
      ]
    },
    {
      "cell_type": "markdown",
      "source": [
        "A função `range()` permite o uso de outros parâmetros que incrementam seu uso.\n",
        "\n",
        "Uma possibilidade é definiro número de início da série e o número final (exceto ele mesmo). Por exemplo, se for necessário gerar e imprimir uma série iniciando pelo valor 2 e terminando no valor 6 (inclusive ele), o comando deverá ser:"
      ],
      "metadata": {
        "id": "uS0azML2BUJ-"
      },
      "id": "uS0azML2BUJ-"
    },
    {
      "cell_type": "code",
      "source": [
        "for contador in range(2, 7):\n",
        "  print(contador, end=' ')"
      ],
      "metadata": {
        "id": "bYxn9_u1B_0B"
      },
      "id": "bYxn9_u1B_0B",
      "execution_count": null,
      "outputs": []
    },
    {
      "cell_type": "markdown",
      "source": [
        "Perceba que ao especificar 2 parâmetros para a função `range()` ela automaticamente assume o comportamento especificado acima."
      ],
      "metadata": {
        "id": "H79aans4Cz0Z"
      },
      "id": "H79aans4Cz0Z"
    },
    {
      "cell_type": "markdown",
      "source": [
        "Há uma outra variação bastante útil, quando especificarmos 3 parâmetros para a função. Neste contexto, a função assume o primeiro parâmetro como valor inicial, o segundo como valor final e o terceiro como o \"passo\" (incremento, ou decremento) da série produzida.\n",
        "\n",
        "Por exemplo, se precisamos gerar os números pares entre 0 e 10 (inclusive o dez) e imprimí-los, podemos escrever o seguinte código:"
      ],
      "metadata": {
        "id": "bihWo5nrC9oI"
      },
      "id": "bihWo5nrC9oI"
    },
    {
      "cell_type": "code",
      "source": [
        "for contador in range(0, 11, 2):\n",
        "  print(contador, end=' ')"
      ],
      "metadata": {
        "id": "n5oPGjadDjog"
      },
      "id": "n5oPGjadDjog",
      "execution_count": null,
      "outputs": []
    },
    {
      "cell_type": "markdown",
      "source": [
        "Esta variação da função é especialmente útil para a geração de uma série decrescente:"
      ],
      "metadata": {
        "id": "pVeptrFICYdX"
      },
      "id": "pVeptrFICYdX"
    },
    {
      "cell_type": "code",
      "source": [
        "for contador in range(10, 0, -1):\n",
        "  print(contador, end=' ')"
      ],
      "metadata": {
        "id": "lXoyu7ezCXnd"
      },
      "id": "lXoyu7ezCXnd",
      "execution_count": null,
      "outputs": []
    },
    {
      "cell_type": "markdown",
      "id": "6a3a4989-eb7d-4d22-b280-20311c4dfd68",
      "metadata": {
        "editable": false,
        "tags": [],
        "id": "6a3a4989-eb7d-4d22-b280-20311c4dfd68"
      },
      "source": [
        "### Exercícios\n",
        "1. Use a função `range()` e um comando `for` para calcular a soma dos números inteiros de 0 a 1.000.000."
      ]
    },
    {
      "cell_type": "code",
      "execution_count": null,
      "id": "c8baa47f-8308-4f56-9f24-3b3ba482aef6",
      "metadata": {
        "editable": true,
        "tags": [],
        "id": "c8baa47f-8308-4f56-9f24-3b3ba482aef6"
      },
      "outputs": [],
      "source": [
        "total = 0\n",
        "for x in range(1000001):\n",
        "    total = total + x\n",
        "\n",
        "print('Resultado da soma = ', total)"
      ]
    },
    {
      "cell_type": "markdown",
      "metadata": {
        "editable": false,
        "tags": [],
        "id": "b682a418-ba62-4822-ae6e-96d61269b97e"
      },
      "source": [
        "2. Use o comando `for` e a função `range` para exibir em uma linha a sequência de valores `99` `88` `77` `66` `55` `44` `33` `22` `11` `0`, cada um separado por um espaço."
      ],
      "id": "b682a418-ba62-4822-ae6e-96d61269b97e"
    },
    {
      "cell_type": "code",
      "execution_count": null,
      "metadata": {
        "editable": true,
        "tags": [],
        "id": "c2a12a27-2a51-4a09-ac00-740794b36c25"
      },
      "outputs": [],
      "source": [
        "for valor in range(99, -1, -11):\n",
        "    print(valor, end=' ')"
      ],
      "id": "c2a12a27-2a51-4a09-ac00-740794b36c25"
    },
    {
      "cell_type": "markdown",
      "metadata": {
        "editable": false,
        "tags": [],
        "id": "95e91c18-549f-425b-a53c-be63d05d796b"
      },
      "source": [
        "3. Use o comando `for` e a função `range` para somar todos os inteiros pares de 2 até 100, e então exiba o resultado."
      ],
      "id": "95e91c18-549f-425b-a53c-be63d05d796b"
    },
    {
      "cell_type": "code",
      "execution_count": null,
      "metadata": {
        "editable": true,
        "tags": [],
        "id": "5cb2f86a-add6-41ac-97b1-63b49a17b782"
      },
      "outputs": [],
      "source": [
        "total = 0\n",
        "for valor in range(2, 101, 2):\n",
        "    total += valor\n",
        "print('A soma é = ', total)"
      ],
      "id": "5cb2f86a-add6-41ac-97b1-63b49a17b782"
    },
    {
      "cell_type": "markdown",
      "metadata": {
        "editable": false,
        "tags": [],
        "id": "17c78b5c-5c67-4975-83d4-1dbe01fe3c8b"
      },
      "source": [
        "4. Uma pessoa investiu 1.000 reais em uma conta poupança que rende 5% de juros ao ano. Supondo que a pessoa deixe todos os rendimentos depositados na conta, calcule e exiba o saldo da conta ao final de cada ano durante 10 anos. Use a seguinte fórmula para determinar esses valores: $a = p(1 + r)^n$. Nesta fórmula $p$ é o valor original investido (ou seja, o principal), $r$ é a taxa de juros anual, $n$ é o número de anos e $a$ é o valor resultante no final do e-nésimo ano."
      ],
      "id": "17c78b5c-5c67-4975-83d4-1dbe01fe3c8b"
    },
    {
      "cell_type": "code",
      "execution_count": null,
      "metadata": {
        "editable": true,
        "tags": [],
        "id": "0b60615c-12b1-4318-a997-3fd8135e0fc6"
      },
      "outputs": [],
      "source": [
        "capital = 1000.0\n",
        "for n in range(1, 11):\n",
        "    saldo = capital * (1.0 + 0.05)**n\n",
        "    print(f'Saldo após {n} ano(s) = {saldo:.}')"
      ],
      "id": "0b60615c-12b1-4318-a997-3fd8135e0fc6"
    },
    {
      "cell_type": "markdown",
      "id": "361045b2-1b24-4f0d-8fef-c672f3f54b9b",
      "metadata": {
        "tags": [],
        "id": "361045b2-1b24-4f0d-8fef-c672f3f54b9b"
      },
      "source": [
        "## 2.5 Operadores de Atribuição Composta\n",
        "Atribuições compostas são úteis porque abreviam expressões de atribuição nas quais o nome da variável aparece à esquerda e à direita da atribuição (uma atualização de valor).\n",
        "\n",
        "No exemplo abaixo, implementamos a soma de 1 a 5 usando um comando `for`. No bloco de comandos a acumulação de valores é feita de duas formas: (1) usando atribuição simples e (2) usando atribuição composta:"
      ]
    },
    {
      "cell_type": "code",
      "execution_count": null,
      "id": "ccf4a5f0-9b23-4fa4-a075-7bd10ab0f6df",
      "metadata": {
        "editable": false,
        "tags": [],
        "id": "ccf4a5f0-9b23-4fa4-a075-7bd10ab0f6df"
      },
      "outputs": [],
      "source": [
        "total1 = 0\n",
        "total2 = 0"
      ]
    },
    {
      "cell_type": "code",
      "execution_count": null,
      "id": "b4d47ee5-8216-4b36-8737-527f6db8e7bd",
      "metadata": {
        "editable": true,
        "tags": [],
        "id": "b4d47ee5-8216-4b36-8737-527f6db8e7bd"
      },
      "outputs": [],
      "source": [
        "for numero in [1, 2, 3, 4, 5]:\n",
        "    total1 = total1 + numero\n",
        "    total2 += numero  # equivalente a total2 = total2 + numero"
      ]
    },
    {
      "cell_type": "code",
      "execution_count": null,
      "id": "be68f00a-111d-4c73-b2b0-4ce04b606aa3",
      "metadata": {
        "editable": false,
        "tags": [],
        "id": "be68f00a-111d-4c73-b2b0-4ce04b606aa3"
      },
      "outputs": [],
      "source": [
        "print(total1)\n",
        "print(total2)"
      ]
    },
    {
      "cell_type": "markdown",
      "id": "18c9a361-35c0-4f97-921f-8d95879df51f",
      "metadata": {
        "editable": false,
        "tags": [],
        "id": "18c9a361-35c0-4f97-921f-8d95879df51f"
      },
      "source": [
        "No trecho acima `+=` primeiro adiciona o valor do número ao total2 atual e, em seguida, armazena o resultado em total2. Existem vários operadores de atribuição composta: +=, -=, *=, **=, /=, //= e %=. Seguem alguns exemplos:"
      ]
    },
    {
      "cell_type": "code",
      "execution_count": null,
      "id": "49deaf86-e92c-42ad-8523-3ce65b9b0db5",
      "metadata": {
        "editable": false,
        "tags": [],
        "id": "49deaf86-e92c-42ad-8523-3ce65b9b0db5"
      },
      "outputs": [],
      "source": [
        "a = 10\n",
        "a += 2\n",
        "print(a)"
      ]
    },
    {
      "cell_type": "code",
      "execution_count": null,
      "id": "c25e8527-da83-4424-a0f7-ca2388b086b5",
      "metadata": {
        "tags": [],
        "id": "c25e8527-da83-4424-a0f7-ca2388b086b5"
      },
      "outputs": [],
      "source": [
        "a = 10\n",
        "a -= 2 #a = a - 2\n",
        "print(a)"
      ]
    },
    {
      "cell_type": "code",
      "execution_count": null,
      "id": "e70837f9-477b-4e33-8038-c41415299b6b",
      "metadata": {
        "editable": true,
        "tags": [],
        "id": "e70837f9-477b-4e33-8038-c41415299b6b"
      },
      "outputs": [],
      "source": [
        "a = 10\n",
        "a *= 2 # a = a * 2\n",
        "print(a)"
      ]
    },
    {
      "cell_type": "code",
      "execution_count": null,
      "id": "1a0b6e62-195a-4a4c-82cd-e26e4e222769",
      "metadata": {
        "editable": true,
        "tags": [],
        "id": "1a0b6e62-195a-4a4c-82cd-e26e4e222769"
      },
      "outputs": [],
      "source": [
        "a = 10\n",
        "a **= 2 # a = a ** 2\n",
        "print(a)"
      ]
    },
    {
      "cell_type": "code",
      "execution_count": null,
      "id": "ff613e36-1146-4f9d-baa9-ce1420c3d262",
      "metadata": {
        "editable": false,
        "tags": [],
        "id": "ff613e36-1146-4f9d-baa9-ce1420c3d262"
      },
      "outputs": [],
      "source": [
        "a = 10\n",
        "a /= 2\n",
        "print(a)"
      ]
    },
    {
      "cell_type": "code",
      "execution_count": null,
      "id": "0bc34ecc-8d90-4fbe-a104-4c6012b065bd",
      "metadata": {
        "editable": false,
        "tags": [],
        "id": "0bc34ecc-8d90-4fbe-a104-4c6012b065bd"
      },
      "outputs": [],
      "source": [
        "a = 10\n",
        "a //= 2\n",
        "print(a)"
      ]
    },
    {
      "cell_type": "code",
      "execution_count": null,
      "id": "a1b45795-2419-4fa2-b1d9-7e00517eb1f3",
      "metadata": {
        "editable": true,
        "tags": [],
        "id": "a1b45795-2419-4fa2-b1d9-7e00517eb1f3"
      },
      "outputs": [],
      "source": [
        "a = 10\n",
        "a %= 3 # a = a % 3\n",
        "print(a)"
      ]
    },
    {
      "cell_type": "markdown",
      "id": "fb591796-1ac1-4554-afa8-c8efd7f45e04",
      "metadata": {
        "editable": false,
        "tags": [],
        "id": "fb591796-1ac1-4554-afa8-c8efd7f45e04"
      },
      "source": [
        "# 2.6 Vamos desenvolver nosso primeiro Programa: Repetição Controlada por Sequência\n",
        "A experiência tem mostrado que a parte mais desafiadora da resolução de um problema em um computador é desenvolver um algoritmo (que integra e combina um conjunto de comandos) para proporcionar a solução. Uma vez especificado um algoritmo correto, criar um programa funcional a partir dele normalmente é simples.\n",
        "\n",
        "Para problemas complexos, a construção da solução algoritmica normalmente demanda uma abordagem sistemática. De modo geral, precisamos primeiramente descrever o algoritmo em alto nível (de forma abstrata, geralmente por meio de pseudo-código -- Portugol, por exemplo) e depois, passo a passo, refinar a especificação até obtermos uma versão implementável. Para entender a técnica, vamos começar construindo um algoritmo para cálcular a nota média de uma turma de alunos após a realização de um teste."
      ]
    },
    {
      "cell_type": "markdown",
      "id": "1f58a114-a587-4a85-999e-b5509ad435d9",
      "metadata": {
        "editable": false,
        "tags": [],
        "id": "1f58a114-a587-4a85-999e-b5509ad435d9"
      },
      "source": [
        "## 2.6.1 Requisitos do Problema\n",
        "Os __requisitos__ descrevem os dados de entrada (se houver), bem como __o que__ programa deve fazer, mas não descreve o \"__como__\" o programa deve fazê-lo. Esta é a sua tarefa de programador!\n",
        "\n",
        "Considere a seguinte especificação de requisitos:\n",
        "1. *Após uma turma de dez alunos realizar um teste, suas notas (inteiros no intervalo de 0 a 100) foram 98, 76, 71, 87, 83, 90, 57, 79, 82, 94.*\n",
        "2. *Deseja-se determine a média das **notas da turma** no teste.*\n",
        "\n",
        "Observe que o item 1 dos requisitos descreve os dados de entrada, ao passo que o item 2 descreve o que é esperado que o programa faça."
      ]
    },
    {
      "cell_type": "markdown",
      "id": "1fec4836-2631-4296-a712-c372c823ffc3",
      "metadata": {
        "editable": false,
        "tags": [],
        "id": "1fec4836-2631-4296-a712-c372c823ffc3"
      },
      "source": [
        "## 2.6.2 Pseudocódigo: primeira versão\n",
        "O pseudocódigo a seguir lista as ações a serem executadas de forma bastante abstrata:"
      ]
    },
    {
      "cell_type": "markdown",
      "id": "1215fcb3-5a1e-4d21-8345-f2b2ee2cff9f",
      "metadata": {
        "editable": true,
        "tags": [],
        "id": "1215fcb3-5a1e-4d21-8345-f2b2ee2cff9f"
      },
      "source": [
        "```\n",
        "1. Calcule a média das notas presentes em lista_de_notas e atribua o resultado à variável nota_média\n",
        "2. Exiba a mensagem \"Média = \" seguida do valor calculado e armazenado em nota_média\n",
        "```"
      ]
    },
    {
      "cell_type": "markdown",
      "id": "26841f0f-f57e-4fc6-a899-2da7085e52c6",
      "metadata": {
        "editable": true,
        "tags": [],
        "id": "26841f0f-f57e-4fc6-a899-2da7085e52c6"
      },
      "source": [
        "## 2.6.3 Pseudocódigo: primeiro refinamento\n",
        "Obviamente a primeira versão do algoritmo, apesar de ser completa, não é implementável (não tem detalhes suficientes). Entretanto, podemos refiná-la detalhando os passos necessários para calcular a média.\n",
        "\n",
        "Para calcular a média, precisamos somar todas as notas presentes na `lista_de_notas` e depois dividir o resultado da soma pelo número total de notas: $média = 1 \\div 10 \\times \\sum_{i=1}^{10} nota_i$."
      ]
    },
    {
      "cell_type": "markdown",
      "id": "6c6c6d9d-8116-43b2-9419-47ce470acbd3",
      "metadata": {
        "editable": false,
        "tags": [],
        "id": "6c6c6d9d-8116-43b2-9419-47ce470acbd3"
      },
      "source": [
        "\n",
        "```\n",
        "1. total <- 0\n",
        "2. lista_de_notas <- Lista com as dez notas dos alunos\n",
        "3. total <- soma das notas presentes em lista_de_notas\n",
        "4. nota_média <- total / 10.0\n",
        "5. **escreva**(\"Média: \", nota_média)\n",
        "```"
      ]
    },
    {
      "cell_type": "markdown",
      "id": "cac65195-9b78-4ef3-8973-2f0332d67051",
      "metadata": {
        "editable": true,
        "tags": [],
        "id": "cac65195-9b78-4ef3-8973-2f0332d67051"
      },
      "source": [
        "## 2.6.4 Pseudocódigo: segundo refinamento\n",
        "Apesar do primeiro refinamento ter detelhado melhor o algoritmo, essa versão ainda não é plenamente implementável (compatível com uma linguagem de programação), pois não temos em mãos nenhum comando que diretamente calcule a soma de uma lista de inteiros. Sendo assim, precisamos realizar mais um refinamento.\n",
        "\n",
        "A linha que precisa ser detalhada é a **linha 3**, isto é, o cálculo da soma das notas. Para isso, podemos construir um *looping* que itera sobre a lista e a cada iteração acumula o valor dos seus elementos."
      ]
    },
    {
      "cell_type": "markdown",
      "id": "0cf2f34a-aa9a-4115-8740-8966fee220e2",
      "metadata": {
        "editable": true,
        "tags": [],
        "id": "0cf2f34a-aa9a-4115-8740-8966fee220e2"
      },
      "source": [
        "```\n",
        "1. total <- 0\n",
        "2. lista_de_notas <- Lista com as dez notas dos alunos\n",
        "3. para cada nota presente na lista_de_notas faça\n",
        "4.     total <- total + nota\n",
        "5. nota_media <- total / 10.0\n",
        "6. escreva(\"Média: \", nota_media);\n",
        "```"
      ]
    },
    {
      "cell_type": "markdown",
      "id": "76326f73-6ea0-4208-896d-210cfab13110",
      "metadata": {
        "editable": true,
        "tags": [],
        "id": "76326f73-6ea0-4208-896d-210cfab13110"
      },
      "source": [
        "Agora sim temos uma versão passível de ser implementada em Pyhton (na verdade uma versão que pode ser traduzida para qualquer linguagem de programação), já que temos em mãos comandos com correspondência direta a cada linha do algoritmo."
      ]
    },
    {
      "cell_type": "markdown",
      "id": "32786cf0-61d2-48dd-ac59-da8696de00f9",
      "metadata": {
        "editable": true,
        "tags": [],
        "id": "32786cf0-61d2-48dd-ac59-da8696de00f9"
      },
      "source": [
        "## 2.6.5 Codificando o Algoritmo em Python\n",
        "Como exercício, complete a implementação em Python do algoritmo descrito na subseção anterior. Defina a lista_de_notas usando uma lista python ([ ]) que, como sabemos, é uma sequência iterável que pode ser usada no comando `for`."
      ]
    },
    {
      "cell_type": "code",
      "execution_count": 14,
      "id": "200d6cc5-c58d-4a3e-bba0-28bb0c96a291",
      "metadata": {
        "editable": true,
        "tags": [],
        "id": "200d6cc5-c58d-4a3e-bba0-28bb0c96a291",
        "colab": {
          "base_uri": "https://localhost:8080/"
        },
        "outputId": "dd006ceb-10b8-4735-8e9c-de1999545013"
      },
      "outputs": [
        {
          "output_type": "stream",
          "name": "stdout",
          "text": [
            "Média:  81.70\n"
          ]
        }
      ],
      "source": [
        "total = 0\n",
        "lista_de_notas = [98, 76, 71, 87, 83, 90, 57, 79, 82, 94]\n",
        "\n",
        "for nota in lista_de_notas:\n",
        "    total += nota\n",
        "\n",
        "nota_media  = total / 10.0\n",
        "print(f'Média: {nota_media:.2f}') #vamos discutir sobre formatação na seção seguinte"
      ]
    },
    {
      "cell_type": "markdown",
      "id": "bbe5fa95-5413-431e-87b6-b4f211e25849",
      "metadata": {
        "editable": false,
        "tags": [],
        "id": "bbe5fa95-5413-431e-87b6-b4f211e25849"
      },
      "source": [
        "O Guia de Estilo para código Python recomenda colocar uma linha em branco acima e abaixo de cada instrução de controle."
      ]
    },
    {
      "cell_type": "markdown",
      "id": "2e1082c2-8c82-41a3-acda-7d1ec8f8942b",
      "metadata": {
        "editable": true,
        "tags": [],
        "id": "2e1082c2-8c82-41a3-acda-7d1ec8f8942b"
      },
      "source": [
        "## 2.6.6  Introdução às strings formatadas\n",
        "A ultima linha do programa da seção anterior usa uma *f-string* (abreviação de string formatada -- *formated string*) para formatar o resultado do comando de impressão:\n",
        "```\n",
        "f'Média: {nota_media:.2f}'''\n",
        "```\n",
        "A letra **f** antes da aspa de abertura indica que é uma *f-string*. Especificamos onde inserir valores usando espaços delimitados por chaves ({ }). Particularmente, `{nota_media:.2f}` converte (autera sua apresentação -- mas não modifica seu valor) o valor da variável `nota_media`. O trecho `:.2f` indica que serão impressos apenas dois dígitos de precisão no ponto flutuante,  em uma string de substituição e, em seguida, substitui {nota_media:.2f} por essa string (formatada).\n",
        "\n",
        "As substituições podem incluir valores, variáveis ou outras expressões, bem como cálculos ou chamadas de função. Poderíamos, por exemplo, ter usado a expressão matemática $(total / 10.0)$ no lugar da variável `nota_media`, eliminando a necessidade da penúltima linha do programa."
      ]
    },
    {
      "cell_type": "markdown",
      "id": "4da03598-7149-453a-b38f-2a295454ee9d",
      "metadata": {
        "editable": false,
        "tags": [],
        "id": "4da03598-7149-453a-b38f-2a295454ee9d"
      },
      "source": [
        "### Exercício\n",
        "1. Use uma f-string e as variáveis `numero1` (`7`) e `numero2` (`5`) para exibir o seguinte texto:\n",
        "```\n",
        "    7 vezes 5 é 35\n",
        "```"
      ]
    },
    {
      "cell_type": "code",
      "execution_count": null,
      "id": "a004003b-82a5-4e1f-999e-91b89547858f",
      "metadata": {
        "editable": true,
        "tags": [],
        "id": "a004003b-82a5-4e1f-999e-91b89547858f"
      },
      "outputs": [],
      "source": [
        "numero1 = 7\n",
        "numero2 = 5\n",
        "print(f'{numero1} vezes {numero2} é 35')"
      ]
    },
    {
      "cell_type": "markdown",
      "id": "b0f3040f-41d2-40c4-820f-34bfd8154d0a",
      "metadata": {
        "editable": false,
        "tags": [],
        "id": "b0f3040f-41d2-40c4-820f-34bfd8154d0a"
      },
      "source": [
        "# 2.7 Vamos ao nosso segundo desenvolvimento de Programa: Repetição controlada por sentinela\n",
        "\n",
        "No exemplo anterior, sabíamos de antemão que o programa deveria processar 10 notas. Essa é uma característica limitante, de modo que agora vamos generalizá-lo.\n",
        "\n",
        "Considere a seguinte declaração de requisitos:\n",
        "1. *As notas serão fornecidas, uma a uma, pelo um usuário.*\n",
        "2. *Não se sabe de antemão quantas notas serão processadas.*\n",
        "3. *O objetivo é determinar a média das notas fornecidas pelo usuário.*\n",
        "\n",
        "Diferente do exemplo anterior, os requisitos não indicam quais são as notas nem quantas existem. Sabemos apenas que as notas serão informadas, umas a uma, pelo usuário. Como não sabemos quantas notas serão fornecidas, como determinar quando parar de processar as notas para prosseguir e calcular a média da turma?\n",
        "\n",
        "Há diferente estratégias (que podem usar recursos avançados da linguagem), mas uma maneira simples de resolver esse problema é usar um valor especial chamado de __valor sentinela__ (também chamado de valor fictício, ou sinalizador, *flag*) para indicar o “fim da entrada de dados”. Neste método, o usuário insere as notas, uma de cada vez, até que todas as notas tenham sido inseridas. O usuário então insere o valor sentinela para indicar que não há mais notas. A repetição controlada por sentinela costuma ser chamada de repetição indefinida porque o número de repetições não é conhecido previamente, antes da execução do loop.\n",
        "\n",
        "É importante que o valor sentinela não seja confundido com nenhum valor de entrada aceitável (uma nota de aluno). Para o nosso contexto do problema, as notas são números inteiros não negativos entre 0 e 100, portanto o valor –1 é um valor sentinela aceitável para este problema. Assim, uma execução do programa poderia, por exemplo, processar um fluxo de entradas, tais como 95, 96, 75, 74, 89 e –1, e então calcular a média das notas. Obviamente, o valor sentinela, –1, não deve entrar no cálculo da média.\n",
        "\n",
        "Novamente, vamos construir o algoritmo usando a abordagem baseada em refinamentos sucessivos."
      ]
    },
    {
      "cell_type": "markdown",
      "id": "514f65b6-20c9-4208-a39e-04e1b8ec06c4",
      "metadata": {
        "editable": false,
        "tags": [],
        "id": "514f65b6-20c9-4208-a39e-04e1b8ec06c4"
      },
      "source": [
        "## 2.7.1 Pseudocódigo: Primeiro versão\n",
        "Em alto nível, sabemos o que deve ser feito (**determinar a nota média da turma**). Especificamos a primeira versão decompondo o que sabemos em uma sequência de tarefas menores -- uma estratégia chamada de **divisão e conquista**, ou **dividir para conquistar**. Ou seja, como não sabemos quantas notas serão fornecidas, para calcular a média precisamos somá-las, mas também contá-las (passo-a-passo). Isso resulta no seguinte algoritmo:"
      ]
    },
    {
      "cell_type": "markdown",
      "id": "d604b009-7cfe-4b6b-b193-89f6df3f3d55",
      "metadata": {
        "editable": true,
        "tags": [],
        "id": "d604b009-7cfe-4b6b-b193-89f6df3f3d55"
      },
      "source": [
        "```\n",
        "1. À medida que as notas são inseridas, some-as e conte-as\n",
        "2. Com base nas informações computadas no passo 1, calcule e exiba a média da turma\n",
        "```"
      ]
    },
    {
      "cell_type": "markdown",
      "id": "3326288b-1ec8-4d45-a88b-1b1d1d978404",
      "metadata": {
        "editable": true,
        "tags": [],
        "id": "3326288b-1ec8-4d45-a88b-1b1d1d978404"
      },
      "source": [
        "Novamente, a primeira versão define o algoritmo completo, mas o nível de detalhe não é suficiente para implementação. Sendo assim, continuamos realizando um refinamento."
      ]
    },
    {
      "cell_type": "markdown",
      "id": "5816bc59-bf64-47ae-832e-53d908e1c274",
      "metadata": {
        "editable": false,
        "tags": [],
        "id": "5816bc59-bf64-47ae-832e-53d908e1c274"
      },
      "source": [
        "## 2.7.2 Pseudocódigo: Primeiro Refinamento\n",
        "Nesse refinamento vamos determinar as variáveis específicas que o algoritmo precisa para resolver o problema:\n",
        "* Uma variável `nota` para armazenar as entradas sucessiva do usuário;\n",
        "* Uma variável `total` para acumular a soma das notas;\n",
        "* Uma variável `numero_de_notas` para contabilizar o número de notas que foram processadas; e\n",
        "* Uma variável `nota_media` para armazenar o resultado da média calculada.\n",
        "\n",
        "Inicialmente precisamos inicializar `total` e `numero_de_notas`, ambas com zero, pois essas variáveis serão usadas para acumular a soma das notas e para contabilizar o número de notas processadas, respectivamente. Tudo isso à medida que o usuário for fazendo as entradas."
      ]
    },
    {
      "cell_type": "markdown",
      "id": "5110fb01-29fd-4ef3-a38d-207d008838ca",
      "metadata": {
        "editable": false,
        "tags": [],
        "id": "5110fb01-29fd-4ef3-a38d-207d008838ca"
      },
      "source": [
        "A primeira versão do algoritmo proposta determina (na linha 1) que as notas sejam inseridas, somadas e contadas. Não sabemos quantas notas serão inseridas, por isso usaremos uma __repetição controlada por sentinela__. O usuário inserirá notas legítimas sucessivamente, uma a uma. Após a última nota legítima ter sido inserida, o usuário inserirá o valor sentinela (vamos adotar o $-1$). O algoritmo testará o valor sentinela após cada nota ser inserida e encerrará o loop quando o valor sentinela for inserido. Portanto, a linha 1 da primeira versão do algoritmo será refinada da seguinte forma:"
      ]
    },
    {
      "cell_type": "markdown",
      "id": "c25320ef-155f-4fae-bd15-655746cbe8f7",
      "metadata": {
        "editable": true,
        "tags": [],
        "id": "c25320ef-155f-4fae-bd15-655746cbe8f7"
      },
      "source": [
        "```\n",
        "1. leia(nota);\n",
        "2. enquanto o usuário não entrar com o valor sentinela\n",
        "3.     adicione a nota corrente à variável total\n",
        "4.     incremente a variável numero_de_notas em 1\n",
        "5.     leia(nota)\n",
        "```"
      ]
    },
    {
      "cell_type": "markdown",
      "id": "05e576e8-1158-4104-988a-ee2d9022b671",
      "metadata": {
        "editable": false,
        "tags": [],
        "id": "05e576e8-1158-4104-988a-ee2d9022b671"
      },
      "source": [
        "Com base no refinamento da linha 1, sabemos que a soma de todas as notas estará armazenadas na variável `total`, assim como sabemos que número de notas processadas estará armazenado na variável `número_de_notas`. Com essas informações, A linha 2 da primeira versão pode ser refinada da seguinte forma:"
      ]
    },
    {
      "cell_type": "markdown",
      "id": "3ee2c136-b6ec-457b-a4da-5fc6d7b689cb",
      "metadata": {
        "editable": false,
        "tags": [],
        "id": "3ee2c136-b6ec-457b-a4da-5fc6d7b689cb"
      },
      "source": [
        "```\n",
        "1. média <- total / numero_de_notas\n",
        "2. escreva(\"Média: \", nota_media)\n",
        "```"
      ]
    },
    {
      "cell_type": "markdown",
      "id": "2c790b19-4cf6-4361-8be0-22afdbe8eb4b",
      "metadata": {
        "editable": false,
        "tags": [],
        "id": "2c790b19-4cf6-4361-8be0-22afdbe8eb4b"
      },
      "source": [
        "Jutando as partes, a seguir apresentamos o segundo refinamento em sua versão completa. Observe que agora também estamos testando a possibilidade de divisão por zero. Se isso não fosse feito, poderíamos incorrer em um erro lógico (e matemático) fatal."
      ]
    },
    {
      "cell_type": "markdown",
      "id": "0c3c3c79-4936-4245-b5b4-24c843edc90a",
      "metadata": {
        "tags": [],
        "id": "0c3c3c79-4936-4245-b5b4-24c843edc90a"
      },
      "source": [
        "```\n",
        "1. total <- 0\n",
        "2. numero_de_notas <- 0\n",
        "3.\n",
        "4. leia(nota)\n",
        "5. enquanto nota for diferente do valor sentinela\n",
        "6.     total <- total + nota\n",
        "7.      numero_de_notas <- numero_de_notas + 1\n",
        "8.      leia(nota)\n",
        "9.\n",
        "10. se numero_de_notas > 0 então\n",
        "11.     nota_média <- total / numero_de_notas\n",
        "12.     escreva(\"Média: \", nota_media)\n",
        "13. senão\n",
        "14.     escreva(\"Nenhuma nota foi fornecida!\")\n",
        "```"
      ]
    },
    {
      "cell_type": "markdown",
      "id": "c6efd6ae-6b45-413a-8135-a2a08aec4ac2",
      "metadata": {
        "editable": false,
        "tags": [],
        "id": "c6efd6ae-6b45-413a-8135-a2a08aec4ac2"
      },
      "source": [
        "### 2.7.3 Codificando o Algoritmo em Python\n",
        "Como exercício, codifique em Python o algoritmo que acabamos de construir."
      ]
    },
    {
      "cell_type": "code",
      "execution_count": null,
      "id": "433f7f7f-c60e-4ef1-b03e-ef49ba470981",
      "metadata": {
        "editable": true,
        "tags": [],
        "id": "433f7f7f-c60e-4ef1-b03e-ef49ba470981"
      },
      "outputs": [],
      "source": [
        "total = 0\n",
        "numero_de_notas = 0\n",
        "\n",
        "nota = float( input('Entre com a nota (ou -1 para sair): ') )\n",
        "\n",
        "while nota != -1:\n",
        "    total += nota\n",
        "    numero_de_notas += 1\n",
        "    nota = float( input('Entre com a nota (-1 para sair): ') )\n",
        "\n",
        "if numero_de_notas > 0:\n",
        "    nota_media = total / numero_de_notas\n",
        "    print(f'Média = {nota_media:.2f}')\n",
        "else:\n",
        "    print('Nenhuma nota foi fornecida!')"
      ]
    },
    {
      "cell_type": "markdown",
      "id": "3a7883f1-ae1e-4c85-8829-6f3661ca68ce",
      "metadata": {
        "editable": false,
        "tags": [],
        "id": "3a7883f1-ae1e-4c85-8829-6f3661ca68ce"
      },
      "source": [
        "Como explicado na anteriormente, lembre-se que a exibição da `nota_média` está sendo feita com uma *f-string* formatada com dois dígitos à direita da vírgula decimal. Em uma *f-string*, podemos, opcionalmente, seguir uma expressão de texto de substituição com dois pontos (:) e um especificador de formato que descreve como formatar o texto de substituição. O especificador de formato `.2f` formata o valor da média como um número de ponto flutuante (f) com dois dígitos à direita do ponto decimal (.2)."
      ]
    },
    {
      "cell_type": "markdown",
      "id": "d37218c2-031b-41af-8ebb-1987d6b098f8",
      "metadata": {
        "editable": false,
        "tags": [],
        "id": "d37218c2-031b-41af-8ebb-1987d6b098f8"
      },
      "source": [
        "# 2.8 Mais um desenvolvimento de Programa: Comandos de Controle de Fluxo Aninhados\n",
        "Os comandos de controle de fluxo podem ser __aninhados__. Isso significa que eles podem ser colocados como parte do bloco de código de um comando de controle de fluxo de nível superior.\n",
        "\n",
        "Como exemplo, no bloco de código a seguir usamos um comando `for` com um comando `if-else` aninhado (interno ao bloco do `for`) para determinar se cada um, entre dois valores fornecidos, é par ou ímpar."
      ]
    },
    {
      "cell_type": "code",
      "execution_count": null,
      "id": "25b93af3-4bb3-42d8-8a11-113c1f416293",
      "metadata": {
        "editable": false,
        "tags": [],
        "id": "25b93af3-4bb3-42d8-8a11-113c1f416293"
      },
      "outputs": [],
      "source": [
        "for contador in range(2): # contador eh usado apenas para controlar o laco\n",
        "    valor = int( input('Entre com um número inteiro: ') )\n",
        "    if (valor % 2) == 0:\n",
        "        print(f'{valor} é par')\n",
        "    else:\n",
        "        print(f'{valor} é ímpar')"
      ]
    },
    {
      "cell_type": "markdown",
      "source": [
        "Qualquer combinação de aninhamento é possível. O desafio é identificar a correta relação entre as estruturas para que se possa produzir o resultado esperado, conforme as especificações e objetivo do programa.\n",
        "\n",
        "O trecho de algoritmo abaixo realiza todas as combinação entre os números de 1 a 3, calculando a soma entre eles. Observe a estrutura de cada laço e como o aninhamento ocorre em relação do laço mais externo (com variável de controle $x$), o laço intermediário (variável de controle $y$) e o o laço mais interno (variável de controle $z$). Atenção ao ponto onde a impressão ocorre e resultado obtido."
      ],
      "metadata": {
        "id": "wT8GlkeGu_oO"
      },
      "id": "wT8GlkeGu_oO"
    },
    {
      "cell_type": "code",
      "execution_count": null,
      "id": "a9e6384f-4343-44d3-af3c-a8b3d62a1545",
      "metadata": {
        "editable": true,
        "tags": [],
        "id": "a9e6384f-4343-44d3-af3c-a8b3d62a1545"
      },
      "outputs": [],
      "source": [
        "for x in range(1,4): # Serie: 1, 2, 3\n",
        "    for y in range(1,4): # Serie: 1, 2, 3\n",
        "        for z in range(1,4): # Serie: 1, 2, 3\n",
        "            print(f'{x} + {y} + {z} = {x + y + z}')"
      ]
    },
    {
      "cell_type": "markdown",
      "id": "6a87f429-13a9-4b50-90d1-9d9702e674a2",
      "metadata": {
        "editable": false,
        "tags": [],
        "id": "6a87f429-13a9-4b50-90d1-9d9702e674a2"
      },
      "source": [
        "## Exercício\n",
        "Com base nos requisitos apresentados a seguir, construa um algoritmo que resolva o problema e em seguida faça a implementação em Python:\n",
        "\n",
        "*Uma faculdade oferece um curso que prepara os alunos para o exame estadual de licenciamento para corretores de imóveis. No último ano, vários dos alunos que concluíram o curso realizaram o exame de licenciamento. A faculdade quer saber o desempenho de seus alunos no exame.*\n",
        "\n",
        "*Você foi contratado para escrever um programa para analisar os resultados. A faculdade te forceu uma lista com 10 desses alunos. Ao lado de cada nome está escrito 1 se o aluno passou no exame, ou 2 se o aluno foi reprovado.*\n",
        "\n",
        "*Seu programa deve analisar os resultados do exame da seguinte forma:*\n",
        "1. *O programa deve apresentar um prompt para entrada de cada resultado do teste pelo usuário (informará 1 ou 2). O programa deve exibir a mensagem “Insera resultado:” a cada vez que o programa solicitar outro resultado de teste.*\n",
        "2. *O programa deve contar o número de resultados de testes de cada tipo.*\n",
        "3. *O programa deve exibir um resumo dos resultados do teste indicando o número de alunos aprovados e o número de alunos reprovados.*\n",
        "4. *Em relação ao total de testes realizados, informe quantos porcento dos alunos foram aprovados ($total.de.aprovados \\div total.de.exames \\times 100$) e quantos porcento foram reprovados ($total.de.reprovados \\div total.de.exames \\times 100$).*\n",
        "5. *Se mais de oito alunos passaram no exame, exiba “Bônus para instrutor”.*"
      ]
    },
    {
      "cell_type": "code",
      "execution_count": null,
      "id": "f68ea183-c25e-4ca2-8123-b4559f41d384",
      "metadata": {
        "editable": true,
        "tags": [],
        "id": "f68ea183-c25e-4ca2-8123-b4559f41d384"
      },
      "outputs": [],
      "source": [
        "#\n",
        "# Escreva sua implementação Python aqui!\n",
        "#"
      ]
    },
    {
      "cell_type": "markdown",
      "id": "00f2d22f-be0f-4921-8144-521f2e00f5e7",
      "metadata": {
        "editable": false,
        "tags": [],
        "id": "00f2d22f-be0f-4921-8144-521f2e00f5e7"
      },
      "source": [
        "# 2.9 Comandos `break` e `continue`"
      ]
    },
    {
      "cell_type": "markdown",
      "id": "5c7cf3b7-cced-41bc-b740-13f2840ce0eb",
      "metadata": {
        "editable": false,
        "tags": [],
        "id": "5c7cf3b7-cced-41bc-b740-13f2840ce0eb"
      },
      "source": [
        "Os comandos `break` e `continue` **alteram o fluxo de controle** de um loop. Executar uma instrução `break` em um `while` (ou `for`) força a saída imediata do loop -- mesmo que o critério de parada não tenha sido atingido. No código a seguir, `range()` produz a sequência inteira de 0 a 99, mas o loop termina quando chega no número é 10:"
      ]
    },
    {
      "cell_type": "code",
      "execution_count": 5,
      "id": "55438eb6-3f21-4b9a-bc42-3085844b4e14",
      "metadata": {
        "editable": true,
        "tags": [],
        "id": "55438eb6-3f21-4b9a-bc42-3085844b4e14",
        "outputId": "ee1b9d91-3b6f-4281-a06e-4559ce56a9f5",
        "colab": {
          "base_uri": "https://localhost:8080/"
        }
      },
      "outputs": [
        {
          "output_type": "stream",
          "name": "stdout",
          "text": [
            "0 1 2 3 4 5 6 7 8 9 "
          ]
        }
      ],
      "source": [
        "for numero in range(100): # 0, 1, 2, 3, ..., 99\n",
        "    if numero == 10:\n",
        "        break\n",
        "    print(numero, end=' ')"
      ]
    },
    {
      "cell_type": "markdown",
      "id": "6f22f8ab-e790-4d02-9346-de704ec574f0",
      "metadata": {
        "editable": false,
        "tags": [],
        "id": "6f22f8ab-e790-4d02-9346-de704ec574f0"
      },
      "source": [
        "Já a execução do comando `continue` em um loop `while` ou `for` ignora o restante do bloco de código naquela iteração do loop, passando para a próxima iteração. No caso de um comando `while`, a condição é testada para determinar se o loop deve continuar em execução. No caso de um comando `for`, o loop processa o próximo item da sequência (se houver).\n",
        "\n",
        "No exemplo a seguir, é gerada uma série com números de 1 até 15, o comando `continue` altera a sequência de impressão, entre os números de 5 a 10:"
      ]
    },
    {
      "cell_type": "code",
      "execution_count": null,
      "id": "8156470f-eaf4-4b59-8b51-c355e9af894a",
      "metadata": {
        "editable": true,
        "tags": [],
        "id": "8156470f-eaf4-4b59-8b51-c355e9af894a"
      },
      "outputs": [],
      "source": [
        "for numero in range(1,15):  # 0, 1, 2, 3, 4, 5, ..., 15\n",
        "    if numero >= 5 and numero <=10:\n",
        "        continue\n",
        "    print(numero, end=' ')"
      ]
    },
    {
      "cell_type": "markdown",
      "id": "41736997-1673-4fa5-9b6f-847e54e6e374",
      "metadata": {
        "editable": true,
        "tags": [],
        "id": "41736997-1673-4fa5-9b6f-847e54e6e374"
      },
      "source": [
        "# 2.10 Operadores Lógicos em Comandos de Seleção"
      ]
    },
    {
      "cell_type": "markdown",
      "id": "2176577c-b7b5-4de4-a037-53e99f7ca0a9",
      "metadata": {
        "editable": false,
        "tags": [],
        "id": "2176577c-b7b5-4de4-a037-53e99f7ca0a9"
      },
      "source": [
        "### Operador lógico **`and`**\n",
        "Para garantir que duas condições sejam verdadeiras antes de executar um bloco de código, use o operador lógico `and` para combinar as condições. O código a seguir define duas variáveis ​​e, em seguida, testa uma condição que é Verdadeira se e somente se ambas as condições simples forem Verdadeiras — se uma (ou ambas) as condições simples for Falsa, toda a expressão combinada será Falsa:"
      ]
    },
    {
      "cell_type": "code",
      "execution_count": null,
      "id": "8a3d5a5f-5f83-4886-bd81-000d4bd48405",
      "metadata": {
        "editable": false,
        "tags": [],
        "id": "8a3d5a5f-5f83-4886-bd81-000d4bd48405"
      },
      "outputs": [],
      "source": [
        "sexo = 'Feminino'"
      ]
    },
    {
      "cell_type": "code",
      "execution_count": null,
      "id": "85c8841c-eab7-4376-8c2c-cc3787e32500",
      "metadata": {
        "editable": false,
        "tags": [],
        "id": "85c8841c-eab7-4376-8c2c-cc3787e32500"
      },
      "outputs": [],
      "source": [
        "idade = 70"
      ]
    },
    {
      "cell_type": "code",
      "execution_count": null,
      "id": "717137a4-0188-4fdc-9da4-c25435fb7ce1",
      "metadata": {
        "editable": true,
        "tags": [],
        "id": "717137a4-0188-4fdc-9da4-c25435fb7ce1"
      },
      "outputs": [],
      "source": [
        "if sexo == 'Masculino' and idade >= 65:\n",
        "    print('Senhora idosa')"
      ]
    },
    {
      "cell_type": "markdown",
      "id": "93cd19ad-20d2-4404-bd57-85bb271bc7dd",
      "metadata": {
        "editable": false,
        "tags": [],
        "id": "93cd19ad-20d2-4404-bd57-85bb271bc7dd"
      },
      "source": [
        "### Operator lógico **`or`**\n",
        "Use o operador `or` para testar se uma ou ambas as condições são verdadeiras. O código a seguir testa uma condição que será Verdadeira se uma ou ambas as condições simples forem Verdadeiras -- a condição composta será Falsa somente se ambas as condições simples forem Falsas:"
      ]
    },
    {
      "cell_type": "code",
      "execution_count": null,
      "id": "0a05923e-65c1-4e57-b4dc-2ecc4bb57ad7",
      "metadata": {
        "editable": false,
        "tags": [],
        "id": "0a05923e-65c1-4e57-b4dc-2ecc4bb57ad7"
      },
      "outputs": [],
      "source": [
        "media_semestre = 83"
      ]
    },
    {
      "cell_type": "code",
      "execution_count": null,
      "id": "cbf48812-228e-469c-a33b-2a3d4c541083",
      "metadata": {
        "editable": false,
        "tags": [],
        "id": "cbf48812-228e-469c-a33b-2a3d4c541083"
      },
      "outputs": [],
      "source": [
        "prova_final = 95"
      ]
    },
    {
      "cell_type": "code",
      "execution_count": null,
      "id": "c2843d99-c48e-47d4-b36f-af1970ac7a91",
      "metadata": {
        "editable": false,
        "tags": [],
        "id": "c2843d99-c48e-47d4-b36f-af1970ac7a91"
      },
      "outputs": [],
      "source": [
        "if media_semestre >= 90 or prova_final >= 90:\n",
        "    print('Nota A para o estudante')"
      ]
    },
    {
      "cell_type": "markdown",
      "id": "767a0212-e50a-4c5f-97c0-571c28abc0a5",
      "metadata": {
        "editable": false,
        "tags": [],
        "id": "767a0212-e50a-4c5f-97c0-571c28abc0a5"
      },
      "source": [
        "### Operador lógico **`not`**\n",
        "O operador lógico `not` “inverte” o significado de uma condição – Verdadeiro torna-se Falso e Falso torna-se Verdadeiro. Este é um operador unário – possui apenas um operando. Colocamos o operador `not` antes de uma condição para escolher um caminho de execução se a condição original (sem o operador `not`) for Falsa. Observe o exemplo a seguir onde -1 é usado como teste para uma nota inválida:"
      ]
    },
    {
      "cell_type": "code",
      "execution_count": 10,
      "id": "67e57311-ffe3-4d02-8e6e-6315b8d1263a",
      "metadata": {
        "editable": false,
        "tags": [],
        "id": "67e57311-ffe3-4d02-8e6e-6315b8d1263a"
      },
      "outputs": [],
      "source": [
        "cheio = False"
      ]
    },
    {
      "cell_type": "code",
      "execution_count": null,
      "id": "665631e2-2f1b-4c4a-b9d6-d4371ef9f387",
      "metadata": {
        "editable": false,
        "tags": [],
        "id": "665631e2-2f1b-4c4a-b9d6-d4371ef9f387"
      },
      "outputs": [],
      "source": [
        "if not cheio:\n",
        "   print('Continue enchendo!')"
      ]
    },
    {
      "cell_type": "markdown",
      "id": "29c4d88f-e339-4847-810e-856938796599",
      "metadata": {
        "editable": true,
        "tags": [],
        "id": "29c4d88f-e339-4847-810e-856938796599"
      },
      "source": [
        "# 2.11 Exercícios\n",
        "\n",
        "1. Usando um loop `for`, escreva um programa que calcule os quadrados e os cubos dos números de 0 a 20. Exiba os valores no formato de uma tabela com os números alinhados à direita em cada coluna. Use f-string para fazer a formatação."
      ]
    },
    {
      "cell_type": "markdown",
      "id": "8a4adaab-5ec8-4306-9688-9a0051d46fd3",
      "metadata": {
        "editable": true,
        "tags": [],
        "id": "8a4adaab-5ec8-4306-9688-9a0051d46fd3"
      },
      "source": [
        "2. Escreva um programa que defina um loop no qual são iseridos 4 inteiros. O programa deve exibir a soma, a média, o produto, o menor e o maior desses valores fornecidos."
      ]
    },
    {
      "cell_type": "markdown",
      "id": "170f9bf3-8147-4381-8435-f2ce0a6f0720",
      "metadata": {
        "editable": true,
        "tags": [],
        "id": "170f9bf3-8147-4381-8435-f2ce0a6f0720"
      },
      "source": [
        "3. Escreva um programa que extraia os dígitos de um número inteiro de cinco dígitos. Use um loop que em cada iteração e obtenha cada um dos dígito (da esquerda para a direita) usando os operadores // e % e, em seguida, exiba esse dígito."
      ]
    },
    {
      "cell_type": "markdown",
      "id": "59d35261-249e-4ad3-9187-1dacef1efd41",
      "metadata": {
        "editable": true,
        "tags": [],
        "id": "59d35261-249e-4ad3-9187-1dacef1efd41"
      },
      "source": [
        "4. Usando a fórmula para cálculo de juros compostos, $a = p(1+r)^n$, escreva um programa que com um loop calcula e exibe que você terá a cada ano, de 1 a 30 anos. O montante inicial deve ser fornecido pelo usuário."
      ]
    },
    {
      "cell_type": "markdown",
      "id": "721d1342-2cc7-4133-b3e7-025b06be35d7",
      "metadata": {
        "editable": true,
        "tags": [],
        "id": "721d1342-2cc7-4133-b3e7-025b06be35d7"
      },
      "source": [
        "5. Para verificar a eficiência de seu automóvel, todas as vezes que enche o tanque, um motorista registra os quilômetros percorridos e quantos litros de gasolina foram usados. Para ajudá-lo com a análise da eficiência, escreva um programa com repetição controlada por sentinela que solicite, a cada iteração, os quilometros percorridos e a gasolina gasta. O programa deve calcular e exibir a quilometragem por litro a cada vez que ele encheu o tanque. Além disso, depois de processar todas as entradas, o programa deve calcular e exibir a quilometragem por litro média, considerando todas as vezes que ele encheu o tanque."
      ]
    },
    {
      "cell_type": "markdown",
      "id": "4f7acde2-875b-4ed6-9e1d-da21450b8503",
      "metadata": {
        "editable": true,
        "tags": [],
        "id": "4f7acde2-875b-4ed6-9e1d-da21450b8503"
      },
      "source": [
        "6. Um palíndromo é um número, palavra ou frase de texto que é igual quando lida de trás para frente. Por exemplo, cada um dos seguintes números inteiros de cinco dígitos é um palíndromo: 12321, 55555, 45554 e 11611. Escreva um programa que leia um número inteiro de cinco dígitos e determine se é um palíndromo. [Dica: use os operadores // e % para separar o número em seus dígitos.]"
      ]
    },
    {
      "cell_type": "markdown",
      "id": "51637bb8-e287-46e8-813e-0e45cff9aa71",
      "metadata": {
        "editable": true,
        "tags": [],
        "id": "51637bb8-e287-46e8-813e-0e45cff9aa71"
      },
      "source": [
        "7. Insira um número inteiro contendo 0s e 1s (ou seja, um número “binário”) e exiba seu equivalente decimal. [Dica: use os operadores de módulo e divisão para selecionar os dígitos do número “binário”, um de cada vez, da direita para a esquerda. Assim como no sistema numérico decimal, onde o dígito mais à direita tem o valor posicional 1 e o próximo dígito à esquerda tem o valor posicional 10, depois 100, depois 1000, etc., no sistema numérico binário, o dígito mais à direita tem o valor posicional 1, o próximo dígito à esquerda tem o valor posicional 2, depois 4, depois 8, etc. Assim, o número decimal 234 pode ser interpretado como 2 * 100 + 3 * 10 + 4 * 1. O decimal equivalente ao binário 1101 é 1 * 8 + 1 * 4 + 0 * 2 + 1 * 1.]"
      ]
    },
    {
      "cell_type": "markdown",
      "id": "b9c8ef5d-8fc0-41c5-a192-d46b38de4729",
      "metadata": {
        "editable": true,
        "tags": [],
        "id": "b9c8ef5d-8fc0-41c5-a192-d46b38de4729"
      },
      "source": [
        "8. Escreva um programa que solicite o preço de uma compra (máximo um real). Suponha que o comprador pague com uma moeda de 1 real. O programa deve exibir como o caixa deve formular o troco para devolver ao comprador, usando o menor número possível de moedas de 25, 10 e 1 centavo. Por exemplo, se o troco for 73 centavos, o programa produzirá: 2 de 25 centavos, 2 de 10 centados, e 3 de 1 centavo."
      ]
    },
    {
      "cell_type": "markdown",
      "id": "b4d3b6df-16ff-444c-8967-ccdf3357de31",
      "metadata": {
        "editable": true,
        "tags": [],
        "id": "b4d3b6df-16ff-444c-8967-ccdf3357de31"
      },
      "source": [
        "9. Um triângulo retângulo pode ter lados inteiros. Esses três lados devem satisfazer a relação de que a soma dos quadrados de dois dos lados é igual ao quadrado do terceiro lado. Encontre todos os triângulos retângulos com lados inteiros não maiores que 20. Use um loop `for` triplo aninhado que tenta todas as possibilidades. Este é um exemplo de computação por “força bruta”."
      ]
    },
    {
      "cell_type": "markdown",
      "id": "136f72ae-3782-4b27-88a8-cc0b501a7ae8",
      "metadata": {
        "editable": true,
        "tags": [],
        "id": "136f72ae-3782-4b27-88a8-cc0b501a7ae8"
      },
      "source": [
        "10. O fatorial de um número inteiro não negativo $n$, escrito $n!$ (pronuncia-se “n fatorial”), é definido da seguinte forma: $n! = n · (n - 1) · (n - 2) · ... · 1$, para valores de $n$ maiores ou iguais a 1, com $0!$ definido como 1. Por exemplo, 5! = 5 · 4 · 3 · 2 · 1 = 120. Escreva um programa que receba um número inteiro não negativo e calcule e exiba seu fatorial. Teste seu programa nos números inteiros 10, 20, 114."
      ]
    },
    {
      "cell_type": "code",
      "execution_count": null,
      "id": "d6523d94-0003-4a1f-aeec-3646c3229ec9",
      "metadata": {
        "editable": true,
        "tags": [],
        "id": "d6523d94-0003-4a1f-aeec-3646c3229ec9"
      },
      "outputs": [],
      "source": []
    }
  ],
  "metadata": {
    "kernelspec": {
      "display_name": "Python 3 (ipykernel)",
      "language": "python",
      "name": "python3"
    },
    "language_info": {
      "codemirror_mode": {
        "name": "ipython",
        "version": 3
      },
      "file_extension": ".py",
      "mimetype": "text/x-python",
      "name": "python",
      "nbconvert_exporter": "python",
      "pygments_lexer": "ipython3",
      "version": "3.11.2"
    },
    "colab": {
      "provenance": []
    }
  },
  "nbformat": 4,
  "nbformat_minor": 5
}