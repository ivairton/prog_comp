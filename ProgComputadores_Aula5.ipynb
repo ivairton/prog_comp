{
  "cells": [
    {
      "cell_type": "markdown",
      "metadata": {
        "id": "view-in-github",
        "colab_type": "text"
      },
      "source": [
        "<a href=\"https://colab.research.google.com/github/ivairton/prog_comp/blob/main/ProgComputadores_Aula5.ipynb\" target=\"_parent\"><img src=\"https://colab.research.google.com/assets/colab-badge.svg\" alt=\"Open In Colab\"/></a>"
      ]
    },
    {
      "cell_type": "markdown",
      "source": [
        "<h3>UNIVERSIDADE FEDERAL DE MATO GROSSO<br>\n",
        "CAMPUS UNIVERSITÁRIO DO ARAGUAIA<br>\n",
        "Curso de Bacharelado em Ciência da Computação</h3>\n",
        "\n",
        "<h2><b>Disciplina de Programação de Computadores</b></h2>\n",
        "\n",
        "<i>Material desenvolvido pelos professores:</i><br>\n",
        "Prof. Dr. Ivairton Monteiro Santos<br>\n",
        "Prof. Dr. Linder Cândido da Silva"
      ],
      "metadata": {
        "id": "tuicbQnWKGsP"
      },
      "id": "tuicbQnWKGsP"
    },
    {
      "cell_type": "markdown",
      "id": "4be95cc7-aa90-4f30-9340-30f8dabb8f94",
      "metadata": {
        "editable": false,
        "tags": [],
        "id": "4be95cc7-aa90-4f30-9340-30f8dabb8f94"
      },
      "source": [
        "<h1>\n",
        "  <center>\n",
        "    Aula 5<br><br>\n",
        "    <b>Arquivos</b>\n",
        "  </center>\n",
        "</h1>\n"
      ]
    },
    {
      "cell_type": "markdown",
      "id": "b485d27c-b3f8-47c3-a418-0fca93eeb196",
      "metadata": {
        "editable": true,
        "tags": [],
        "id": "b485d27c-b3f8-47c3-a418-0fca93eeb196"
      },
      "source": [
        "# 5.1 Introdução"
      ]
    },
    {
      "cell_type": "markdown",
      "id": "05aa6462-09ba-4aba-985b-6c432df59580",
      "metadata": {
        "editable": true,
        "tags": [],
        "id": "05aa6462-09ba-4aba-985b-6c432df59580"
      },
      "source": [
        "Variáveis, listas e tuplas oferecem apenas armazenamento temporário para dados. Ou seja, os valores são perdidos quando o programa termina. Por outro lado, os arquivos fornecem armazenamento **persistente** para grandes quantidades de dados, mesmo após o término do programa que os criou. Os computadores armazenam arquivos em dispositivos de armazenamento secundário, incluindo unidades de estado sólido (SSD) e discos rígidos (HD).\n",
        "\n",
        "Nesta aula, explicaremos como os programas Python criam, atualizam e processam arquivos de dados. Consideraremos arquivos de texto em vários formatos conhecidos, incluindo texto simples, JSON (JavaScript Object Notation) e CSV (valores separados por vírgula). Os programas que usam arquivos normalmente solicitam o acesso e depois liberam sua execução. Frequentemente, eles são limitados ou podem ser usados apenas por um programa por vez. Mostraremos como garantir que após um programa usar um arquivo, ele seja liberado para uso por outros programas."
      ]
    },
    {
      "cell_type": "markdown",
      "id": "e93cefca-db5f-407d-b9e8-bb2eeb69c054",
      "metadata": {
        "editable": true,
        "tags": [],
        "id": "e93cefca-db5f-407d-b9e8-bb2eeb69c054"
      },
      "source": [
        "# 5.2 Arquivos\n",
        "Há dois tipos de arquivos, arquivos de texto e arquivos binários. Um **arquivo de texto** consiste de um conjunto de caracteres e pode ser editado por qualquer editor de texto simples, como o próprio código do seu programa, que consiste de um arquivo de texto. Este tipo de arquivo tem essa vantagem (fácil edição), no entanto acaba consumindo mais espaço em disco e tem processamento mais lento. Por outro lado, **arquivos binários** são arquivos que armazenam dos dados em seu formado original (em bits), não podem ser editados por um editor de texto, mas demandam menos espaço em disco e têm processamento mais rápido.\n",
        "\n",
        "Python processa um arquivo de texto como uma sequência de caracteres e um arquivo binário (para imagens, vídeos e muito mais) como uma sequência de bytes. Tal como uma lista, o primeiro caractere em um arquivo de texto e o primeiro byte em um arquivo binário está localizado na posição 0. Portanto, em um arquivo de n caracteres ou bytes, o número da posição mais alta é $n - 1$.\n",
        "\n",
        "Para trabalhar com um arquivo, precisamos antes abri-lo fazendo uma solicitação ao Sistema Operacional (Programas de usuário não possuem acesso direto aos dispositivos de armazenamento). Para cada arquivo aberto, Python cria um **objeto file**  que você usa para interagir com o conteúdo do arquivo."
      ]
    },
    {
      "cell_type": "markdown",
      "id": "f5899034-bf22-4319-b6f4-ae67526fd580",
      "metadata": {
        "editable": true,
        "tags": [],
        "id": "f5899034-bf22-4319-b6f4-ae67526fd580"
      },
      "source": [
        "## Fim de arquivo (End of File)\n",
        "Todo sistema operacional fornece um mecanismo para indicar o fim de um arquivo. Alguns o representam com um marcador de fim de arquivo, enquanto outros podem manter uma contagem do total de caracteres ou bytes no arquivo. As linguagens de programação geralmente ocultam esses detalhes do controle por parte do sistema operacional, mas usam termos/ constantes/ marcadores para representar essas características para manipulação dos arquivos.\n",
        "\n",
        "## Objetos de arquivo padrão\n",
        "Quando um programa Python inicia a execução, ele cria três *objetos file* padrão:\n",
        "* **sys.stdin**  — associado à entrada padrão (teclado) -- pode ser alterado.\n",
        "* **sys.stdout** — associado à saída padrão (monitor) -- pode ser alterado; e\n",
        "* **sys.stderr** — saída padrão para erros.\n",
        "\n",
        "Embora sejam considerados *objetos file*, eles não leem nem gravam em arquivos. O objeto *sys.stdin* é usado para obter a entrada do usuário via teclado. A função `print` gera implicitamente a saída para *sys.stdout*. Python gera implicitamente erros de programa e rastreamentos para *sys.stderr*, que também aparece na linha de comando. Você deve importar o módulo **sys** se precisar fazer referência explícita a esses objetos em seu código, mas isso é pouco comum e acaba sendo necessário para casos raros."
      ]
    },
    {
      "cell_type": "markdown",
      "id": "c3b25c0b-f88c-410d-87dc-4083caf3ba53",
      "metadata": {
        "editable": true,
        "tags": [],
        "id": "c3b25c0b-f88c-410d-87dc-4083caf3ba53"
      },
      "source": [
        "# 5.3 Processamento de Arquivos de Texto\n",
        "Vamos criar e escrever um arquivo de texto simples que supostamente pode ser usado por um sistema de contas a receber para rastrear o dinheiro devido pelos clientes de uma empresa.\n",
        "\n",
        "Em seguida, leremos esse arquivo de texto para confirmar se ele contém os dados registrados inicialmente.\n",
        "\n",
        "Para cada cliente, armazenaremos o número da conta do cliente, sobrenome e saldo da conta devido à empresa. Juntos, esses campos de dados representam um registro de cliente. Python não impõe nenhuma estrutura a um arquivo, portanto, noções como registros não existem nativamente no Python.\n",
        "\n",
        "Assim, o programador deve estruturar os arquivos para atender aos requisitos de suas aplicações. Criaremos e manteremos este arquivo ordenado por número de conta. Neste sentido, o número da conta pode ser considerado uma chave (identificador) de registro."
      ]
    },
    {
      "cell_type": "markdown",
      "id": "7db24fdd-4a81-4e39-971a-02f8a3350a0f",
      "metadata": {
        "editable": true,
        "tags": [],
        "id": "7db24fdd-4a81-4e39-971a-02f8a3350a0f"
      },
      "source": [
        "## 5.3.1 Escrevendo em um Arquivo de Texto: Introduzindo o comando `with`"
      ]
    },
    {
      "cell_type": "code",
      "execution_count": null,
      "id": "43fe3ed9-611c-484a-a21f-396e355eab37",
      "metadata": {
        "editable": true,
        "tags": [],
        "id": "43fe3ed9-611c-484a-a21f-396e355eab37"
      },
      "outputs": [],
      "source": [
        "with open('/home/aluno/contas.txt', mode='w') as contas:\n",
        "    contas.write('100 Jones 24.98\\n')\n",
        "    contas.write('200 Doe 345.67\\n')\n",
        "    contas.write('300 White 0.00\\n')\n",
        "    contas.write('400 Stone -42.16\\n')\n",
        "    contas.write('500 Rich 224.62\\n')"
      ]
    },
    {
      "cell_type": "markdown",
      "id": "ba28cfa6-df42-4920-838e-6cc058a8ed62",
      "metadata": {
        "editable": true,
        "tags": [],
        "id": "ba28cfa6-df42-4920-838e-6cc058a8ed62"
      },
      "source": [
        "### O comando `with`\n",
        "Muitas aplicações requerem recursos gerenciados pelo SO, como arquivos, conexões de rede, conexões com banco de dados e muito mais. Estes recursos precisam ser solicitados pelo programa ao SO, ser utilizado e então liberados. Portanto, é fundamental que o programador libere esses recursos assim que eles não forem mais necessários. Essa prática garante que outras aplicações possam usar os recursos, evita possíveis erros no uso destes recursos e otimiza o uso da infraestrutura computacional.\n",
        "\n",
        "#### Comando `with` do Python:\n",
        "* adquire um recurso (neste caso, o objeto file para `contas.txt`) e atribui o objeto correspondente a uma variável (contas neste exemplo);\n",
        "* permite que a aplicação use o recurso por meio da variável que faz referência ao recurso (objeto file aberto); e\n",
        "* chama o método close do objeto para liberar o recurso quando o controle do programa chegar ao final do conjunto de instruções do bloco `with`.\n",
        "  \n",
        "#### Função integrada `open`\n",
        "A função integrada `open` abre o arquivo `contas.txt` e o associa a um objeto *file*. O argumento `mode` especifica o modo de abertura do arquivo, indicando se o arquivo deve ser aberto para leitura, para escrita, ou ambos. O modo `'w'` abre o arquivo para escrita, criando o arquivo caso ele não exista. Se não for especificado um caminho para o arquivo, Python o criará na pasta atual do programa.\n",
        "\n",
        "Tenha cuidado: abrir um arquivo para gravação exclui todos os dados existentes no arquivo. Por convenção, a extensão de arquivo `.txt` indica um arquivo de texto simples.\n",
        "\n",
        "Os modos de abertura de um arquivo são:\n",
        "\n",
        "| Modo de abertura | Ação |\n",
        "|---|---|\n",
        "| `'r'` | abertura apenas para leitura (padrão)|\n",
        "| `'w'` | abertura para escrita (apaga o conteúdo se houver) |\n",
        "| `'x'` | abertura para criação. Ocorre falha se o arquivo existir previamente |\n",
        "| `'a'` | abertura para escrita, adicionando o novo conteúdo ao final do arquivo se ele existir (cria senão existir)|\n",
        "| `'b'` | abertura em modo binário |\n",
        "| `'t'` | abertura em modo texto (padrão) |\n",
        "| `'+'` | abre o arquivo para edição (leitura e escrita)|\n",
        "\n",
        "\n",
        "#### Escrevendo no Arquivo\n",
        "A instrução `with` atribui o objeto retornado por `open` à variável `contas` usando cláusula `as`. No conjunto de instruções do `with`, usamos a variável `contas` para manipular/processar o arquivo. Nesse caso, chamamos o método `write` do objeto *file* cinco vezes, para gravar cinco (novos) registros no arquivo, cada um em uma linha, terminando com um caracter de nova linha (observe o marcador de quebra de linha no comando de escrita).  No final do conjunto de instruções, a instrução `with` chama implicitamente o método `close` do objeto file para fechar o arquivo.\n",
        "\n",
        "#### Conteúdo do arquivo `contas.txt`\n",
        "Após executar o trecho de códido anterior, seu diretório conterá o arquivo `contas.txt` com o seguinte conteúdo, que você pode visualizar abrindo o arquivo em um editor de texto comum:\n",
        "```\n",
        "100 Jones 24,98\n",
        "200 Doe 345,67\n",
        "300 White 0,00\n",
        "400 Stone -42,16\n",
        "500 Rich 224,62\n",
        "```"
      ]
    },
    {
      "cell_type": "markdown",
      "id": "cdc5c04f-912b-460e-889b-b8e76de454af",
      "metadata": {
        "editable": true,
        "tags": [],
        "id": "cdc5c04f-912b-460e-889b-b8e76de454af"
      },
      "source": [
        "**Exercício:** Crie um arquivo notas.txt e escreva nele os três registros a seguir, consistindo em IDs de alunos, nomes e notas/conceitos indicados por letras:\n",
        "\n",
        "    1 José A\n",
        "    2 Maria A\n",
        "    3 Pedro B\n"
      ]
    },
    {
      "cell_type": "markdown",
      "id": "1a671a55-5f13-4f2d-a162-70fd1977d6d7",
      "metadata": {
        "editable": true,
        "tags": [],
        "id": "1a671a55-5f13-4f2d-a162-70fd1977d6d7"
      },
      "source": [
        "## 5.3.2 Lendo Dados de um Arquivo Texto"
      ]
    },
    {
      "cell_type": "code",
      "execution_count": null,
      "id": "829e9060-f93c-4dd6-a383-8e809a4ae30a",
      "metadata": {
        "editable": true,
        "tags": [],
        "id": "829e9060-f93c-4dd6-a383-8e809a4ae30a"
      },
      "outputs": [],
      "source": [
        "contas = open('/home/aluno/contas.txt', mode='r')\n",
        "with contas:\n",
        "    print(f'{\"Conta\":<10}{\"Nome\":<10}{\"Saldo\":>10}')\n",
        "    for registro in contas:\n",
        "        conta, nome, saldo = registro.split()\n",
        "        print(f'{conta:<10}{nome:<10}{saldo:>10}')\n"
      ]
    },
    {
      "cell_type": "markdown",
      "id": "357a4b61-da7b-4f52-88a4-847ff66f4650",
      "metadata": {
        "editable": true,
        "tags": [],
        "id": "357a4b61-da7b-4f52-88a4-847ff66f4650"
      },
      "source": [
        "### Método `readlines` do objeto *file*\n",
        "O método `readlines` do objeto *file* também pode ser usado para ler um arquivo de texto inteiro. O método retorna cada linha como uma string em uma lista de strings. Para arquivos pequenos, isso funciona bem, mas iterar sobre as linhas em um objeto *file*, como mostrado no código exemplo acima, será mais eficiente e robusto. Chamar `readlines` para um arquivo grande pode ser uma operação demorada, a qual deve ser concluída antes que você possa começar a usar a lista de strings. Usar o objeto *file* em uma instrução `for` permite que seu programa processe cada linha de texto à medida que ela é lida."
      ]
    },
    {
      "cell_type": "markdown",
      "id": "ac5a74ae-c5be-4e56-a54c-b2725ef3afa2",
      "metadata": {
        "editable": true,
        "tags": [],
        "id": "ac5a74ae-c5be-4e56-a54c-b2725ef3afa2"
      },
      "source": [
        "### Acessando uma Posição Específica do Arquivo\n",
        "Durante a leitura de um arquivo, o sistema mantém um ponteiro de posição que representa a localização do próximo caractere a ser lido. Às vezes é necessário processar um arquivo sequencialmente desde o início, várias vezes durante a execução de um programa (ou seja, é preciso recomeçar a leitura no início do arquivo). Cada vez, você deve reposicionar o ponteiro de posição para o início do arquivo, o que pode ser feito fechando e reabrindo o arquivo ou chamando o método `seek` do objeto *file*, como a seguir:\n",
        "\n",
        "```\n",
        "file_object.seek(0)\n",
        "```\n",
        "\n",
        "A abordagem com uso do comando `seek` é mais rápida e robusta."
      ]
    },
    {
      "cell_type": "markdown",
      "id": "46d71cf7-082a-43c5-88fe-490d37d16e0a",
      "metadata": {
        "editable": true,
        "tags": [],
        "id": "46d71cf7-082a-43c5-88fe-490d37d16e0a"
      },
      "source": [
        "**Exercício:** Leia o arquivo `notas.txt` que você criou no código anterior e apresente-o com os campos de cada registro na seguinte ordem: `'ID'`, `'Nome'` e `'Nota'`."
      ]
    },
    {
      "cell_type": "markdown",
      "id": "a0faa00a-c451-4297-aae9-2efedcb368b9",
      "metadata": {
        "editable": true,
        "tags": [],
        "id": "a0faa00a-c451-4297-aae9-2efedcb368b9"
      },
      "source": [
        "# 5.4 Atualizando Arquivos de Texto\n",
        "A edição de dados gravados em um arquivo de texto tem o (sério) risco de destruir os outros dados. Por exemplo, se o nome 'White' precisar ser alterado para 'Williams' em `contas.txt`, o nome antigo não poderá simplesmente ser substituído, pois o novo dado demanda mais espaço (possui mais caracteres). O registro original para White é armazenado como (ocupa 5 caracteres):\n",
        "```  \n",
        "300 White 0,00\n",
        "```\n",
        "\n",
        "Se você substituir o nome 'White' pelo nome 'Williams', o registro se tornará (o novo nome demanda 8 caracteres):\n",
        "```\n",
        "300 Williams00\n",
        "```\n",
        "\n",
        "O novo nome contém três caracteres a mais que o original, portanto, os caracteres além do segundo “i” em 'Williams' substituem outros caracteres na linha (sobre escrevendo parte do valor numérico referente ao saldo).\n",
        "\n",
        "O problema é justamente que no modelo de entrada/saída formatado, os registros e seus campos podem variar em tamanho. Por exemplo, 7, 14, -117, 2074 e 27383 são todos números inteiros e são armazenados internamente com o mesmo número de bytes (normalmente 4 ou 8 bytes nos sistemas atuais). No entanto, quando esses números inteiros são exibidos como texto formatado, eles se tornam campos de tamanhos diferentes. Por exemplo, 7 é um caractere, 14 são dois caracteres e 27383 são cinco caracteres.\n",
        "\n",
        "Assim, para fazer a mudança do nome, conforme descrito anteriormente, podemos (entre outras estratégias possíveis) adotar as seguintes ações:\n",
        "* copiar os registros originais das linhas anteriores ao registro `300 White 0.00` em um arquivo temporário;\n",
        "* gravar o registro atualizado e formatado corretamente da conta com *id* `300` neste arquivo temporário;\n",
        "* copiar os registros após a linha com o registro `300 White 0.00` para o arquivo temporário;\n",
        "* excluir o arquivo antigo; e\n",
        "* renomeie o arquivo temporário para usar o nome do arquivo original.\n",
        "  \n",
        "Isso pode ser ineficiente porque requer o processamento de todos os registros do arquivo, mesmo que você precise atualizar apenas um registro. A atualização de um arquivo conforme descrito acima é mais eficiente quando uma aplicação precisa atualizar muitos registros em uma única passagem pelo arquivo."
      ]
    },
    {
      "cell_type": "markdown",
      "id": "8a5c992b-c08c-475d-8af4-57a504c4d023",
      "metadata": {
        "editable": true,
        "tags": [],
        "id": "8a5c992b-c08c-475d-8af4-57a504c4d023"
      },
      "source": [
        "## Atualizando `contas.txt`"
      ]
    },
    {
      "cell_type": "code",
      "execution_count": null,
      "id": "644e9f6c-aa7c-4c87-9b77-caf3aa258ca8",
      "metadata": {
        "editable": true,
        "tags": [],
        "id": "644e9f6c-aa7c-4c87-9b77-caf3aa258ca8"
      },
      "outputs": [],
      "source": [
        "contas = open('/home/aluno/contas.txt', 'r')"
      ]
    },
    {
      "cell_type": "code",
      "execution_count": null,
      "id": "291e7029-6e3e-4162-a9b2-707cd37942ae",
      "metadata": {
        "id": "291e7029-6e3e-4162-a9b2-707cd37942ae"
      },
      "outputs": [],
      "source": [
        "temp_file = open('/home/aluno/temp_file.txt', 'w')"
      ]
    },
    {
      "cell_type": "code",
      "execution_count": null,
      "id": "73e6449e-e23f-483c-a3fd-3ad9a6ad64ac",
      "metadata": {
        "editable": true,
        "tags": [],
        "id": "73e6449e-e23f-483c-a3fd-3ad9a6ad64ac"
      },
      "outputs": [],
      "source": [
        "with contas, temp_file:\n",
        "    for registro in contas:\n",
        "        conta, nome, saldo = registro.split()\n",
        "        if conta != '300':\n",
        "            temp_file.write(registro)\n",
        "        else:\n",
        "            novo_registro = str(conta)+' Williams '+str(saldo)\n",
        "            temp_file.write(novo_registro + '\\n')\n"
      ]
    },
    {
      "cell_type": "markdown",
      "id": "8c891db2-2046-408c-8c2c-c833810dc3cc",
      "metadata": {
        "editable": true,
        "tags": [],
        "id": "8c891db2-2046-408c-8c2c-c833810dc3cc"
      },
      "source": [
        "## Módulo (biblioteca) `os` para Acesso a Funções de Processamento de *File Processing Functions*"
      ]
    },
    {
      "cell_type": "code",
      "execution_count": null,
      "id": "76855ba8-c703-4a20-9a90-8a908cbe71d8",
      "metadata": {
        "id": "76855ba8-c703-4a20-9a90-8a908cbe71d8"
      },
      "outputs": [],
      "source": [
        "import os"
      ]
    },
    {
      "cell_type": "code",
      "execution_count": null,
      "id": "c07772f7-400c-4088-b389-a0c4da3b0b1a",
      "metadata": {
        "editable": true,
        "tags": [],
        "id": "c07772f7-400c-4088-b389-a0c4da3b0b1a"
      },
      "outputs": [],
      "source": [
        "os.remove('/home/aluno/contas.txt')"
      ]
    },
    {
      "cell_type": "code",
      "execution_count": null,
      "id": "961cbeea-a48e-4dab-bc76-c157bad4649b",
      "metadata": {
        "editable": true,
        "tags": [],
        "id": "961cbeea-a48e-4dab-bc76-c157bad4649b"
      },
      "outputs": [],
      "source": [
        "os.rename('/home/aluno/temp_file.txt', '/home/aluno/contas.txt')"
      ]
    }
  ],
  "metadata": {
    "kernelspec": {
      "display_name": "Python 3 (ipykernel)",
      "language": "python",
      "name": "python3"
    },
    "language_info": {
      "codemirror_mode": {
        "name": "ipython",
        "version": 3
      },
      "file_extension": ".py",
      "mimetype": "text/x-python",
      "name": "python",
      "nbconvert_exporter": "python",
      "pygments_lexer": "ipython3",
      "version": "3.11.2"
    },
    "colab": {
      "provenance": [],
      "toc_visible": true,
      "include_colab_link": true
    }
  },
  "nbformat": 4,
  "nbformat_minor": 5
}