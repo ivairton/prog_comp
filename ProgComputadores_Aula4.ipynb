{
  "cells": [
    {
      "cell_type": "markdown",
      "metadata": {
        "id": "view-in-github",
        "colab_type": "text"
      },
      "source": [
        "<a href=\"https://colab.research.google.com/github/ivairton/prog_comp/blob/main/ProgComputadores_Aula4.ipynb\" target=\"_parent\"><img src=\"https://colab.research.google.com/assets/colab-badge.svg\" alt=\"Open In Colab\"/></a>"
      ]
    },
    {
      "cell_type": "markdown",
      "source": [
        "<h3>UNIVERSIDADE FEDERAL DE MATO GROSSO<br>\n",
        "CAMPUS UNIVERSITÁRIO DO ARAGUAIA<br>\n",
        "Curso de Bacharelado em Ciência da Computação</h3>\n",
        "\n",
        "<h2><b>Disciplina de Programação de Computadores</b></h2>\n",
        "\n",
        "<i>Material desenvolvido pelos professores:</i><br>\n",
        "Prof. Dr. Ivairton Monteiro Santos<br>\n",
        "Prof. Dr. Linder Cândido da Silva"
      ],
      "metadata": {
        "id": "5hoT8uAqDv_x"
      },
      "id": "5hoT8uAqDv_x"
    },
    {
      "cell_type": "markdown",
      "id": "4be95cc7-aa90-4f30-9340-30f8dabb8f94",
      "metadata": {
        "editable": false,
        "tags": [],
        "id": "4be95cc7-aa90-4f30-9340-30f8dabb8f94"
      },
      "source": [
        " <h1>\n",
        "  <center>\n",
        "    Aula 4<br><br>\n",
        "    Estrutura Sequenciais: <b>Listas e Tuplas</b>\n",
        "  </center>\n",
        "</h1>\n"
      ]
    },
    {
      "cell_type": "markdown",
      "id": "b485d27c-b3f8-47c3-a418-0fca93eeb196",
      "metadata": {
        "editable": true,
        "tags": [],
        "id": "b485d27c-b3f8-47c3-a418-0fca93eeb196"
      },
      "source": [
        "# 4.1 Introdução\n",
        "Ao longo deste curso já introduzimos os tipos de coleções que estudaremos a seguir: listas e tuplas.\n",
        "\n",
        "Coleções são estruturas de dados que consistem em itens de dados relacionados. Veremos que as listas são modificáveis, mas que as tuplas não são. Ambas são estruturas de dados heterogêneas, isto é, podem armazenar objetos de tipos diferentes. As listas podem ser redimensionadas dinamicamente conforme necessário, aumentando e diminuindo seu tamanho em tempo de execução. Por outro lado, as tuplas são estruturas que, após definidas, não mudam de tamanho."
      ]
    },
    {
      "cell_type": "markdown",
      "id": "e93cefca-db5f-407d-b9e8-bb2eeb69c054",
      "metadata": {
        "editable": false,
        "tags": [],
        "id": "e93cefca-db5f-407d-b9e8-bb2eeb69c054"
      },
      "source": [
        "# 4.2 Listas\n",
        "Vamos agora aprender com mais detalhes como trabalhar com listas, ou melhor, com objetos do tipo `list`. Explicaremos como adicionar, remover e fazer referência a seus elementos. Muitos dos recursos que apresentaremos se aplicam a todos os tipos de estruturas de *sequências*, incluindo tuplas."
      ]
    },
    {
      "cell_type": "markdown",
      "id": "f5899034-bf22-4319-b6f4-ae67526fd580",
      "metadata": {
        "editable": false,
        "tags": [],
        "id": "f5899034-bf22-4319-b6f4-ae67526fd580"
      },
      "source": [
        "## Criando uma Lista\n",
        "As listas normalmente são homogêneas, ou seja, armazenam objetos de um mesmo tipo. Entretanto, isso não é uma regra e é perfeitamente possível ter listas heterogêneas, isto é, compostas de objetos de tipos diferentes (mas tenha cuidado com este tipo de uso). Para criar uma lista, especifique seus elementos entre colchetes `[ ]`. Veja os exemplos a seguir."
      ]
    },
    {
      "cell_type": "code",
      "execution_count": null,
      "id": "c4f38be6-ec7e-4392-add1-ffd831238115",
      "metadata": {
        "editable": true,
        "tags": [],
        "id": "c4f38be6-ec7e-4392-add1-ffd831238115"
      },
      "outputs": [],
      "source": [
        "c = [-45, 6, 0, 72, 1543] # lista homogênea com inteiros"
      ]
    },
    {
      "cell_type": "code",
      "execution_count": null,
      "id": "4f4ab1c5-2a55-404a-aeff-d66cb14f9aff",
      "metadata": {
        "editable": true,
        "tags": [],
        "id": "4f4ab1c5-2a55-404a-aeff-d66cb14f9aff"
      },
      "outputs": [],
      "source": [
        "c"
      ]
    },
    {
      "cell_type": "code",
      "execution_count": null,
      "id": "06c30754-9ff6-4c38-818b-03644765e9a6",
      "metadata": {
        "editable": true,
        "tags": [],
        "id": "06c30754-9ff6-4c38-818b-03644765e9a6"
      },
      "outputs": [],
      "source": [
        "d = ['Maria', 'José', 3.57, 2024] # lista heterogênea"
      ]
    },
    {
      "cell_type": "code",
      "execution_count": null,
      "id": "8bb2c4fd-3346-41ce-a6c8-5d2b5a1d05e8",
      "metadata": {
        "editable": true,
        "tags": [],
        "id": "8bb2c4fd-3346-41ce-a6c8-5d2b5a1d05e8"
      },
      "outputs": [],
      "source": [
        "d"
      ]
    },
    {
      "cell_type": "markdown",
      "id": "c3b25c0b-f88c-410d-87dc-4083caf3ba53",
      "metadata": {
        "editable": false,
        "tags": [],
        "id": "c3b25c0b-f88c-410d-87dc-4083caf3ba53"
      },
      "source": [
        "## Accessando os elementos de uma lista\n",
        "Referenciamos um elemento de uma lista escrevendo o nome da lista seguido pelo índice do elemento (número/índice da posição) entre colchetes `[ ]`. O índice deve ser um valor inteiro ou uma expressão que retorne um valor inteiro. O primeiro elementos tem como índice o valor $0$ (zero), o segundo elemento tem índice $1$, e assim sucessivamente."
      ]
    },
    {
      "cell_type": "code",
      "execution_count": null,
      "id": "45dd25a5-e39f-4334-9774-71785085a49b",
      "metadata": {
        "id": "45dd25a5-e39f-4334-9774-71785085a49b"
      },
      "outputs": [],
      "source": [
        "c"
      ]
    },
    {
      "cell_type": "code",
      "execution_count": null,
      "id": "96977377-b748-4beb-b81f-30983f428874",
      "metadata": {
        "editable": true,
        "tags": [],
        "id": "96977377-b748-4beb-b81f-30983f428874"
      },
      "outputs": [],
      "source": [
        "c[0] # primeiro elemento da lista c"
      ]
    },
    {
      "cell_type": "code",
      "execution_count": null,
      "id": "e773c75c-2c93-42ca-b8d5-f7677e8a0556",
      "metadata": {
        "editable": true,
        "tags": [],
        "id": "e773c75c-2c93-42ca-b8d5-f7677e8a0556"
      },
      "outputs": [],
      "source": [
        "c[4]"
      ]
    },
    {
      "cell_type": "code",
      "execution_count": null,
      "id": "fdb73aff-7d94-4d01-8d71-9740529fce97",
      "metadata": {
        "editable": true,
        "tags": [],
        "id": "fdb73aff-7d94-4d01-8d71-9740529fce97"
      },
      "outputs": [],
      "source": [
        "d[1]"
      ]
    },
    {
      "cell_type": "code",
      "execution_count": null,
      "id": "1d638bff-d4e4-4298-938c-6c748c619c49",
      "metadata": {
        "editable": true,
        "tags": [],
        "id": "1d638bff-d4e4-4298-938c-6c748c619c49"
      },
      "outputs": [],
      "source": [
        "d[3]"
      ]
    },
    {
      "cell_type": "code",
      "execution_count": null,
      "id": "0381167c-c7d9-447e-92b0-a9180be9e9fe",
      "metadata": {
        "editable": true,
        "tags": [],
        "id": "0381167c-c7d9-447e-92b0-a9180be9e9fe"
      },
      "outputs": [],
      "source": [
        "a = 1"
      ]
    },
    {
      "cell_type": "code",
      "execution_count": null,
      "id": "6899f03f-c4ca-47cc-8f20-f034d425dd83",
      "metadata": {
        "editable": true,
        "tags": [],
        "id": "6899f03f-c4ca-47cc-8f20-f034d425dd83"
      },
      "outputs": [],
      "source": [
        "b = 2"
      ]
    },
    {
      "cell_type": "code",
      "execution_count": null,
      "id": "ad76ef3f-f439-45af-aec7-8eed5ca9d0da",
      "metadata": {
        "editable": true,
        "tags": [],
        "id": "ad76ef3f-f439-45af-aec7-8eed5ca9d0da"
      },
      "outputs": [],
      "source": [
        "c[a + b]"
      ]
    },
    {
      "cell_type": "markdown",
      "id": "39dc86d9-7bf1-4df6-a217-58eccb9d94af",
      "metadata": {
        "editable": true,
        "tags": [],
        "id": "39dc86d9-7bf1-4df6-a217-58eccb9d94af"
      },
      "source": [
        "Em Python há uma caracterísita peculiar e interessante, onde podemos usamos índices negativos, começando com $-1$, para acessar os elementos a partir do final da lista ($-1$ é o último, $-2$ penúltimo e assim sucessivamente)."
      ]
    },
    {
      "cell_type": "code",
      "execution_count": null,
      "id": "478926bb-0d9f-41b8-ae47-9417bcb1bd02",
      "metadata": {
        "editable": true,
        "tags": [],
        "id": "478926bb-0d9f-41b8-ae47-9417bcb1bd02"
      },
      "outputs": [],
      "source": [
        "c[-1] # último elemento da lista"
      ]
    },
    {
      "cell_type": "code",
      "execution_count": null,
      "id": "d61b9c8a-e02b-4789-958f-1a2c28d977c6",
      "metadata": {
        "editable": true,
        "tags": [],
        "id": "d61b9c8a-e02b-4789-958f-1a2c28d977c6"
      },
      "outputs": [],
      "source": [
        "c[-2] # penultimo elemento da lista"
      ]
    },
    {
      "cell_type": "code",
      "execution_count": null,
      "id": "b1e0328c-0785-4906-83a5-fd73191fd20e",
      "metadata": {
        "editable": true,
        "tags": [],
        "id": "b1e0328c-0785-4906-83a5-fd73191fd20e"
      },
      "outputs": [],
      "source": [
        "c[-5]"
      ]
    },
    {
      "cell_type": "code",
      "execution_count": null,
      "id": "bce3e5eb-d5fe-4d86-85db-c75ff8986a14",
      "metadata": {
        "editable": true,
        "tags": [],
        "id": "bce3e5eb-d5fe-4d86-85db-c75ff8986a14"
      },
      "outputs": [],
      "source": [
        "d[-1]"
      ]
    },
    {
      "cell_type": "code",
      "execution_count": null,
      "id": "75beb296-d96a-4949-b0ab-4e27e0404a2a",
      "metadata": {
        "editable": true,
        "tags": [],
        "id": "75beb296-d96a-4949-b0ab-4e27e0404a2a"
      },
      "outputs": [],
      "source": [
        "d[-4]"
      ]
    },
    {
      "cell_type": "markdown",
      "id": "c84e9b47-ba23-47eb-8305-c2833de593e2",
      "metadata": {
        "editable": true,
        "tags": [],
        "id": "c84e9b47-ba23-47eb-8305-c2833de593e2"
      },
      "source": [
        "Tentar acessar um elemento de uma lista fora do intervalo de definição causa um `IndexError`:"
      ]
    },
    {
      "cell_type": "code",
      "execution_count": null,
      "id": "a2e4561e-9775-44dd-82d3-2bc7a16adbc6",
      "metadata": {
        "editable": true,
        "tags": [],
        "id": "a2e4561e-9775-44dd-82d3-2bc7a16adbc6"
      },
      "outputs": [],
      "source": [
        "c[100] # o elemento com índice 100 não existe"
      ]
    },
    {
      "cell_type": "markdown",
      "id": "4115fd66-2713-48e5-b691-406ba65e1b67",
      "metadata": {
        "editable": false,
        "tags": [],
        "id": "4115fd66-2713-48e5-b691-406ba65e1b67"
      },
      "source": [
        "## Determinando o comprimento da Lista\n",
        "O comprimento de uma lista é definido como sendo o número de elementos que a compõe. Para obter o comprimento de uma lista, use a função integrada `len()`:"
      ]
    },
    {
      "cell_type": "code",
      "execution_count": null,
      "id": "7c56f7f6-f190-4757-be5c-6ad39681f4d6",
      "metadata": {
        "editable": true,
        "tags": [],
        "id": "7c56f7f6-f190-4757-be5c-6ad39681f4d6"
      },
      "outputs": [],
      "source": [
        "len(c) # retorna o número de elementos presentes na lista"
      ]
    },
    {
      "cell_type": "code",
      "execution_count": null,
      "id": "9dc5d4c0-3118-41c0-82f5-0814c8f0ba57",
      "metadata": {
        "editable": true,
        "tags": [],
        "id": "9dc5d4c0-3118-41c0-82f5-0814c8f0ba57"
      },
      "outputs": [],
      "source": [
        "len(d)"
      ]
    },
    {
      "cell_type": "markdown",
      "id": "20673dcb-4c04-438b-a4fc-715f9b5a4244",
      "metadata": {
        "editable": false,
        "tags": [],
        "id": "20673dcb-4c04-438b-a4fc-715f9b5a4244"
      },
      "source": [
        "## Listas são sequências mutáveis\n",
        "Dizemos que as listas são estruturas mutáveis porque seus elementos podem ser modificados. Em breve você verá que também pode inserir e excluir elementos, alterando o comprimento da lista. Veja os exemplos a seguir."
      ]
    },
    {
      "cell_type": "code",
      "execution_count": null,
      "id": "6531689a-bd62-48ce-a74e-1968d8f66221",
      "metadata": {
        "editable": true,
        "tags": [],
        "id": "6531689a-bd62-48ce-a74e-1968d8f66221"
      },
      "outputs": [],
      "source": [
        "c"
      ]
    },
    {
      "cell_type": "code",
      "execution_count": null,
      "id": "4a251315-c792-4a80-8096-29d2030cfee3",
      "metadata": {
        "id": "4a251315-c792-4a80-8096-29d2030cfee3"
      },
      "outputs": [],
      "source": [
        "id(c)"
      ]
    },
    {
      "cell_type": "code",
      "execution_count": null,
      "id": "54f41eee-3227-4e0c-89c7-0782cd482a03",
      "metadata": {
        "editable": true,
        "tags": [],
        "id": "54f41eee-3227-4e0c-89c7-0782cd482a03"
      },
      "outputs": [],
      "source": [
        "c[4] = 17"
      ]
    },
    {
      "cell_type": "code",
      "execution_count": null,
      "id": "25c96adc-4aed-4a62-8c96-cc24e2c9ede2",
      "metadata": {
        "editable": true,
        "tags": [],
        "id": "25c96adc-4aed-4a62-8c96-cc24e2c9ede2"
      },
      "outputs": [],
      "source": [
        "c[0] = 'José'"
      ]
    },
    {
      "cell_type": "code",
      "execution_count": null,
      "id": "061f8c13-89f1-4bc0-908e-9035ef201e03",
      "metadata": {
        "editable": true,
        "tags": [],
        "id": "061f8c13-89f1-4bc0-908e-9035ef201e03"
      },
      "outputs": [],
      "source": [
        "c"
      ]
    },
    {
      "cell_type": "code",
      "execution_count": null,
      "id": "51c97a95-f5b3-4702-8a5f-89d96d0bcae2",
      "metadata": {
        "id": "51c97a95-f5b3-4702-8a5f-89d96d0bcae2"
      },
      "outputs": [],
      "source": [
        "id(c)"
      ]
    },
    {
      "cell_type": "markdown",
      "id": "dc8ef80c-a703-4080-8c43-96aa49f33b47",
      "metadata": {
        "editable": false,
        "tags": [],
        "id": "dc8ef80c-a703-4080-8c43-96aa49f33b47"
      },
      "source": [
        "Tenha em mente que nem todas as sequências de Python são mutáveis. Por exemplo, as strings são imutáveis, ou seja, seus elementos não podem ser modificadas. Certamente, podemos obter caracteres individuais de uma string, mas tentar atribuir um novo valor a um dos caracteres causa um `TypeError`:"
      ]
    },
    {
      "cell_type": "code",
      "execution_count": null,
      "id": "17f5c553-f205-4fae-88aa-84d3eea9e082",
      "metadata": {
        "editable": true,
        "tags": [],
        "id": "17f5c553-f205-4fae-88aa-84d3eea9e082"
      },
      "outputs": [],
      "source": [
        "s = 'hello' # uma string"
      ]
    },
    {
      "cell_type": "code",
      "execution_count": null,
      "id": "83302254-10f2-4730-9efa-cc4f38f2ab47",
      "metadata": {
        "editable": true,
        "tags": [],
        "id": "83302254-10f2-4730-9efa-cc4f38f2ab47"
      },
      "outputs": [],
      "source": [
        "s[0]        # acessando um elemento da string s"
      ]
    },
    {
      "cell_type": "code",
      "execution_count": null,
      "id": "03e0d59b-0409-4a28-b2fd-572320c8e0f6",
      "metadata": {
        "editable": true,
        "tags": [],
        "id": "03e0d59b-0409-4a28-b2fd-572320c8e0f6"
      },
      "outputs": [],
      "source": [
        "s[0] = 'H'  # Erro! tentando modificar um elementos da string s"
      ]
    },
    {
      "cell_type": "markdown",
      "id": "bf312a29-8660-4ba1-8c6a-ba1d971d7b53",
      "metadata": {
        "editable": false,
        "tags": [],
        "id": "bf312a29-8660-4ba1-8c6a-ba1d971d7b53"
      },
      "source": [
        "## Usando elementos de Listas em expressões\n",
        "Os elementos de uma lista podem ser usados ​​como variáveis ​​em expressões."
      ]
    },
    {
      "cell_type": "code",
      "execution_count": null,
      "id": "85358d04-28aa-4a5e-8730-c4f2704c24ac",
      "metadata": {
        "editable": true,
        "tags": [],
        "id": "85358d04-28aa-4a5e-8730-c4f2704c24ac"
      },
      "outputs": [],
      "source": [
        "c[0]"
      ]
    },
    {
      "cell_type": "code",
      "execution_count": null,
      "id": "444c25d6-2d7a-459c-95ec-f84349366981",
      "metadata": {
        "editable": true,
        "tags": [],
        "id": "444c25d6-2d7a-459c-95ec-f84349366981"
      },
      "outputs": [],
      "source": [
        "d[2]"
      ]
    },
    {
      "cell_type": "code",
      "execution_count": null,
      "id": "4186b2d7-bc7b-4be1-a6b2-005e2eb3ce99",
      "metadata": {
        "editable": true,
        "tags": [],
        "id": "4186b2d7-bc7b-4be1-a6b2-005e2eb3ce99"
      },
      "outputs": [],
      "source": [
        "d[2] * 2.0"
      ]
    },
    {
      "cell_type": "code",
      "execution_count": null,
      "id": "5db86a32-e582-4c66-a081-ea1ef484f7e3",
      "metadata": {
        "editable": true,
        "tags": [],
        "id": "5db86a32-e582-4c66-a081-ea1ef484f7e3"
      },
      "outputs": [],
      "source": [
        "c[0] + ' ' + 'da Silva'"
      ]
    },
    {
      "cell_type": "markdown",
      "id": "796da07f-6a4f-4c45-bfd0-785421e90a40",
      "metadata": {
        "editable": false,
        "tags": [],
        "id": "796da07f-6a4f-4c45-bfd0-785421e90a40"
      },
      "source": [
        "## Anexando elementos a uma lista com `+=`\n",
        "Podemos usar o operador `+=` para inserir novos valores no final de uma lista. Note que a lista cresce dinamicamente para acomodar cada item novo:"
      ]
    },
    {
      "cell_type": "code",
      "execution_count": null,
      "id": "a7790bcd-694f-4e51-bf98-864509b68832",
      "metadata": {
        "editable": true,
        "tags": [],
        "id": "a7790bcd-694f-4e51-bf98-864509b68832"
      },
      "outputs": [],
      "source": [
        "a_lista = [] # cria uma lista vazia"
      ]
    },
    {
      "cell_type": "code",
      "execution_count": null,
      "id": "d11a2359-7bb4-4cef-8471-98bdef05df98",
      "metadata": {
        "editable": true,
        "tags": [],
        "id": "d11a2359-7bb4-4cef-8471-98bdef05df98"
      },
      "outputs": [],
      "source": [
        "for numero in range(1, 6):\n",
        "    a_lista += [numero] # apendando (anexando) os valores"
      ]
    },
    {
      "cell_type": "code",
      "execution_count": null,
      "id": "699b3028-4cb1-42ff-bf8e-0ee1592f993a",
      "metadata": {
        "editable": true,
        "tags": [],
        "id": "699b3028-4cb1-42ff-bf8e-0ee1592f993a"
      },
      "outputs": [],
      "source": [
        "a_lista"
      ]
    },
    {
      "cell_type": "markdown",
      "id": "95f01ba5-7a19-4226-b74f-f0fe796a2fb7",
      "metadata": {
        "editable": false,
        "tags": [],
        "id": "95f01ba5-7a19-4226-b74f-f0fe796a2fb7"
      },
      "source": [
        "Quando o operando à esquerda de `+=` é uma lista, o operando à direita **deve ser** iterável, caso contrário, ocorrerá um `TypeError`. No exemplo acima, os colchetes ao redor de `[número]` criam uma lista com um único elemento, o qual é anexado no final da lista `a_lista`. Se o operando à direita contiver vários elementos, `+=` anexará todos eles. O exemplo a seguir acrescenta os caracteres da string 'Python' à lista `letras`:"
      ]
    },
    {
      "cell_type": "code",
      "execution_count": null,
      "id": "b89c2473-a1ac-4d00-a997-1e8452e9959b",
      "metadata": {
        "editable": true,
        "tags": [],
        "id": "b89c2473-a1ac-4d00-a997-1e8452e9959b"
      },
      "outputs": [],
      "source": [
        "letras = []"
      ]
    },
    {
      "cell_type": "code",
      "execution_count": null,
      "id": "5ff12626-53f8-495b-b9fa-b9f7cb7e04e8",
      "metadata": {
        "editable": true,
        "tags": [],
        "id": "5ff12626-53f8-495b-b9fa-b9f7cb7e04e8"
      },
      "outputs": [],
      "source": [
        "letras += 'Python'"
      ]
    },
    {
      "cell_type": "code",
      "execution_count": null,
      "id": "4baacb93-9ee1-4e00-9fd3-58312c39158e",
      "metadata": {
        "editable": true,
        "tags": [],
        "id": "4baacb93-9ee1-4e00-9fd3-58312c39158e"
      },
      "outputs": [],
      "source": [
        "letras"
      ]
    },
    {
      "cell_type": "code",
      "execution_count": null,
      "id": "70f3ce5c-be4b-4bb7-bb8f-10cf12d1ead5",
      "metadata": {
        "editable": true,
        "tags": [],
        "id": "70f3ce5c-be4b-4bb7-bb8f-10cf12d1ead5"
      },
      "outputs": [],
      "source": [
        "valores = []"
      ]
    },
    {
      "cell_type": "code",
      "execution_count": null,
      "id": "d168c98f-13fa-4c16-86df-584baa782556",
      "metadata": {
        "editable": true,
        "tags": [],
        "id": "d168c98f-13fa-4c16-86df-584baa782556"
      },
      "outputs": [],
      "source": [
        "valores = [1, 2, 3, 4, 'Maria']"
      ]
    },
    {
      "cell_type": "code",
      "execution_count": null,
      "id": "02e6a326-217f-40e1-9b92-91b0e2670fc8",
      "metadata": {
        "editable": true,
        "tags": [],
        "id": "02e6a326-217f-40e1-9b92-91b0e2670fc8"
      },
      "outputs": [],
      "source": [
        "valores"
      ]
    },
    {
      "cell_type": "code",
      "execution_count": null,
      "id": "2c241882-b37e-43f3-8953-3789924b8045",
      "metadata": {
        "editable": true,
        "tags": [],
        "id": "2c241882-b37e-43f3-8953-3789924b8045"
      },
      "outputs": [],
      "source": [
        "valores += letras"
      ]
    },
    {
      "cell_type": "code",
      "execution_count": null,
      "id": "0e37783b-7d99-42e4-9f44-0c2b27f4c3ec",
      "metadata": {
        "editable": true,
        "tags": [],
        "id": "0e37783b-7d99-42e4-9f44-0c2b27f4c3ec"
      },
      "outputs": [],
      "source": [
        "valores"
      ]
    },
    {
      "cell_type": "markdown",
      "id": "7795a319-564a-44c3-837d-c3157657f9a5",
      "metadata": {
        "editable": true,
        "tags": [],
        "id": "7795a319-564a-44c3-837d-c3157657f9a5"
      },
      "source": [
        "## Concatenando Listas com o operador `+`\n",
        "Podemos concatenar duas listas, duas tuplas ou duas strings, usando o operador +. O resultado é uma nova sequência do mesmo tipo contendo os elementos do operando esquerdo seguidos pelos elementos do operando à direita. As sequências originais permanecem inalteradas:"
      ]
    },
    {
      "cell_type": "code",
      "execution_count": null,
      "id": "434f2e9c-8871-4a4f-8700-29bce70dbe28",
      "metadata": {
        "editable": true,
        "tags": [],
        "id": "434f2e9c-8871-4a4f-8700-29bce70dbe28"
      },
      "outputs": [],
      "source": [
        "list1 = [10, 20, 30]"
      ]
    },
    {
      "cell_type": "code",
      "execution_count": null,
      "id": "659fc95c-896c-4d0f-93fd-cd2738e391b1",
      "metadata": {
        "editable": true,
        "tags": [],
        "id": "659fc95c-896c-4d0f-93fd-cd2738e391b1"
      },
      "outputs": [],
      "source": [
        "list2 = [40, 50]"
      ]
    },
    {
      "cell_type": "code",
      "execution_count": null,
      "id": "d5cf54b9-ecab-4191-92e5-1b0b5ce5fd27",
      "metadata": {
        "editable": true,
        "tags": [],
        "id": "d5cf54b9-ecab-4191-92e5-1b0b5ce5fd27"
      },
      "outputs": [],
      "source": [
        "list3 = list2 + list1 # faz a concatenação"
      ]
    },
    {
      "cell_type": "code",
      "execution_count": null,
      "id": "cb3ce76d-892e-4dfc-8ca4-a613237b3b67",
      "metadata": {
        "editable": true,
        "tags": [],
        "id": "cb3ce76d-892e-4dfc-8ca4-a613237b3b67"
      },
      "outputs": [],
      "source": [
        "list3"
      ]
    },
    {
      "cell_type": "code",
      "execution_count": null,
      "id": "a5eb8a8c-98de-4afc-97a3-0dfedb37edb8",
      "metadata": {
        "editable": true,
        "tags": [],
        "id": "a5eb8a8c-98de-4afc-97a3-0dfedb37edb8"
      },
      "outputs": [],
      "source": [
        "list1"
      ]
    },
    {
      "cell_type": "code",
      "execution_count": null,
      "id": "29888659-d089-42d8-8f5e-7bf634570197",
      "metadata": {
        "editable": true,
        "tags": [],
        "id": "29888659-d089-42d8-8f5e-7bf634570197"
      },
      "outputs": [],
      "source": [
        "list2"
      ]
    },
    {
      "cell_type": "code",
      "execution_count": null,
      "id": "2f113b1a-8c4c-477b-a3e3-145028cff7c2",
      "metadata": {
        "editable": true,
        "tags": [],
        "id": "2f113b1a-8c4c-477b-a3e3-145028cff7c2"
      },
      "outputs": [],
      "source": [
        "nome1 = 'Maria'"
      ]
    },
    {
      "cell_type": "code",
      "execution_count": null,
      "id": "4aeda57d-a48e-47e8-991d-e758fa85d7d1",
      "metadata": {
        "editable": true,
        "tags": [],
        "id": "4aeda57d-a48e-47e8-991d-e758fa85d7d1"
      },
      "outputs": [],
      "source": [
        "nome2 =  'Madalena'"
      ]
    },
    {
      "cell_type": "code",
      "execution_count": null,
      "id": "bff33fc2-d167-4735-8f9f-20cdc65a3681",
      "metadata": {
        "editable": true,
        "tags": [],
        "id": "bff33fc2-d167-4735-8f9f-20cdc65a3681"
      },
      "outputs": [],
      "source": [
        "nome_completo = nome1 + ' ' + nome2"
      ]
    },
    {
      "cell_type": "code",
      "execution_count": null,
      "id": "8b460b34-db64-4b72-a85e-893b0aae9db7",
      "metadata": {
        "editable": true,
        "tags": [],
        "id": "8b460b34-db64-4b72-a85e-893b0aae9db7"
      },
      "outputs": [],
      "source": [
        "nome_completo"
      ]
    },
    {
      "cell_type": "markdown",
      "id": "3a570ad2-b629-4fb0-9d12-f4e3f59fb48c",
      "metadata": {
        "editable": false,
        "tags": [],
        "id": "3a570ad2-b629-4fb0-9d12-f4e3f59fb48c"
      },
      "source": [
        "## Usando `for` e `range` para acessar elementos de listas"
      ]
    },
    {
      "cell_type": "markdown",
      "id": "febacf3d-1aab-448b-a4bc-ded3808c27cb",
      "metadata": {
        "editable": false,
        "tags": [],
        "id": "febacf3d-1aab-448b-a4bc-ded3808c27cb"
      },
      "source": [
        "O loop `for` é o mais apropriado para percorrer os elementos de uma sequência, seja ela uma lista, string ou tupla. Isso porque é fácil recuperar o número de elementos com a função `len()` para gerar os valores de indexação."
      ]
    },
    {
      "cell_type": "code",
      "execution_count": null,
      "id": "6db6a949-79cd-4363-b231-d56615f49eb9",
      "metadata": {
        "editable": true,
        "tags": [],
        "id": "6db6a949-79cd-4363-b231-d56615f49eb9"
      },
      "outputs": [],
      "source": [
        "for i in range(len(list3)):\n",
        "    print(f'{i}: {list3[i]}')"
      ]
    },
    {
      "cell_type": "markdown",
      "id": "851c9a75-5708-4e7f-8d90-f56747eabb56",
      "metadata": {
        "tags": [],
        "id": "851c9a75-5708-4e7f-8d90-f56747eabb56"
      },
      "source": [
        "A chamada de função `range(len(list3))` produz uma sequência de inteiros representando os índices da lista `list3` (neste caso, de 0 a 4). Ao fazer loop dessa maneira, você deve garantir que os índices vão permanecer dentro do intervalo."
      ]
    },
    {
      "cell_type": "markdown",
      "id": "4c0a2ca9-810e-420d-a017-f5185941f324",
      "metadata": {
        "editable": false,
        "tags": [],
        "id": "4c0a2ca9-810e-420d-a017-f5185941f324"
      },
      "source": [
        "## Operadores de comparação\n",
        "Podemos comparar listas, elemento por elemento, usando operadores de comparação:"
      ]
    },
    {
      "cell_type": "code",
      "execution_count": null,
      "id": "b38617a7-c8be-47c6-a7c1-f4be799d0ba1",
      "metadata": {
        "editable": true,
        "tags": [],
        "id": "b38617a7-c8be-47c6-a7c1-f4be799d0ba1"
      },
      "outputs": [],
      "source": [
        "a = [1, 2, 3]"
      ]
    },
    {
      "cell_type": "code",
      "execution_count": null,
      "id": "b38bbaf7-0149-407f-b996-7bc0ecf3576c",
      "metadata": {
        "editable": true,
        "tags": [],
        "id": "b38bbaf7-0149-407f-b996-7bc0ecf3576c"
      },
      "outputs": [],
      "source": [
        "b = [1, 2, 3]"
      ]
    },
    {
      "cell_type": "code",
      "execution_count": null,
      "id": "ce24520c-548c-49df-af9e-dc7a966d730a",
      "metadata": {
        "editable": true,
        "tags": [],
        "id": "ce24520c-548c-49df-af9e-dc7a966d730a"
      },
      "outputs": [],
      "source": [
        "c = [1, 2, 4]"
      ]
    },
    {
      "cell_type": "code",
      "execution_count": null,
      "id": "665e78dc-17f7-488c-bb9b-8f96ba509fd9",
      "metadata": {
        "editable": true,
        "tags": [],
        "id": "665e78dc-17f7-488c-bb9b-8f96ba509fd9"
      },
      "outputs": [],
      "source": [
        "a == b"
      ]
    },
    {
      "cell_type": "code",
      "execution_count": null,
      "id": "68507e8f-1284-4caf-b38b-ecc5c1ed3f2a",
      "metadata": {
        "editable": true,
        "tags": [],
        "id": "68507e8f-1284-4caf-b38b-ecc5c1ed3f2a"
      },
      "outputs": [],
      "source": [
        "a == c"
      ]
    },
    {
      "cell_type": "code",
      "execution_count": null,
      "id": "cb2e50ed-7a64-4900-bc18-9ddeb5e916c2",
      "metadata": {
        "editable": true,
        "tags": [],
        "id": "cb2e50ed-7a64-4900-bc18-9ddeb5e916c2"
      },
      "outputs": [],
      "source": [
        "a < c"
      ]
    },
    {
      "cell_type": "code",
      "execution_count": null,
      "id": "41c58a29-e051-49bb-9b86-e544a491f9af",
      "metadata": {
        "editable": true,
        "tags": [],
        "id": "41c58a29-e051-49bb-9b86-e544a491f9af"
      },
      "outputs": [],
      "source": [
        "c >= b"
      ]
    },
    {
      "cell_type": "markdown",
      "id": "39f1e72e-0260-428a-a7cf-95b7b1e4152e",
      "metadata": {
        "id": "39f1e72e-0260-428a-a7cf-95b7b1e4152e"
      },
      "source": [
        "**Exercício** Faça uma função que receba duas listas como parâmetro e retorne `True` se as listas forem iguais; caso contrário retorne `False`."
      ]
    },
    {
      "cell_type": "code",
      "execution_count": null,
      "id": "9e17d74b-568f-49a1-b3d4-3e9fa2a5cd9b",
      "metadata": {
        "id": "9e17d74b-568f-49a1-b3d4-3e9fa2a5cd9b"
      },
      "outputs": [],
      "source": [
        "# define a funcao\n",
        "def compara_lista(lista1, lista2):\n",
        "    if len(lista1) == len(lista2):\n",
        "        for i in range(len(lista2)):\n",
        "            if lista1[i] != lista2[i]:\n",
        "                return False\n",
        "        return True\n",
        "    else:\n",
        "        return False\n",
        "\n",
        "# usa a função\n",
        "A = [1, 2, 3, 4, 5, 6]\n",
        "B = [1, 2, 3, 10, 5, 6]\n",
        "ret = compara_lista(A, B)\n",
        "print(ret)"
      ]
    },
    {
      "cell_type": "markdown",
      "id": "3508c0d0-6882-4d99-8979-300198d6fcee",
      "metadata": {
        "editable": false,
        "tags": [],
        "id": "3508c0d0-6882-4d99-8979-300198d6fcee"
      },
      "source": [
        "**_Exercício 1:_** Crie a função `lista_cubo` que eleva ao cubo os elementos de uma lista. Chame a função `lista_cubo` passando como argumento a lista `numeros`, a qual deve conter os valores de 1 até 10. Mostre a lista `numeros` após a chamada."
      ]
    },
    {
      "cell_type": "code",
      "execution_count": null,
      "id": "92fcc1cb-c23a-44dd-9b6e-2727588b7c93",
      "metadata": {
        "editable": true,
        "tags": [],
        "id": "92fcc1cb-c23a-44dd-9b6e-2727588b7c93"
      },
      "outputs": [],
      "source": [
        "# Possível Solução:\n",
        "def lista_cubo(lista):\n",
        "    for i in range(len(lista)):\n",
        "        lista[i] = lista[i] ** 3"
      ]
    },
    {
      "cell_type": "code",
      "execution_count": null,
      "id": "cd607554-6bc6-4d0d-b670-d7169d54ba42",
      "metadata": {
        "editable": true,
        "tags": [],
        "id": "cd607554-6bc6-4d0d-b670-d7169d54ba42"
      },
      "outputs": [],
      "source": [
        "numeros = [1, 2, 3, 4, 5, 6, 7, 8, 9, 10]\n",
        "lista_cubo(numeros)\n",
        "print(numeros)"
      ]
    },
    {
      "cell_type": "markdown",
      "id": "8c046208-e454-4d01-8081-0d778b3f3638",
      "metadata": {
        "editable": false,
        "tags": [],
        "id": "8c046208-e454-4d01-8081-0d778b3f3638"
      },
      "source": [
        "**_Exercício 2:_** Crie a lista vazia `caracteres`. Em seguida, com uma instrução de atribuição aumentada `+=`, converta a string \"Aniversário\" em uma lista que deve ser atribuída `a `caracteres`."
      ]
    },
    {
      "cell_type": "code",
      "execution_count": null,
      "id": "a37f4139-886c-4ff9-b656-d128c6c15583",
      "metadata": {
        "editable": true,
        "tags": [],
        "id": "a37f4139-886c-4ff9-b656-d128c6c15583"
      },
      "outputs": [],
      "source": [
        "caracteres = []\n",
        "caracteres  += 'Aniversário'"
      ]
    },
    {
      "cell_type": "code",
      "execution_count": null,
      "id": "90001b94-3906-4598-a269-993a2c455b0a",
      "metadata": {
        "editable": true,
        "tags": [],
        "id": "90001b94-3906-4598-a269-993a2c455b0a"
      },
      "outputs": [],
      "source": [
        "caracteres"
      ]
    },
    {
      "cell_type": "markdown",
      "id": "0c55dce7-3a0e-4245-a36e-678ae5107be1",
      "metadata": {
        "editable": false,
        "tags": [],
        "id": "0c55dce7-3a0e-4245-a36e-678ae5107be1"
      },
      "source": [
        "# 4.3 Tuplas\n",
        "Diferentemente das listas, as tuplas são sequências **imutáveis**. Isso quer dizer que não podemos alterar seus elementos, bem como não podemos inserir ou deletar elementos dinamicamente. Para criar uma tupla, especificamos seus elementos entre parênteses `( )`."
      ]
    },
    {
      "cell_type": "code",
      "execution_count": null,
      "id": "e0913dbe-824d-49e0-bea1-613f3f7f98d1",
      "metadata": {
        "editable": true,
        "tags": [],
        "id": "e0913dbe-824d-49e0-bea1-613f3f7f98d1"
      },
      "outputs": [],
      "source": [
        "tupla_estudante = () # cria uma tupla vazia"
      ]
    },
    {
      "cell_type": "code",
      "execution_count": null,
      "id": "d350acb6-a216-43ea-8bf9-3ebc2ac7b144",
      "metadata": {
        "editable": true,
        "tags": [],
        "id": "d350acb6-a216-43ea-8bf9-3ebc2ac7b144"
      },
      "outputs": [],
      "source": [
        "tupla_estudante"
      ]
    },
    {
      "cell_type": "code",
      "execution_count": null,
      "id": "031d14eb-70f6-4a7f-85bc-8ec0741418b9",
      "metadata": {
        "editable": true,
        "tags": [],
        "id": "031d14eb-70f6-4a7f-85bc-8ec0741418b9"
      },
      "outputs": [],
      "source": [
        "len(tupla_estudante) # recupera o comprimento (número de elementos) da tupla"
      ]
    },
    {
      "cell_type": "code",
      "execution_count": null,
      "id": "68535f7c-7f8e-4512-8f63-4c3a82e81b5f",
      "metadata": {
        "editable": true,
        "tags": [],
        "id": "68535f7c-7f8e-4512-8f63-4c3a82e81b5f"
      },
      "outputs": [],
      "source": [
        "tupla_estudante = ('John', 'Green', 3.3)"
      ]
    },
    {
      "cell_type": "code",
      "execution_count": null,
      "id": "19a46d19-0b33-46cf-b3de-2a21cdfd7349",
      "metadata": {
        "editable": true,
        "tags": [],
        "id": "19a46d19-0b33-46cf-b3de-2a21cdfd7349"
      },
      "outputs": [],
      "source": [
        "tupla_estudante"
      ]
    },
    {
      "cell_type": "code",
      "execution_count": null,
      "id": "450bff2c-f7fd-4354-857b-9dac11e8bf36",
      "metadata": {
        "editable": true,
        "tags": [],
        "id": "450bff2c-f7fd-4354-857b-9dac11e8bf36"
      },
      "outputs": [],
      "source": [
        "len(tupla_estudante)"
      ]
    },
    {
      "cell_type": "code",
      "execution_count": null,
      "id": "7e81ab5e-9907-4582-9529-05774e027026",
      "metadata": {
        "editable": true,
        "tags": [],
        "id": "7e81ab5e-9907-4582-9529-05774e027026"
      },
      "outputs": [],
      "source": [
        "outra_tupla = ('Mary', 'Red', 3.3)"
      ]
    },
    {
      "cell_type": "code",
      "execution_count": null,
      "id": "3f82978d-7b2a-4662-b5e3-142af7376e72",
      "metadata": {
        "editable": true,
        "tags": [],
        "id": "3f82978d-7b2a-4662-b5e3-142af7376e72"
      },
      "outputs": [],
      "source": [
        "outra_tupla"
      ]
    },
    {
      "cell_type": "code",
      "execution_count": null,
      "id": "5486229b-d43f-40fd-9d75-0c3a0dd55eea",
      "metadata": {
        "editable": true,
        "tags": [],
        "id": "5486229b-d43f-40fd-9d75-0c3a0dd55eea"
      },
      "outputs": [],
      "source": [
        "a_singleton_tuple = ('red',)  # A vírgula é necessária; sem ela seria um valor escalar."
      ]
    },
    {
      "cell_type": "code",
      "execution_count": null,
      "id": "fd1b7307-9207-4fd6-9bdd-98ea924da1a8",
      "metadata": {
        "editable": true,
        "tags": [],
        "id": "fd1b7307-9207-4fd6-9bdd-98ea924da1a8"
      },
      "outputs": [],
      "source": [
        "a_singleton_tuple"
      ]
    },
    {
      "cell_type": "markdown",
      "id": "7cf65ecd-4ffd-4d04-8afb-ddb6d9b0d5fd",
      "metadata": {
        "editable": false,
        "tags": [],
        "id": "7cf65ecd-4ffd-4d04-8afb-ddb6d9b0d5fd"
      },
      "source": [
        "Note que para criar uma tupla com um único elemento, é necessário colocar uma vírgula antes de fechar o parenteses. Se a vírgula não for colocada, é criado um escalar ao invés de uma tupla."
      ]
    },
    {
      "cell_type": "markdown",
      "id": "f0f79931-1426-492d-9a95-d0bdac2c0f8b",
      "metadata": {
        "editable": true,
        "tags": [],
        "id": "f0f79931-1426-492d-9a95-d0bdac2c0f8b"
      },
      "source": [
        "## Acessando os elementos de uma tupla\n",
        "Assim como os índices de uma lista, os índices de uma tupla começam em $0$. O código a seguir cria a tupla `tempo` representando hora, minuto e segundo, exibe a tupla e usa seus elementos para calcular o número de segundos transcorridos desde a meia-noite."
      ]
    },
    {
      "cell_type": "code",
      "execution_count": null,
      "id": "1ee3c81d-1e3d-4dd9-a18f-972d2b6c611b",
      "metadata": {
        "editable": true,
        "tags": [],
        "id": "1ee3c81d-1e3d-4dd9-a18f-972d2b6c611b"
      },
      "outputs": [],
      "source": [
        "tempo = (9, 16, 1)"
      ]
    },
    {
      "cell_type": "code",
      "execution_count": null,
      "id": "745223e7-b96d-46ab-bcd6-205d0d1dbd16",
      "metadata": {
        "editable": true,
        "tags": [],
        "id": "745223e7-b96d-46ab-bcd6-205d0d1dbd16"
      },
      "outputs": [],
      "source": [
        "tempo"
      ]
    },
    {
      "cell_type": "code",
      "execution_count": null,
      "id": "43904913-ea70-44aa-873b-767a14fb7cd7",
      "metadata": {
        "editable": true,
        "tags": [],
        "id": "43904913-ea70-44aa-873b-767a14fb7cd7"
      },
      "outputs": [],
      "source": [
        "segundos = tempo[0] * 3600 + tempo[1] * 60 + tempo[2]"
      ]
    },
    {
      "cell_type": "code",
      "execution_count": null,
      "id": "f60833c0-d18d-416d-9670-53850065ed66",
      "metadata": {
        "editable": true,
        "tags": [],
        "id": "f60833c0-d18d-416d-9670-53850065ed66"
      },
      "outputs": [],
      "source": [
        "segundos"
      ]
    },
    {
      "cell_type": "markdown",
      "id": "0cbe4bb9-79ca-4e7a-83df-36a6097e7ff5",
      "metadata": {
        "tags": [],
        "id": "0cbe4bb9-79ca-4e7a-83df-36a6097e7ff5"
      },
      "source": [
        "## Adicionando itens a Tuplas e Strings\n",
        "O operador `+=` pode ser usado com strings e tuplas, mesmo elas sendo imutáveis. No exemplo abaixo, usamos `+=` a fim de concatenar a tupla (10, 20, 30) com a tupla (40, 50). Porém, tenha em mente que essa operação não altera as tuplas originais, mas sim cria uma nova tupla com os valores (10, 20, 30, 40, 50) e, em seguida, faz a variável `tupla1` apontar para a nova tupla criada."
      ]
    },
    {
      "cell_type": "code",
      "execution_count": null,
      "id": "9cc00d97-f28f-4916-9426-cf8ea3aef781",
      "metadata": {
        "editable": true,
        "tags": [],
        "id": "9cc00d97-f28f-4916-9426-cf8ea3aef781"
      },
      "outputs": [],
      "source": [
        "tupla1 = (10, 20, 30)"
      ]
    },
    {
      "cell_type": "code",
      "execution_count": null,
      "id": "50b4c37a-9250-4e67-9a39-fa3eb9d658cb",
      "metadata": {
        "id": "50b4c37a-9250-4e67-9a39-fa3eb9d658cb"
      },
      "outputs": [],
      "source": [
        "tupla1"
      ]
    },
    {
      "cell_type": "code",
      "execution_count": null,
      "id": "51a1df95-02da-464b-98ec-f025e60cebb6",
      "metadata": {
        "id": "51a1df95-02da-464b-98ec-f025e60cebb6"
      },
      "outputs": [],
      "source": [
        "id(tupla1)"
      ]
    },
    {
      "cell_type": "code",
      "execution_count": null,
      "id": "0cd4a8e7-4b21-4cbf-a297-72fdb95979cf",
      "metadata": {
        "editable": true,
        "tags": [],
        "id": "0cd4a8e7-4b21-4cbf-a297-72fdb95979cf"
      },
      "outputs": [],
      "source": [
        "tupla1 += (40, 50)"
      ]
    },
    {
      "cell_type": "code",
      "execution_count": null,
      "id": "cd6c1109-b255-4d57-b850-5fe01b688b68",
      "metadata": {
        "editable": true,
        "tags": [],
        "id": "cd6c1109-b255-4d57-b850-5fe01b688b68"
      },
      "outputs": [],
      "source": [
        "tupla1"
      ]
    },
    {
      "cell_type": "code",
      "execution_count": null,
      "id": "a266f595-0ce3-4caf-82bc-dba4e51274bc",
      "metadata": {
        "id": "a266f595-0ce3-4caf-82bc-dba4e51274bc"
      },
      "outputs": [],
      "source": [
        "id(tupla1)"
      ]
    },
    {
      "cell_type": "markdown",
      "id": "20c30185-74ea-4658-8a20-71fecdb520b6",
      "metadata": {
        "editable": true,
        "tags": [],
        "id": "20c30185-74ea-4658-8a20-71fecdb520b6"
      },
      "source": [
        "Após o processo, a tupla original (10, 20, 30) fica sem referência e é eliminada da memória pelo coletor de lixo automático do Python. O operador `+=` pode ser usado também com strings, com os mesmos efeitos discutidos para o caso das tuplas."
      ]
    },
    {
      "cell_type": "code",
      "execution_count": null,
      "id": "77a315e5-0810-4be8-901c-b6c18c001dd2",
      "metadata": {
        "editable": true,
        "tags": [],
        "id": "77a315e5-0810-4be8-901c-b6c18c001dd2"
      },
      "outputs": [],
      "source": [
        "s = 'Simão'"
      ]
    },
    {
      "cell_type": "code",
      "execution_count": null,
      "id": "00d77be7-29b4-471a-94ad-1fda444bb3a0",
      "metadata": {
        "editable": true,
        "tags": [],
        "id": "00d77be7-29b4-471a-94ad-1fda444bb3a0"
      },
      "outputs": [],
      "source": [
        "s += ' Pedro'"
      ]
    },
    {
      "cell_type": "code",
      "execution_count": null,
      "id": "5a27e9e1-773d-4e09-a3e9-1fcf19a95273",
      "metadata": {
        "editable": true,
        "tags": [],
        "id": "5a27e9e1-773d-4e09-a3e9-1fcf19a95273"
      },
      "outputs": [],
      "source": [
        "s"
      ]
    },
    {
      "cell_type": "markdown",
      "id": "79a7df11-1722-4e3a-91ad-9778a65fa492",
      "metadata": {
        "editable": true,
        "tags": [],
        "id": "79a7df11-1722-4e3a-91ad-9778a65fa492"
      },
      "source": [
        "Para strings ou tuplas, o item à direita do operador `+=` deve ser uma string ou tupla, respectivamente; misturar tipos causa um `TypeError`."
      ]
    },
    {
      "cell_type": "markdown",
      "id": "612819ce-2c3f-4462-b7e7-c1c01169a7a2",
      "metadata": {
        "editable": true,
        "tags": [],
        "id": "612819ce-2c3f-4462-b7e7-c1c01169a7a2"
      },
      "source": [
        "## Anexando Tuplas a Listas\n",
        "Podemos usar `+=` para anexar uma tupla a uma lista. Como listas são mutáveis, o efeito é idêntico ao de adicionar uma lista a outra lista, ou seja, os elementos da tuplas são adicionados ao final da lista, alterando seu tamanho."
      ]
    },
    {
      "cell_type": "code",
      "execution_count": null,
      "id": "1a1518c9-8e34-4acc-b867-82a57753731c",
      "metadata": {
        "editable": true,
        "tags": [],
        "id": "1a1518c9-8e34-4acc-b867-82a57753731c"
      },
      "outputs": [],
      "source": [
        "lista1 = [1, 2, 3, 4, 5] # lista de inteiros"
      ]
    },
    {
      "cell_type": "code",
      "execution_count": null,
      "id": "e4539b71-ad34-4521-9094-7fd4f26779a8",
      "metadata": {
        "editable": true,
        "tags": [],
        "id": "e4539b71-ad34-4521-9094-7fd4f26779a8"
      },
      "outputs": [],
      "source": [
        "tupla1 += (6, 7, 'Python') # tupla heterogênea"
      ]
    },
    {
      "cell_type": "code",
      "execution_count": null,
      "id": "3db3932f-408e-48a5-8ea5-cd785f8d1d16",
      "metadata": {
        "editable": true,
        "tags": [],
        "id": "3db3932f-408e-48a5-8ea5-cd785f8d1d16"
      },
      "outputs": [],
      "source": [
        "lista1 += tupla1"
      ]
    },
    {
      "cell_type": "code",
      "execution_count": null,
      "id": "8b069ccb-9f92-42fd-b063-c89797ee5646",
      "metadata": {
        "editable": true,
        "tags": [],
        "id": "8b069ccb-9f92-42fd-b063-c89797ee5646"
      },
      "outputs": [],
      "source": [
        "lista1"
      ]
    },
    {
      "cell_type": "markdown",
      "id": "217ac0ce-f570-43af-8c9e-e7e4fb4824f5",
      "metadata": {
        "editable": false,
        "tags": [],
        "id": "217ac0ce-f570-43af-8c9e-e7e4fb4824f5"
      },
      "source": [
        "## Tuplas podem conter objetos mutáveis\n",
        "Tuplas podem conter elementos mutáveis. Como exemplo, vamos criar a tupla estudante com nome, sobrenome e lista de notas:"
      ]
    },
    {
      "cell_type": "code",
      "execution_count": null,
      "id": "2104e96d-19ee-497a-beff-c76d0dd8ac86",
      "metadata": {
        "editable": true,
        "tags": [],
        "id": "2104e96d-19ee-497a-beff-c76d0dd8ac86"
      },
      "outputs": [],
      "source": [
        "estudante = ('Amanda', 'Blue', [98, 75, 87])"
      ]
    },
    {
      "cell_type": "code",
      "execution_count": null,
      "id": "c1f49f70-cbb4-4479-872a-20d45af845ee",
      "metadata": {
        "editable": true,
        "tags": [],
        "id": "c1f49f70-cbb4-4479-872a-20d45af845ee"
      },
      "outputs": [],
      "source": [
        "estudante"
      ]
    },
    {
      "cell_type": "code",
      "execution_count": null,
      "id": "f448bfd3-6f1c-49a2-b0fb-77f6b1f77e0e",
      "metadata": {
        "id": "f448bfd3-6f1c-49a2-b0fb-77f6b1f77e0e"
      },
      "outputs": [],
      "source": [
        "estudante[0][3]"
      ]
    },
    {
      "cell_type": "code",
      "execution_count": null,
      "id": "2e6b66df-e560-47b1-8d9a-97dc1c55ff33",
      "metadata": {
        "editable": true,
        "tags": [],
        "id": "2e6b66df-e560-47b1-8d9a-97dc1c55ff33"
      },
      "outputs": [],
      "source": [
        "estudante[0][3]"
      ]
    },
    {
      "cell_type": "code",
      "execution_count": null,
      "id": "6f702227-573a-41db-8418-696e7a442262",
      "metadata": {
        "editable": true,
        "tags": [],
        "id": "6f702227-573a-41db-8418-696e7a442262"
      },
      "outputs": [],
      "source": [
        "estudante[1][1]"
      ]
    },
    {
      "cell_type": "code",
      "execution_count": null,
      "id": "a0de48cd-bf68-4317-8c57-db9ae22434d1",
      "metadata": {
        "editable": true,
        "tags": [],
        "id": "a0de48cd-bf68-4317-8c57-db9ae22434d1"
      },
      "outputs": [],
      "source": [
        "estudante[2][1]"
      ]
    },
    {
      "cell_type": "code",
      "execution_count": null,
      "id": "25bd7be3-ebdf-46e4-8a9d-82766ae6729f",
      "metadata": {
        "editable": true,
        "tags": [],
        "id": "25bd7be3-ebdf-46e4-8a9d-82766ae6729f"
      },
      "outputs": [],
      "source": [
        "estudante[2][1] = 85"
      ]
    },
    {
      "cell_type": "code",
      "execution_count": null,
      "id": "e7dd5ee3-4c68-489c-bc39-59efc7227cb0",
      "metadata": {
        "editable": false,
        "tags": [],
        "id": "e7dd5ee3-4c68-489c-bc39-59efc7227cb0"
      },
      "outputs": [],
      "source": [
        "estudante"
      ]
    },
    {
      "cell_type": "markdown",
      "id": "67d2dfb2-362e-40d3-b23a-779b77848f53",
      "metadata": {
        "editable": true,
        "tags": [],
        "id": "67d2dfb2-362e-40d3-b23a-779b77848f53"
      },
      "source": [
        "**_Exercício 1:_** Crie uma tupla contendo o elemento 123.45, e mostre-a."
      ]
    },
    {
      "cell_type": "code",
      "execution_count": null,
      "id": "17cefd19-52bc-4453-a75f-3709c829bdcf",
      "metadata": {
        "editable": true,
        "tags": [],
        "id": "17cefd19-52bc-4453-a75f-3709c829bdcf"
      },
      "outputs": [],
      "source": [
        "ref = (123.45,)\n",
        "print(ref)"
      ]
    },
    {
      "cell_type": "markdown",
      "id": "97fbbcf9-3755-417a-8442-cd08f812ee7a",
      "metadata": {
        "editable": false,
        "tags": [],
        "id": "97fbbcf9-3755-417a-8442-cd08f812ee7a"
      },
      "source": [
        "**_Exercício 2:_** Mostre o que acontece quando tentamos concatenar sequências de tipos diferentes usando o operador `+`. Por exemplo, a  lista `[1, 2, 3]` e a tupla `(4, 5, 6)`."
      ]
    },
    {
      "cell_type": "code",
      "execution_count": null,
      "id": "98904e34-06ac-4ee9-b6ed-3f09731db967",
      "metadata": {
        "editable": true,
        "tags": [],
        "id": "98904e34-06ac-4ee9-b6ed-3f09731db967"
      },
      "outputs": [],
      "source": [
        "[1, 2, 3] + (4, 5)"
      ]
    },
    {
      "cell_type": "markdown",
      "id": "9dbbaebd-fe3e-4467-b51d-fcac89d727a9",
      "metadata": {
        "editable": false,
        "tags": [],
        "id": "9dbbaebd-fe3e-4467-b51d-fcac89d727a9"
      },
      "source": [
        "# 4.4 Desempacotando sequências\n",
        "Em aulas anteriores introduzimos a descompactação de tuplas no contexto de retorno de funções. Na verdade, essa funcionalidade não é específica das tuplas, mas sim de qualquer sequência. Ou seja, qualquer sequência Python pode ser desempacotada atribuindo-a à variáveis ​​separadas por vírgula. Um `ValueError` ocorre se o número de variáveis ​​à esquerda do símbolo de atribuição não for idêntico ao número de elementos da sequência à direita:"
      ]
    },
    {
      "cell_type": "code",
      "execution_count": null,
      "id": "52eecaee-e411-48d7-b8cc-6764e3097240",
      "metadata": {
        "editable": true,
        "tags": [],
        "id": "52eecaee-e411-48d7-b8cc-6764e3097240"
      },
      "outputs": [],
      "source": [
        "estudante = ('Helena', [98, 85, 87]) # tupla"
      ]
    },
    {
      "cell_type": "code",
      "execution_count": null,
      "id": "96a1e189-11b8-4eb6-bead-af7c1974a98c",
      "metadata": {
        "editable": true,
        "tags": [],
        "id": "96a1e189-11b8-4eb6-bead-af7c1974a98c"
      },
      "outputs": [],
      "source": [
        "primeiro_nome, notas = estudante"
      ]
    },
    {
      "cell_type": "code",
      "execution_count": null,
      "id": "c21d4c35-2354-4c63-a821-ed5cda085c82",
      "metadata": {
        "editable": true,
        "tags": [],
        "id": "c21d4c35-2354-4c63-a821-ed5cda085c82"
      },
      "outputs": [],
      "source": [
        "primeiro_nome"
      ]
    },
    {
      "cell_type": "code",
      "execution_count": null,
      "id": "fc0dddaa-d109-45bc-8212-e56e1fd50d75",
      "metadata": {
        "editable": true,
        "tags": [],
        "id": "fc0dddaa-d109-45bc-8212-e56e1fd50d75"
      },
      "outputs": [],
      "source": [
        "notas"
      ]
    },
    {
      "cell_type": "code",
      "execution_count": null,
      "id": "3fa8fa1e-5064-43e6-9481-7a0dbbe585b5",
      "metadata": {
        "editable": true,
        "tags": [],
        "id": "3fa8fa1e-5064-43e6-9481-7a0dbbe585b5"
      },
      "outputs": [],
      "source": [
        "primeiro, segundo = 'Oi' # string"
      ]
    },
    {
      "cell_type": "code",
      "execution_count": null,
      "id": "e65ee0c1-ff0e-477b-b29f-22833f8dac4d",
      "metadata": {
        "editable": true,
        "tags": [],
        "id": "e65ee0c1-ff0e-477b-b29f-22833f8dac4d"
      },
      "outputs": [],
      "source": [
        "print(f'{primeiro}  {segundo}')"
      ]
    },
    {
      "cell_type": "code",
      "execution_count": null,
      "id": "6a8538d0-304f-451e-a4d6-b9e39d764b39",
      "metadata": {
        "editable": true,
        "tags": [],
        "id": "6a8538d0-304f-451e-a4d6-b9e39d764b39"
      },
      "outputs": [],
      "source": [
        "numero1, numero2, numero3 = [2, 3, 5] # lista"
      ]
    },
    {
      "cell_type": "code",
      "execution_count": null,
      "id": "3352e49b-06c6-4b80-9db7-bc7c7ea0b638",
      "metadata": {
        "editable": true,
        "tags": [],
        "id": "3352e49b-06c6-4b80-9db7-bc7c7ea0b638"
      },
      "outputs": [],
      "source": [
        "print(f'{numero1}  {numero2}  {numero3}')"
      ]
    },
    {
      "cell_type": "code",
      "execution_count": null,
      "id": "c5464e49-9337-4417-827d-ff65167cef47",
      "metadata": {
        "editable": true,
        "tags": [],
        "id": "c5464e49-9337-4417-827d-ff65167cef47"
      },
      "outputs": [],
      "source": [
        "numero1, numero2, numero3 = range(10, 40, 10) # range"
      ]
    },
    {
      "cell_type": "code",
      "execution_count": null,
      "id": "eb2c4d99-a115-4aa2-949d-6467cabc004e",
      "metadata": {
        "editable": true,
        "tags": [],
        "id": "eb2c4d99-a115-4aa2-949d-6467cabc004e"
      },
      "outputs": [],
      "source": [
        "print(f'{numero1}  {numero2}  {numero3}')"
      ]
    },
    {
      "cell_type": "markdown",
      "id": "95e61580-3390-4295-92aa-ca46f87780c1",
      "metadata": {
        "editable": false,
        "tags": [],
        "id": "95e61580-3390-4295-92aa-ca46f87780c1"
      },
      "source": [
        "## Troca de valores via empacotamento e desempacotamento de sequências\n",
        "Podemos usar os mecanismos de empacotamento e desempacotamento para trocar os valores de duas variáveis. Veja o exemplo a seguir."
      ]
    },
    {
      "cell_type": "code",
      "execution_count": null,
      "id": "a133f333-4c92-480d-9b92-ba8986197104",
      "metadata": {
        "editable": true,
        "tags": [],
        "id": "a133f333-4c92-480d-9b92-ba8986197104"
      },
      "outputs": [],
      "source": [
        "numero1 = 99"
      ]
    },
    {
      "cell_type": "code",
      "execution_count": null,
      "id": "7f84a5be-fb37-47cd-97bf-4258d2f9dbe7",
      "metadata": {
        "editable": true,
        "tags": [],
        "id": "7f84a5be-fb37-47cd-97bf-4258d2f9dbe7"
      },
      "outputs": [],
      "source": [
        "numero2 = 22"
      ]
    },
    {
      "cell_type": "code",
      "execution_count": null,
      "id": "3356662e-8652-4f64-a484-5411026a44cb",
      "metadata": {
        "editable": true,
        "tags": [],
        "id": "3356662e-8652-4f64-a484-5411026a44cb"
      },
      "outputs": [],
      "source": [
        "print(numero1)\n",
        "print(numero2)\n"
      ]
    },
    {
      "cell_type": "code",
      "execution_count": null,
      "id": "cc9c65b9-dc1b-45c9-800e-d70a88713231",
      "metadata": {
        "editable": true,
        "tags": [],
        "id": "cc9c65b9-dc1b-45c9-800e-d70a88713231"
      },
      "outputs": [],
      "source": [
        "numero1, numero2 = (numero2, numero1)"
      ]
    },
    {
      "cell_type": "code",
      "execution_count": null,
      "id": "23d3563c-9e19-4381-8d37-ebaaea0b9eb7",
      "metadata": {
        "editable": true,
        "tags": [],
        "id": "23d3563c-9e19-4381-8d37-ebaaea0b9eb7"
      },
      "outputs": [],
      "source": [
        "print(numero1)\n",
        "print(numero2)"
      ]
    },
    {
      "cell_type": "markdown",
      "id": "ea675d36-b459-4b1d-ab42-1658265204bb",
      "metadata": {
        "editable": false,
        "tags": [],
        "id": "ea675d36-b459-4b1d-ab42-1658265204bb"
      },
      "source": [
        "## Acessando índices e valores com segurança usando a função integrada `enumerate`\n",
        "Anteriormente, usamos `range()` e `len()` para produzir os índices necessários para acessar os elementos de uma sequência em um loop `for`. Esse método é propenso a erros porque podemos passar para `range()` um argumento que leve à geração de índices fora do intervalo da sequência sendo percorrida. Se qualquer valor produzido por range for um índice fora dos limites, usá-lo como índice causará um `IndexError`.\n",
        "\n",
        "A função integrada `enumerate()` oferece um forma melhor de acessar os índices e o valores contidos em uma sequência. Esta função recebe uma sequência iterável e cria um iterador que, para cada elemento, retorna uma tupla contendo o índice e o valor do elemento. O código a seguir usa a função integrada `list()` para criar uma lista contendo os resultados de enumerate:"
      ]
    },
    {
      "cell_type": "code",
      "execution_count": null,
      "id": "0ded4ae5-4982-4614-8773-77d27a96dca0",
      "metadata": {
        "editable": true,
        "tags": [],
        "id": "0ded4ae5-4982-4614-8773-77d27a96dca0"
      },
      "outputs": [],
      "source": [
        "colors = ['red', 'orange', 'yellow']"
      ]
    },
    {
      "cell_type": "code",
      "execution_count": null,
      "id": "c7b2d3c3-28ae-40f3-a5e9-3cc644e0c93f",
      "metadata": {
        "editable": true,
        "tags": [],
        "id": "c7b2d3c3-28ae-40f3-a5e9-3cc644e0c93f"
      },
      "outputs": [],
      "source": [
        "list(enumerate(colors))"
      ]
    },
    {
      "cell_type": "code",
      "execution_count": null,
      "id": "82062888-4924-43a1-9b0f-b1a4d57a605d",
      "metadata": {
        "editable": true,
        "tags": [],
        "id": "82062888-4924-43a1-9b0f-b1a4d57a605d"
      },
      "outputs": [],
      "source": [
        "tuple(enumerate(colors))"
      ]
    },
    {
      "cell_type": "markdown",
      "id": "ea90c395-5150-44fa-8fdc-8f0af25d9024",
      "metadata": {
        "editable": false,
        "tags": [],
        "id": "ea90c395-5150-44fa-8fdc-8f0af25d9024"
      },
      "source": [
        "O laço for a seguir desempacota cada tupla retornada por enumerate nas variáveis\n",
        "índice e valor:"
      ]
    },
    {
      "cell_type": "code",
      "execution_count": null,
      "id": "02e5c02b-7c83-436e-abbf-44e7e380fd5a",
      "metadata": {
        "editable": true,
        "tags": [],
        "id": "02e5c02b-7c83-436e-abbf-44e7e380fd5a"
      },
      "outputs": [],
      "source": [
        "for i, valor in enumerate(colors):\n",
        "    print(f'{i}: {valor}')"
      ]
    },
    {
      "cell_type": "markdown",
      "id": "11675397-312f-4280-bedf-b43b9364a849",
      "metadata": {
        "tags": [],
        "id": "11675397-312f-4280-bedf-b43b9364a849"
      },
      "source": [
        "O exemplo a seguir cria um gráfico de barras primitivo."
      ]
    },
    {
      "cell_type": "code",
      "execution_count": null,
      "id": "8a7f1a58-adf3-48cb-8799-fdaf96b0330b",
      "metadata": {
        "editable": false,
        "tags": [],
        "id": "8a7f1a58-adf3-48cb-8799-fdaf96b0330b"
      },
      "outputs": [],
      "source": [
        "# Mostrando um Gráfico de Barras\n",
        "numbers = [19, 3, 15, 7, 11]\n",
        "\n",
        "print(f'Indice    Valor Barra')\n",
        "\n",
        "for index, value in enumerate(numbers):\n",
        "    print(f'{index:>6}{value:>6} {(\"*\" * value)}')"
      ]
    },
    {
      "cell_type": "markdown",
      "id": "0ae4f5b0-5df2-4e4b-842d-19241d3c8569",
      "metadata": {
        "editable": true,
        "tags": [],
        "id": "0ae4f5b0-5df2-4e4b-842d-19241d3c8569"
      },
      "source": [
        "**_Exercício:_** Crie a lista `nomes` contendo três strings. Use um laço `for` e a função `enumerate` para iterar pelos elementos e mostrar os índices e os valores dos elementos."
      ]
    },
    {
      "cell_type": "markdown",
      "id": "29bcaf72-281b-4e52-abef-96274fdaa724",
      "metadata": {
        "editable": true,
        "tags": [],
        "id": "29bcaf72-281b-4e52-abef-96274fdaa724"
      },
      "source": [
        "# 4.5 Fatiamento (*slicing*) de sequência\n",
        "Podemos \"fatiar\" uma sequência para criar novas sequências contendo subconjuntos de elementos da sequência original. Inclusive, as operações de fatiamento podem ser usadas para modificar sequências mutáveis. Operações que não modificam uma sequência funcionam de forma idêntica para listas, tuplas e strings."
      ]
    },
    {
      "cell_type": "markdown",
      "id": "e5606b7d-a8c3-43b0-98f5-864be2e344ea",
      "metadata": {
        "editable": false,
        "tags": [],
        "id": "e5606b7d-a8c3-43b0-98f5-864be2e344ea"
      },
      "source": [
        "## Especificando um slice com índice inicial e final\n",
        "As operações de fatiamento criam novos objetos fazendo cópias. Assim, nos exemplos abaixo, os elementos dos slices referem-se aos mesmos objetos da lista original. O slice vai incluir os elementos desde o índice inicial até o indice final menos 1."
      ]
    },
    {
      "cell_type": "code",
      "execution_count": null,
      "id": "0405ef46-8bd7-4d7f-b7d4-0ac115f911c1",
      "metadata": {
        "editable": true,
        "tags": [],
        "id": "0405ef46-8bd7-4d7f-b7d4-0ac115f911c1"
      },
      "outputs": [],
      "source": [
        "numeros = [2, 3, 5, 7, 11, 13, 17, 19]"
      ]
    },
    {
      "cell_type": "code",
      "execution_count": null,
      "id": "ccd412c7-6ca8-4a35-9709-fcc3d0eeaa14",
      "metadata": {
        "editable": true,
        "tags": [],
        "id": "ccd412c7-6ca8-4a35-9709-fcc3d0eeaa14"
      },
      "outputs": [],
      "source": [
        "slice1 = numeros[2:6] # slice"
      ]
    },
    {
      "cell_type": "code",
      "execution_count": null,
      "id": "3e8ae0b1-78f6-440b-9428-044a276963b7",
      "metadata": {
        "editable": true,
        "tags": [],
        "id": "3e8ae0b1-78f6-440b-9428-044a276963b7"
      },
      "outputs": [],
      "source": [
        "slice1"
      ]
    },
    {
      "cell_type": "code",
      "execution_count": null,
      "id": "f3f0d036-7d6f-4012-9550-b52aaccb3ab4",
      "metadata": {
        "editable": true,
        "tags": [],
        "id": "f3f0d036-7d6f-4012-9550-b52aaccb3ab4"
      },
      "outputs": [],
      "source": [
        "slice1[1] = 50"
      ]
    },
    {
      "cell_type": "code",
      "execution_count": null,
      "id": "bc14b93d-5d2c-4791-a008-810cf05ed5d2",
      "metadata": {
        "editable": true,
        "tags": [],
        "id": "bc14b93d-5d2c-4791-a008-810cf05ed5d2"
      },
      "outputs": [],
      "source": [
        "slice1"
      ]
    },
    {
      "cell_type": "code",
      "execution_count": null,
      "id": "118f4fef-d1cd-42c0-9356-2b05c21b7c9b",
      "metadata": {
        "editable": true,
        "tags": [],
        "id": "118f4fef-d1cd-42c0-9356-2b05c21b7c9b"
      },
      "outputs": [],
      "source": [
        "numeros"
      ]
    },
    {
      "cell_type": "markdown",
      "id": "d32a64c8-143e-4b3c-a56a-fe688e122f0f",
      "metadata": {
        "editable": false,
        "tags": [],
        "id": "d32a64c8-143e-4b3c-a56a-fe688e122f0f"
      },
      "source": [
        "## Especificando apenas o índice final\n",
        "Se você omitir o índice inicial, 0 será assumido. Portanto, o slice numeros[:6] é equivalente ao slice numeros[0:6]:"
      ]
    },
    {
      "cell_type": "code",
      "execution_count": null,
      "id": "810bcee4-1d2f-4c4a-9039-a5a01114a08f",
      "metadata": {
        "editable": true,
        "tags": [],
        "id": "810bcee4-1d2f-4c4a-9039-a5a01114a08f"
      },
      "outputs": [],
      "source": [
        "numeros"
      ]
    },
    {
      "cell_type": "code",
      "execution_count": null,
      "id": "bdc84e2a-2336-4639-9706-c2cc2e1e77ab",
      "metadata": {
        "editable": true,
        "tags": [],
        "id": "bdc84e2a-2336-4639-9706-c2cc2e1e77ab"
      },
      "outputs": [],
      "source": [
        "numeros[:6]"
      ]
    },
    {
      "cell_type": "code",
      "execution_count": null,
      "id": "e057b98e-7660-4761-bc73-ead983f42087",
      "metadata": {
        "editable": true,
        "tags": [],
        "id": "e057b98e-7660-4761-bc73-ead983f42087"
      },
      "outputs": [],
      "source": [
        "numeros[0:6]"
      ]
    },
    {
      "cell_type": "markdown",
      "id": "5721e8ad-07b2-4f00-8cc8-25dd65960394",
      "metadata": {
        "editable": true,
        "tags": [],
        "id": "5721e8ad-07b2-4f00-8cc8-25dd65960394"
      },
      "source": [
        "## Especificando apenas com um índice inicial\n",
        "Se você omitir o índice final, Python assume o comprimento da sequência."
      ]
    },
    {
      "cell_type": "code",
      "execution_count": null,
      "id": "bf3350b0-95cc-48d8-a56a-65927f4d75c2",
      "metadata": {
        "editable": true,
        "tags": [],
        "id": "bf3350b0-95cc-48d8-a56a-65927f4d75c2"
      },
      "outputs": [],
      "source": [
        "numeros"
      ]
    },
    {
      "cell_type": "code",
      "execution_count": null,
      "id": "386ca506-d7da-47c8-9251-f316fca59acd",
      "metadata": {
        "editable": true,
        "tags": [],
        "id": "386ca506-d7da-47c8-9251-f316fca59acd"
      },
      "outputs": [],
      "source": [
        "numeros[6:]"
      ]
    },
    {
      "cell_type": "code",
      "execution_count": null,
      "id": "f7cd24ce-1280-4a52-8ce2-4628cbd9b11f",
      "metadata": {
        "editable": true,
        "tags": [],
        "id": "f7cd24ce-1280-4a52-8ce2-4628cbd9b11f"
      },
      "outputs": [],
      "source": [
        "numeros[6:len(numeros)]"
      ]
    },
    {
      "cell_type": "markdown",
      "id": "6b451717-6685-4657-be6e-3593b4208bad",
      "metadata": {
        "tags": [],
        "id": "6b451717-6685-4657-be6e-3593b4208bad"
      },
      "source": [
        "### Especificação sem índices\n",
        "Omitir os índices inicial e final resulta na cópia de toda a sequência:"
      ]
    },
    {
      "cell_type": "code",
      "execution_count": null,
      "id": "5a61a255-7a45-4fdc-b788-9a179ead3421",
      "metadata": {
        "id": "5a61a255-7a45-4fdc-b788-9a179ead3421"
      },
      "outputs": [],
      "source": [
        "numeros"
      ]
    },
    {
      "cell_type": "code",
      "execution_count": null,
      "id": "7fc868f2-910a-41a6-bc6f-f39ca27763c7",
      "metadata": {
        "id": "7fc868f2-910a-41a6-bc6f-f39ca27763c7"
      },
      "outputs": [],
      "source": [
        "id(numeros)"
      ]
    },
    {
      "cell_type": "code",
      "execution_count": null,
      "id": "4917d884-92e0-4b9f-9fa0-98ad15c057c5",
      "metadata": {
        "editable": true,
        "tags": [],
        "id": "4917d884-92e0-4b9f-9fa0-98ad15c057c5"
      },
      "outputs": [],
      "source": [
        "copia = numeros"
      ]
    },
    {
      "cell_type": "code",
      "execution_count": null,
      "id": "389a9e61-6455-4af7-b9e0-d6db062b01fc",
      "metadata": {
        "id": "389a9e61-6455-4af7-b9e0-d6db062b01fc"
      },
      "outputs": [],
      "source": [
        "copia"
      ]
    },
    {
      "cell_type": "code",
      "execution_count": null,
      "id": "e6f46b25-402a-4f99-b185-4a1ff851d6a9",
      "metadata": {
        "id": "e6f46b25-402a-4f99-b185-4a1ff851d6a9"
      },
      "outputs": [],
      "source": [
        "id(copia)"
      ]
    },
    {
      "cell_type": "code",
      "execution_count": null,
      "id": "97c69287-37b0-451e-9a34-79daf97641fe",
      "metadata": {
        "id": "97c69287-37b0-451e-9a34-79daf97641fe"
      },
      "outputs": [],
      "source": [
        "copia2 = numeros[:]"
      ]
    },
    {
      "cell_type": "code",
      "execution_count": null,
      "id": "0015c1c0-a00d-471c-a8ad-c6bc6e5c0f7e",
      "metadata": {
        "id": "0015c1c0-a00d-471c-a8ad-c6bc6e5c0f7e"
      },
      "outputs": [],
      "source": [
        "numeros"
      ]
    },
    {
      "cell_type": "code",
      "execution_count": null,
      "id": "78c11889-b7e5-4912-a4d0-376f5483c4ae",
      "metadata": {
        "id": "78c11889-b7e5-4912-a4d0-376f5483c4ae"
      },
      "outputs": [],
      "source": [
        "copia2"
      ]
    },
    {
      "cell_type": "code",
      "execution_count": null,
      "id": "714de14f-2712-4dab-8381-87ab6e1c4d1d",
      "metadata": {
        "id": "714de14f-2712-4dab-8381-87ab6e1c4d1d"
      },
      "outputs": [],
      "source": [
        "id(copia2)"
      ]
    },
    {
      "cell_type": "markdown",
      "id": "c4696e34-cc92-4a6f-a1b8-e0da4d71103f",
      "metadata": {
        "editable": true,
        "tags": [],
        "id": "c4696e34-cc92-4a6f-a1b8-e0da4d71103f"
      },
      "source": [
        "## Fatiamento (slicing) com Saltos\n",
        "O código a seguir usa um step (salto) de 2 para criar um slice da sequência `números` amostrando de dois em dois:"
      ]
    },
    {
      "cell_type": "code",
      "execution_count": null,
      "id": "9416cd2f-a237-47ca-b4a8-199a5eaf808d",
      "metadata": {
        "editable": true,
        "tags": [],
        "id": "9416cd2f-a237-47ca-b4a8-199a5eaf808d"
      },
      "outputs": [],
      "source": [
        "numeros"
      ]
    },
    {
      "cell_type": "code",
      "execution_count": null,
      "id": "404b5c0e-47d9-42b2-a16e-6d9daed8a5fb",
      "metadata": {
        "editable": true,
        "tags": [],
        "id": "404b5c0e-47d9-42b2-a16e-6d9daed8a5fb"
      },
      "outputs": [],
      "source": [
        "numeros[::2]"
      ]
    },
    {
      "cell_type": "code",
      "execution_count": null,
      "id": "863cdfb9-0773-4ea2-82cb-3cde8af24e2f",
      "metadata": {
        "editable": true,
        "tags": [],
        "id": "863cdfb9-0773-4ea2-82cb-3cde8af24e2f"
      },
      "outputs": [],
      "source": [
        "numeros[::3]"
      ]
    },
    {
      "cell_type": "markdown",
      "id": "827e4f05-d0b2-4a02-91b3-c5dfa8c7c4a8",
      "metadata": {
        "tags": [],
        "id": "827e4f05-d0b2-4a02-91b3-c5dfa8c7c4a8"
      },
      "source": [
        "## Fatiamento (slicing) com índices e steps negativos\n",
        "Um step negativo cria um slice com elementos na ordem inversa da sequência original. O código a seguir cria concisamente uma nova lista na ordem inversa:"
      ]
    },
    {
      "cell_type": "code",
      "execution_count": null,
      "id": "fa82844d-af05-45f4-8fc7-53c80c9146d3",
      "metadata": {
        "editable": true,
        "tags": [],
        "id": "fa82844d-af05-45f4-8fc7-53c80c9146d3"
      },
      "outputs": [],
      "source": [
        "numeros"
      ]
    },
    {
      "cell_type": "code",
      "execution_count": null,
      "id": "87c50984-4918-475d-830a-515cae525ca5",
      "metadata": {
        "editable": true,
        "tags": [],
        "id": "87c50984-4918-475d-830a-515cae525ca5"
      },
      "outputs": [],
      "source": [
        "numeros[::-1]"
      ]
    },
    {
      "cell_type": "code",
      "execution_count": null,
      "id": "99d5783c-da3c-4764-9db8-e23964cabb98",
      "metadata": {
        "editable": true,
        "scrolled": true,
        "tags": [],
        "id": "99d5783c-da3c-4764-9db8-e23964cabb98"
      },
      "outputs": [],
      "source": [
        "numeros[-1:-8:-2]"
      ]
    },
    {
      "cell_type": "code",
      "execution_count": null,
      "id": "5f0ef443-9e4a-4be1-b37a-f317a48d26d3",
      "metadata": {
        "editable": true,
        "tags": [],
        "id": "5f0ef443-9e4a-4be1-b37a-f317a48d26d3"
      },
      "outputs": [],
      "source": [
        "numeros[::-2]"
      ]
    },
    {
      "cell_type": "markdown",
      "id": "78074df5-ad16-420b-bf50-074986a4ba85",
      "metadata": {
        "editable": false,
        "tags": [],
        "id": "78074df5-ad16-420b-bf50-074986a4ba85"
      },
      "source": [
        "## Modificando Listas Via Slices\n",
        "Podemos modificar uma lista atribuindo a ela uma parte dela – o restante da lista permanece inalterado. O código a seguir substitui os três primeiros elementos da lista `números`, deixando o restante inalterado:"
      ]
    },
    {
      "cell_type": "code",
      "execution_count": null,
      "id": "4d253bbc-dbd0-49ed-8270-a1744968f4f2",
      "metadata": {
        "editable": true,
        "tags": [],
        "id": "4d253bbc-dbd0-49ed-8270-a1744968f4f2"
      },
      "outputs": [],
      "source": [
        "numeros = [2, 3, 5, 7, 11, 13, 17, 19]"
      ]
    },
    {
      "cell_type": "code",
      "execution_count": null,
      "id": "98b0f7e7-3ed7-4843-a714-f4dd5f4b459b",
      "metadata": {
        "editable": true,
        "tags": [],
        "id": "98b0f7e7-3ed7-4843-a714-f4dd5f4b459b"
      },
      "outputs": [],
      "source": [
        "numeros"
      ]
    },
    {
      "cell_type": "code",
      "execution_count": null,
      "id": "a86794fd-d1a8-491e-ad11-68349313d55d",
      "metadata": {
        "editable": true,
        "tags": [],
        "id": "a86794fd-d1a8-491e-ad11-68349313d55d"
      },
      "outputs": [],
      "source": [
        "id(numeros)"
      ]
    },
    {
      "cell_type": "code",
      "execution_count": null,
      "id": "8dbfb41d-d90d-4305-b811-75a714bbed8d",
      "metadata": {
        "editable": true,
        "tags": [],
        "id": "8dbfb41d-d90d-4305-b811-75a714bbed8d"
      },
      "outputs": [],
      "source": [
        "numeros[0:3] = ['two', 'three', 'five']"
      ]
    },
    {
      "cell_type": "code",
      "execution_count": null,
      "id": "f5d206ef-9eea-49eb-8948-4c46eef23519",
      "metadata": {
        "editable": true,
        "tags": [],
        "id": "f5d206ef-9eea-49eb-8948-4c46eef23519"
      },
      "outputs": [],
      "source": [
        "numeros"
      ]
    },
    {
      "cell_type": "code",
      "execution_count": null,
      "id": "606dbbb4-7881-4807-b23e-a3226b025dc0",
      "metadata": {
        "editable": true,
        "tags": [],
        "id": "606dbbb4-7881-4807-b23e-a3226b025dc0"
      },
      "outputs": [],
      "source": [
        "id(numeros)"
      ]
    },
    {
      "cell_type": "markdown",
      "id": "2fc4541b-c77b-466f-9d64-fedf52fd9fb5",
      "metadata": {
        "tags": [],
        "id": "2fc4541b-c77b-466f-9d64-fedf52fd9fb5"
      },
      "source": [
        "A seguir, excluímos apenas os três primeiros elementos da lista `numeros`, atribuindo uma lista vazia ao slice de três elementos:"
      ]
    },
    {
      "cell_type": "code",
      "execution_count": null,
      "id": "a30f36e3-06dc-424f-bb22-1c7ba2501e2a",
      "metadata": {
        "editable": true,
        "tags": [],
        "id": "a30f36e3-06dc-424f-bb22-1c7ba2501e2a"
      },
      "outputs": [],
      "source": [
        "numeros[0:3] = []"
      ]
    },
    {
      "cell_type": "code",
      "execution_count": null,
      "id": "68b8647c-6de0-4d54-8670-7c18dad61928",
      "metadata": {
        "editable": true,
        "tags": [],
        "id": "68b8647c-6de0-4d54-8670-7c18dad61928"
      },
      "outputs": [],
      "source": [
        "numeros"
      ]
    },
    {
      "cell_type": "code",
      "execution_count": null,
      "id": "e7efe3a4-ebab-4bfb-aad3-fc95db7820d4",
      "metadata": {
        "editable": true,
        "tags": [],
        "id": "e7efe3a4-ebab-4bfb-aad3-fc95db7820d4"
      },
      "outputs": [],
      "source": [
        "id(numeros)"
      ]
    },
    {
      "cell_type": "markdown",
      "id": "b9b13c8b-42af-4689-ba90-c9128cfe5090",
      "metadata": {
        "editable": true,
        "tags": [],
        "id": "b9b13c8b-42af-4689-ba90-c9128cfe5090"
      },
      "source": [
        "Abaixo recriamos a lista, portanto `numeros` passa a apontar para um novo objeto."
      ]
    },
    {
      "cell_type": "code",
      "execution_count": null,
      "id": "aed86988-ff1e-4045-aa69-cc88ca2bd8bf",
      "metadata": {
        "editable": true,
        "tags": [],
        "id": "aed86988-ff1e-4045-aa69-cc88ca2bd8bf"
      },
      "outputs": [],
      "source": [
        "numeros = [2, 3, 5, 7, 11, 13, 17, 19]"
      ]
    },
    {
      "cell_type": "code",
      "execution_count": null,
      "id": "e83c0a15-40bd-4ff3-8193-afd7c2589c15",
      "metadata": {
        "editable": true,
        "tags": [],
        "id": "e83c0a15-40bd-4ff3-8193-afd7c2589c15"
      },
      "outputs": [],
      "source": [
        "numeros[::2] = [100, 100, 100, 100]"
      ]
    },
    {
      "cell_type": "code",
      "execution_count": null,
      "id": "82aa0671-707b-45a8-a6fb-b7e3959a4b1b",
      "metadata": {
        "editable": true,
        "tags": [],
        "id": "82aa0671-707b-45a8-a6fb-b7e3959a4b1b"
      },
      "outputs": [],
      "source": [
        "numeros"
      ]
    },
    {
      "cell_type": "code",
      "execution_count": null,
      "id": "1908c652-9d42-4c93-9f12-1fc28130c654",
      "metadata": {
        "editable": true,
        "tags": [],
        "id": "1908c652-9d42-4c93-9f12-1fc28130c654"
      },
      "outputs": [],
      "source": [
        "id(numeros)"
      ]
    },
    {
      "cell_type": "markdown",
      "id": "837fef34-ba2a-4d7e-85b0-6741c73808e4",
      "metadata": {
        "editable": false,
        "tags": [],
        "id": "837fef34-ba2a-4d7e-85b0-6741c73808e4"
      },
      "source": [
        "Excluir o conteúdo de uma lista é diferente de atribuir uma lista vazia `[ ]`. Para provar isso, exibimos a identidade dos números após cada operação. As identidades serão diferentes, portanto representam objetos separados na memória:"
      ]
    },
    {
      "cell_type": "code",
      "execution_count": null,
      "id": "f00e300b-e1d5-496f-b147-193f106eb8fd",
      "metadata": {
        "editable": true,
        "tags": [],
        "id": "f00e300b-e1d5-496f-b147-193f106eb8fd"
      },
      "outputs": [],
      "source": [
        "numeros[:] = []"
      ]
    },
    {
      "cell_type": "code",
      "execution_count": null,
      "id": "76488a3b-527a-4395-8f3c-4136b65ca209",
      "metadata": {
        "editable": true,
        "tags": [],
        "id": "76488a3b-527a-4395-8f3c-4136b65ca209"
      },
      "outputs": [],
      "source": [
        "numeros"
      ]
    },
    {
      "cell_type": "code",
      "execution_count": null,
      "id": "8e9e47ff-8479-4edb-8841-7ea6d7590935",
      "metadata": {
        "editable": true,
        "tags": [],
        "id": "8e9e47ff-8479-4edb-8841-7ea6d7590935"
      },
      "outputs": [],
      "source": [
        "id(numeros)"
      ]
    },
    {
      "cell_type": "code",
      "execution_count": null,
      "id": "f5139524-2320-4a0c-837a-55e5560d4f6c",
      "metadata": {
        "editable": true,
        "tags": [],
        "id": "f5139524-2320-4a0c-837a-55e5560d4f6c"
      },
      "outputs": [],
      "source": [
        "numeros = []"
      ]
    },
    {
      "cell_type": "code",
      "execution_count": null,
      "id": "859445e2-d4ef-489c-a758-6a94027d1966",
      "metadata": {
        "editable": true,
        "tags": [],
        "id": "859445e2-d4ef-489c-a758-6a94027d1966"
      },
      "outputs": [],
      "source": [
        "numeros"
      ]
    },
    {
      "cell_type": "code",
      "execution_count": null,
      "id": "9475a349-77a2-4d05-91b6-58d27e823320",
      "metadata": {
        "editable": true,
        "tags": [],
        "id": "9475a349-77a2-4d05-91b6-58d27e823320"
      },
      "outputs": [],
      "source": [
        "id(numeros)"
      ]
    },
    {
      "cell_type": "markdown",
      "id": "356959b9-4d11-4060-9973-13bf733e58b9",
      "metadata": {
        "editable": true,
        "tags": [],
        "id": "356959b9-4d11-4060-9973-13bf733e58b9"
      },
      "source": [
        "### **_Exercício:_** Crie uma lista chamada `numbers` contendo os valores de `1` a `15` e use slices para realizar as seguintes operações:\n",
        "\n",
        "a. Selecione os números inteiros nos índices pares da lista.\n",
        "\n",
        "b. Substitua os elementos nos índices `5` a `9` por `0`s e mostre a lista resultante.\n",
        "\n",
        "c. Mantenha apenas os primeiros cinco elementos (elimine os demais) e mostre a lista resultante.\n",
        "\n",
        "d. Exclua todos os elementos restantes atribuindo um slice. Mostre a lista resultante."
      ]
    },
    {
      "cell_type": "markdown",
      "id": "f34182f5-dd5f-44d8-8c5f-359dcf5247ca",
      "metadata": {
        "editable": true,
        "tags": [],
        "id": "f34182f5-dd5f-44d8-8c5f-359dcf5247ca"
      },
      "source": [
        "# 4.6 Comando `del`\n",
        "A instrução `del` pode ser usada para remover elementos de uma lista. Podemos remover o elemento com qualquer índice válido ou o(s) elemento(s) de qualquer slice válido."
      ]
    },
    {
      "cell_type": "markdown",
      "id": "56237697-477a-4364-bb45-f55347a9e23f",
      "metadata": {
        "editable": true,
        "tags": [],
        "id": "56237697-477a-4364-bb45-f55347a9e23f"
      },
      "source": [
        "## Excluindo o elemento com um índice específico de uma lista"
      ]
    },
    {
      "cell_type": "code",
      "execution_count": null,
      "id": "5882c2f1-7b89-46bb-b091-eca06259149e",
      "metadata": {
        "editable": true,
        "tags": [],
        "id": "5882c2f1-7b89-46bb-b091-eca06259149e"
      },
      "outputs": [],
      "source": [
        "numbers = list(range(0, 10))"
      ]
    },
    {
      "cell_type": "code",
      "execution_count": null,
      "id": "3a855797-73a4-479a-b327-d49cfbd38ad6",
      "metadata": {
        "editable": true,
        "tags": [],
        "id": "3a855797-73a4-479a-b327-d49cfbd38ad6"
      },
      "outputs": [],
      "source": [
        "numbers"
      ]
    },
    {
      "cell_type": "code",
      "execution_count": null,
      "id": "1de3926c-8fc0-416b-9dde-632fea4b76e1",
      "metadata": {
        "editable": true,
        "tags": [],
        "id": "1de3926c-8fc0-416b-9dde-632fea4b76e1"
      },
      "outputs": [],
      "source": [
        "del numbers[5]"
      ]
    },
    {
      "cell_type": "code",
      "execution_count": null,
      "id": "48e18a53-5504-441e-b281-bd1ec5a0221f",
      "metadata": {
        "editable": true,
        "tags": [],
        "id": "48e18a53-5504-441e-b281-bd1ec5a0221f"
      },
      "outputs": [],
      "source": [
        "numbers"
      ]
    },
    {
      "cell_type": "markdown",
      "id": "6d7094d3-0fb7-4e04-801e-a04e17240291",
      "metadata": {
        "editable": true,
        "tags": [],
        "id": "6d7094d3-0fb7-4e04-801e-a04e17240291"
      },
      "source": [
        "## Excluindo um slice de uma lista"
      ]
    },
    {
      "cell_type": "code",
      "execution_count": null,
      "id": "60140371-e88b-409a-a1ed-0def303024cb",
      "metadata": {
        "id": "60140371-e88b-409a-a1ed-0def303024cb"
      },
      "outputs": [],
      "source": [
        "numbers"
      ]
    },
    {
      "cell_type": "code",
      "execution_count": null,
      "id": "6c22e1cd-469a-4d44-a442-b5bbd66d3d25",
      "metadata": {
        "editable": true,
        "tags": [],
        "id": "6c22e1cd-469a-4d44-a442-b5bbd66d3d25"
      },
      "outputs": [],
      "source": [
        "del numbers[0:2]"
      ]
    },
    {
      "cell_type": "code",
      "execution_count": null,
      "id": "6df0ad64-5d05-4291-8058-1a26e08024d0",
      "metadata": {
        "editable": true,
        "tags": [],
        "id": "6df0ad64-5d05-4291-8058-1a26e08024d0"
      },
      "outputs": [],
      "source": [
        "numbers"
      ]
    },
    {
      "cell_type": "code",
      "execution_count": null,
      "id": "42ec41c9-275c-45fc-a5a3-5446e6b8a7eb",
      "metadata": {
        "editable": true,
        "tags": [],
        "id": "42ec41c9-275c-45fc-a5a3-5446e6b8a7eb"
      },
      "outputs": [],
      "source": [
        "del numbers[::2]"
      ]
    },
    {
      "cell_type": "code",
      "execution_count": null,
      "id": "b1e9392b-7151-4d1b-b26b-94e9426dd6f4",
      "metadata": {
        "editable": true,
        "tags": [],
        "id": "b1e9392b-7151-4d1b-b26b-94e9426dd6f4"
      },
      "outputs": [],
      "source": [
        "numbers"
      ]
    },
    {
      "cell_type": "markdown",
      "id": "d4cdd21e-2780-439b-bd97-2f015ae19e80",
      "metadata": {
        "editable": true,
        "tags": [],
        "id": "d4cdd21e-2780-439b-bd97-2f015ae19e80"
      },
      "source": [
        "## Excluindo um slice que representa a lista inteira"
      ]
    },
    {
      "cell_type": "code",
      "execution_count": null,
      "id": "faf7e769-aaff-47db-b4bd-4a292398f0c6",
      "metadata": {
        "editable": true,
        "tags": [],
        "id": "faf7e769-aaff-47db-b4bd-4a292398f0c6"
      },
      "outputs": [],
      "source": [
        "del numbers[:]"
      ]
    },
    {
      "cell_type": "code",
      "execution_count": null,
      "id": "b1dbf62b-d06f-43d8-a99c-49c3c77c712e",
      "metadata": {
        "editable": true,
        "tags": [],
        "id": "b1dbf62b-d06f-43d8-a99c-49c3c77c712e"
      },
      "outputs": [],
      "source": [
        "numbers"
      ]
    },
    {
      "cell_type": "markdown",
      "id": "716e8df7-e36a-4cb6-9144-27e71c6c080b",
      "metadata": {
        "editable": true,
        "tags": [],
        "id": "716e8df7-e36a-4cb6-9144-27e71c6c080b"
      },
      "source": [
        "## Excluindo uma variável da sessão interativa atual"
      ]
    },
    {
      "cell_type": "code",
      "execution_count": null,
      "id": "23fd1f6d-1a24-48c1-9fcf-c0064c48f080",
      "metadata": {
        "editable": true,
        "tags": [],
        "id": "23fd1f6d-1a24-48c1-9fcf-c0064c48f080"
      },
      "outputs": [],
      "source": [
        "del numbers"
      ]
    },
    {
      "cell_type": "code",
      "execution_count": null,
      "id": "ff1b951e-ed30-4529-9317-b80dacf8746d",
      "metadata": {
        "editable": true,
        "tags": [],
        "id": "ff1b951e-ed30-4529-9317-b80dacf8746d"
      },
      "outputs": [],
      "source": [
        "numbers"
      ]
    },
    {
      "cell_type": "markdown",
      "id": "049bbadd-a279-4e62-9a41-26b652573bc6",
      "metadata": {
        "editable": true,
        "tags": [],
        "id": "049bbadd-a279-4e62-9a41-26b652573bc6"
      },
      "source": [
        "# 4.7 Passando sequências para funções\n",
        "Em aulas anteriores, discutimos passagens de objetos para funções, inclusive tuplas e listas.  Mencionamos que todos os objetos são passados or referência e demonstramos a passagem de um objeto imutável como argumento de função. Aqui, discutiremos mais detalhadamente as referências examinando o que acontece quando um programa passa diferentes sequências para uma função."
      ]
    },
    {
      "cell_type": "markdown",
      "id": "3475721b-c093-4c72-a288-c72ec4e7421c",
      "metadata": {
        "editable": true,
        "tags": [],
        "id": "3475721b-c093-4c72-a288-c72ec4e7421c"
      },
      "source": [
        "## Passando uma lista inteira para uma função\n",
        "Considere a função `modificca_elementos()`, que recebe uma referência a uma lista e multiplica cada um dos valores dos elementos da lista por 2. Lembre-se, as listas são mutáveis."
      ]
    },
    {
      "cell_type": "code",
      "execution_count": null,
      "id": "3fcbf59f-2a9f-4ab2-8604-d37086ec5176",
      "metadata": {
        "editable": true,
        "tags": [],
        "id": "3fcbf59f-2a9f-4ab2-8604-d37086ec5176"
      },
      "outputs": [],
      "source": [
        "def modifica_elementos(items):\n",
        "    \"\"\"\"Multiplica o valor de todos os elementos por 2.\"\"\"\n",
        "    for i in range(len(items)):\n",
        "        items[i] *= 2"
      ]
    },
    {
      "cell_type": "code",
      "execution_count": null,
      "id": "1cc502b8-824c-4edc-867e-c4c09f209302",
      "metadata": {
        "editable": true,
        "tags": [],
        "id": "1cc502b8-824c-4edc-867e-c4c09f209302"
      },
      "outputs": [],
      "source": [
        "numeros = [10, 3, 7, 1, 9]"
      ]
    },
    {
      "cell_type": "code",
      "execution_count": null,
      "id": "d06dc203-06e0-40de-974b-4169fb735eb6",
      "metadata": {
        "editable": true,
        "tags": [],
        "id": "d06dc203-06e0-40de-974b-4169fb735eb6"
      },
      "outputs": [],
      "source": [
        "modifica_elementos(numeros)"
      ]
    },
    {
      "cell_type": "code",
      "execution_count": null,
      "id": "312dfd3a-5530-4b89-bed8-5e3ef4f60a3a",
      "metadata": {
        "editable": true,
        "tags": [],
        "id": "312dfd3a-5530-4b89-bed8-5e3ef4f60a3a"
      },
      "outputs": [],
      "source": [
        "numeros"
      ]
    },
    {
      "cell_type": "markdown",
      "id": "81390911-b368-46e2-97b9-21faf1cbab54",
      "metadata": {
        "tags": [],
        "id": "81390911-b368-46e2-97b9-21faf1cbab54"
      },
      "source": [
        "## Passando uma Tupla para uma Função\n",
        "Em Python, quando uma tupla é passada para uma função, se a função tentar modificar seus elementos ocorrerá um erro do tipo `TypeError`:"
      ]
    },
    {
      "cell_type": "code",
      "execution_count": null,
      "id": "63974127-1300-4422-88dd-df25f416b148",
      "metadata": {
        "editable": true,
        "tags": [],
        "id": "63974127-1300-4422-88dd-df25f416b148"
      },
      "outputs": [],
      "source": [
        "def modifica_elementos2(items):\n",
        "    \"\"\"\"Multiplica o valor de todos os elementos por 2.\"\"\"\n",
        "    resultado = ()\n",
        "    for i in range(len(items)):\n",
        "        valor = items[i] * 2\n",
        "        resultado += (valor,) # ineficiente, pois uma nova tupla é criada a cada iteração\n",
        "    return resultado"
      ]
    },
    {
      "cell_type": "code",
      "execution_count": null,
      "id": "fe737d9a-f5a0-4c58-93dc-33a7859557b6",
      "metadata": {
        "editable": true,
        "tags": [],
        "id": "fe737d9a-f5a0-4c58-93dc-33a7859557b6"
      },
      "outputs": [],
      "source": [
        "tupla_numeros = (10, 20, 30)"
      ]
    },
    {
      "cell_type": "code",
      "execution_count": null,
      "id": "54ed0bb1-4e7a-4d71-8f71-cd31bd0cbfca",
      "metadata": {
        "editable": true,
        "tags": [],
        "id": "54ed0bb1-4e7a-4d71-8f71-cd31bd0cbfca"
      },
      "outputs": [],
      "source": [
        "tupla_numeros"
      ]
    },
    {
      "cell_type": "code",
      "execution_count": null,
      "id": "46764af3-79c3-4f2b-96f2-dd3c981a59cb",
      "metadata": {
        "editable": true,
        "tags": [],
        "id": "46764af3-79c3-4f2b-96f2-dd3c981a59cb"
      },
      "outputs": [],
      "source": [
        "result = modifica_elementos2(tupla_numeros)"
      ]
    },
    {
      "cell_type": "code",
      "execution_count": null,
      "id": "e4c0a8e9-7766-4601-8161-ca758efee316",
      "metadata": {
        "editable": true,
        "tags": [],
        "id": "e4c0a8e9-7766-4601-8161-ca758efee316"
      },
      "outputs": [],
      "source": [
        "result"
      ]
    },
    {
      "cell_type": "markdown",
      "id": "bd681bf6-e7e9-4da1-960a-7bed8ad950aa",
      "metadata": {
        "editable": true,
        "tags": [],
        "id": "bd681bf6-e7e9-4da1-960a-7bed8ad950aa"
      },
      "source": [
        "Lembre-se de que as tuplas podem conter objetos mutáveis, como listas. Esses objetos ainda podem ser modificados quando uma tupla é passada para uma função."
      ]
    },
    {
      "cell_type": "markdown",
      "id": "74e0e670-ef8a-4654-a222-8da11cc1c236",
      "metadata": {
        "editable": true,
        "tags": [],
        "id": "74e0e670-ef8a-4654-a222-8da11cc1c236"
      },
      "source": [
        "# 4.8 Ordenando Listas\n",
        "Ordenar uma lista significa organizar os elementos em ordem crescente ou decrescente. A ordenação é um problema intrigante que tem atraído intensos esforços de pesquisa em ciência da computação. Este tópico é estudado de forma detalhada nos cursos de Estrutura de Dados e Análise e Complexidade de Algoritmos, mas aqui vamos fazer uma introdução ao assunto."
      ]
    },
    {
      "cell_type": "markdown",
      "id": "c57a0110-dc6b-49b5-9f00-c95b36215e4a",
      "metadata": {
        "editable": true,
        "tags": [],
        "id": "c57a0110-dc6b-49b5-9f00-c95b36215e4a"
      },
      "source": [
        "## O mais simples: algoritmo de ordenação Bublle Sort\n",
        "O Bubble Sort realiza múltiplas passagem por uma lista a fim de ordená-la. Ele compara pares de itens adjacentes e troca os pares que estão fora de ordem. Para entender o algoritmo, vamos analisar o caso da ordenação crescente.\n",
        "\n",
        "Na primeira passagem pela lista, o algoritmo compara os elementos adjacentes (vizinhos) a fim de colocar o maior elemento no final da lista. No começo da segunda passagem, o maior valor agora está ordenado (em seu lugar definitivo). Ainda existem $n-1$ itens para serem ordenados, o que significa que teremos $n-2$ pares de comparação.\n",
        "\n",
        "Em seguida, o processo é repetido a fim de colocar o segundo maior elemento na penúltima posição. Depois, o terceiro maior elemento é colocado na antipenúltima posição, e assim sucessivamente. Em essência, cada item se desloca como uma “bolha” para a posição à qual pertence, daí o nome do algoritmo. A imagem abaixo ilustra a primera iteração do algoritmo, a qual termina com o número 93 na última posição la lista."
      ]
    },
    {
      "cell_type": "markdown",
      "id": "b53355fa-c8ee-456c-8f8a-fafe8053f5b8",
      "metadata": {
        "editable": true,
        "tags": [],
        "id": "b53355fa-c8ee-456c-8f8a-fafe8053f5b8"
      },
      "source": [
        "![bubblepass.png](data:image/png;base64,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)"
      ]
    },
    {
      "cell_type": "markdown",
      "id": "70e4514c-5921-417e-a7c4-8742312ee5be",
      "metadata": {
        "editable": false,
        "tags": [],
        "id": "70e4514c-5921-417e-a7c4-8742312ee5be"
      },
      "source": [
        "Como cada passagem colocar o próximo maior valor encontrado no lugar correto, o número total de passagens necessárias será $n-1$. Depois de completar $n-1$ passagens, o menor item estará na posição correta e nenhum processamento adicional será necessário. A função abaixo implementa o algoritmos bubble sort:"
      ]
    },
    {
      "cell_type": "code",
      "execution_count": null,
      "id": "a1a01f8b-c0c7-4fac-818e-cc6b70a4c7d7",
      "metadata": {
        "editable": true,
        "tags": [],
        "id": "a1a01f8b-c0c7-4fac-818e-cc6b70a4c7d7"
      },
      "outputs": [],
      "source": [
        "def bubble_sort(lista):\n",
        "    for fim in range(len(lista)-1, 0, -1): # número de passadas\n",
        "        for i in range(fim):\n",
        "            if lista[i] > lista[i+1]: # compara elementos adjacentes\n",
        "                temp = lista[i]\n",
        "                lista[i] = lista[i+1]\n",
        "                lista[i+1] = temp"
      ]
    },
    {
      "cell_type": "code",
      "execution_count": null,
      "id": "a36764a3-3057-4221-8be2-483da3f32104",
      "metadata": {
        "editable": true,
        "tags": [],
        "id": "a36764a3-3057-4221-8be2-483da3f32104"
      },
      "outputs": [],
      "source": [
        "import random\n",
        "lista = []\n",
        "for i in range(100):\n",
        "    lista += [random.randint(0, 1000)]"
      ]
    },
    {
      "cell_type": "code",
      "execution_count": null,
      "id": "62040b98-db0f-48fe-9d02-2dee29a247b6",
      "metadata": {
        "id": "62040b98-db0f-48fe-9d02-2dee29a247b6"
      },
      "outputs": [],
      "source": [
        "print(lista)"
      ]
    },
    {
      "cell_type": "code",
      "execution_count": null,
      "id": "d6a8523b-7976-4e1e-aad7-0d1d427b8e82",
      "metadata": {
        "editable": true,
        "tags": [],
        "id": "d6a8523b-7976-4e1e-aad7-0d1d427b8e82"
      },
      "outputs": [],
      "source": [
        "bubble_sort(lista)"
      ]
    },
    {
      "cell_type": "code",
      "execution_count": null,
      "id": "006c6c16-31b6-4d6f-8a7a-a262106e06cb",
      "metadata": {
        "editable": true,
        "tags": [],
        "id": "006c6c16-31b6-4d6f-8a7a-a262106e06cb"
      },
      "outputs": [],
      "source": [
        "print(lista)"
      ]
    },
    {
      "cell_type": "markdown",
      "id": "c0d78bd1-b110-400e-bdd7-b9ff691fd12d",
      "metadata": {
        "editable": true,
        "tags": [],
        "id": "c0d78bd1-b110-400e-bdd7-b9ff691fd12d"
      },
      "source": [
        "## Ordenando uma lista em ordem crescente usando o método `sort()`\n",
        "Embora seja importante aprender ordenar, a classe 'list' oferece essa funcionalidade por meio do método `sort()`, o qual modifica o objeto chamador organizando seus elementos em ordem crescente:"
      ]
    },
    {
      "cell_type": "code",
      "execution_count": null,
      "id": "209d8f82-78b2-42b7-9e1e-4e496deab4e3",
      "metadata": {
        "editable": true,
        "tags": [],
        "id": "209d8f82-78b2-42b7-9e1e-4e496deab4e3"
      },
      "outputs": [],
      "source": [
        "lista.sort() # sort() é um método da classe list"
      ]
    },
    {
      "cell_type": "code",
      "execution_count": null,
      "id": "a4b6e2f3-c807-4200-94f4-65ba858d1d3d",
      "metadata": {
        "editable": true,
        "tags": [],
        "id": "a4b6e2f3-c807-4200-94f4-65ba858d1d3d"
      },
      "outputs": [],
      "source": [
        "print(lista)"
      ]
    },
    {
      "cell_type": "markdown",
      "id": "52209536-ed51-4f05-82e9-7eec47be2266",
      "metadata": {
        "editable": true,
        "tags": [],
        "id": "52209536-ed51-4f05-82e9-7eec47be2266"
      },
      "source": [
        "## Ordenando uma lista em ordem decrescente usando o método `sort()`\n",
        "Para ordenar uma lista em ordem decrescente, chame o método `sort()` da classe `list` com o argumento opcional `reverse` definido como True (False é o padrão, que proporciona a ordenação crescente):"
      ]
    },
    {
      "cell_type": "code",
      "execution_count": null,
      "id": "1483d4cb-d080-407f-82c4-71aa1f48f21f",
      "metadata": {
        "editable": true,
        "tags": [],
        "id": "1483d4cb-d080-407f-82c4-71aa1f48f21f"
      },
      "outputs": [],
      "source": [
        "lista.sort(reverse=True)"
      ]
    },
    {
      "cell_type": "code",
      "execution_count": null,
      "id": "5dcea5df-ded2-4c80-a580-f16afa9b6a59",
      "metadata": {
        "editable": true,
        "tags": [],
        "id": "5dcea5df-ded2-4c80-a580-f16afa9b6a59"
      },
      "outputs": [],
      "source": [
        "lista"
      ]
    },
    {
      "cell_type": "markdown",
      "id": "fd092d35-33ec-440f-8d48-c9d2e9429078",
      "metadata": {
        "tags": [],
        "id": "fd092d35-33ec-440f-8d48-c9d2e9429078"
      },
      "source": [
        "## Função Integrada (_Built-In Function_) `sorted`\n",
        "Para fins de ordenação há também a possibilidade de usar a função integrada `sorted()`. Essa função retorna uma nova sequência contendo os elemento da sequência passada como argumento ordenados. A sequência original não é modificada.\n",
        "\n",
        "O código a seguir demonstra o uso da função `sorted()` com uma lista, uma string e uma tupla:"
      ]
    },
    {
      "cell_type": "code",
      "execution_count": null,
      "id": "560a689e-7a2e-4488-91ae-9f7bf95e28c5",
      "metadata": {
        "editable": true,
        "tags": [],
        "id": "560a689e-7a2e-4488-91ae-9f7bf95e28c5"
      },
      "outputs": [],
      "source": [
        "numeros = [10, 3, 7, 1, 9, 4, 2, 8, 5, 6] #lista"
      ]
    },
    {
      "cell_type": "code",
      "execution_count": null,
      "id": "bc9dfd81-94aa-488e-bd2d-e201605f364c",
      "metadata": {
        "editable": true,
        "tags": [],
        "id": "bc9dfd81-94aa-488e-bd2d-e201605f364c"
      },
      "outputs": [],
      "source": [
        "numeros_crescente = sorted(numeros)"
      ]
    },
    {
      "cell_type": "code",
      "execution_count": null,
      "id": "359cc3cd-90de-4bc6-a6a6-feedb070bf8c",
      "metadata": {
        "editable": true,
        "tags": [],
        "id": "359cc3cd-90de-4bc6-a6a6-feedb070bf8c"
      },
      "outputs": [],
      "source": [
        "numeros_crescente"
      ]
    },
    {
      "cell_type": "code",
      "execution_count": null,
      "id": "3a745915-5576-4f40-b44c-7d4a2049cdbb",
      "metadata": {
        "editable": true,
        "tags": [],
        "id": "3a745915-5576-4f40-b44c-7d4a2049cdbb"
      },
      "outputs": [],
      "source": [
        "numeros # não foi alterado"
      ]
    },
    {
      "cell_type": "code",
      "execution_count": null,
      "id": "81208681-0809-468b-929e-d68008c0a393",
      "metadata": {
        "editable": true,
        "tags": [],
        "id": "81208681-0809-468b-929e-d68008c0a393"
      },
      "outputs": [],
      "source": [
        "letras = 'fadgchjebi'"
      ]
    },
    {
      "cell_type": "code",
      "execution_count": null,
      "id": "10f7f2b7-a97d-4ede-8940-c7676fd1a6d4",
      "metadata": {
        "editable": true,
        "tags": [],
        "id": "10f7f2b7-a97d-4ede-8940-c7676fd1a6d4"
      },
      "outputs": [],
      "source": [
        "letras_crescente = sorted(letras)"
      ]
    },
    {
      "cell_type": "code",
      "execution_count": null,
      "id": "92b13b80-aaf5-4980-b431-f934519d7089",
      "metadata": {
        "editable": true,
        "tags": [],
        "id": "92b13b80-aaf5-4980-b431-f934519d7089"
      },
      "outputs": [],
      "source": [
        "letras_crescente"
      ]
    },
    {
      "cell_type": "code",
      "execution_count": null,
      "id": "0bc77cca-df27-472f-b7d3-708a77752da6",
      "metadata": {
        "editable": true,
        "tags": [],
        "id": "0bc77cca-df27-472f-b7d3-708a77752da6"
      },
      "outputs": [],
      "source": [
        "letras"
      ]
    },
    {
      "cell_type": "code",
      "execution_count": null,
      "id": "111e03a6-0810-405f-925e-285423e1af19",
      "metadata": {
        "editable": true,
        "tags": [],
        "id": "111e03a6-0810-405f-925e-285423e1af19"
      },
      "outputs": [],
      "source": [
        "cores = ('red', 'orange', 'yellow', 'green', 'blue')"
      ]
    },
    {
      "cell_type": "code",
      "execution_count": null,
      "id": "a88f46da-c69d-4b31-9a55-7bfa3ea48752",
      "metadata": {
        "editable": true,
        "tags": [],
        "id": "a88f46da-c69d-4b31-9a55-7bfa3ea48752"
      },
      "outputs": [],
      "source": [
        "cores_crescente = sorted(cores)"
      ]
    },
    {
      "cell_type": "code",
      "execution_count": null,
      "id": "2d384963-2af5-4786-bf58-c4c6f9d9e8be",
      "metadata": {
        "editable": true,
        "tags": [],
        "id": "2d384963-2af5-4786-bf58-c4c6f9d9e8be"
      },
      "outputs": [],
      "source": [
        "cores_crescente"
      ]
    },
    {
      "cell_type": "code",
      "execution_count": null,
      "id": "937a4c75-5249-4e3c-885b-2178104be706",
      "metadata": {
        "editable": true,
        "tags": [],
        "id": "937a4c75-5249-4e3c-885b-2178104be706"
      },
      "outputs": [],
      "source": [
        "cores"
      ]
    },
    {
      "cell_type": "markdown",
      "id": "0b09259e-04a9-4dd5-9d5a-77b2489d8ee3",
      "metadata": {
        "editable": true,
        "tags": [],
        "id": "0b09259e-04a9-4dd5-9d5a-77b2489d8ee3"
      },
      "source": [
        "Use o argumento opcional `reverse` com o valor `True` para classificar os elementos em ordem decrescente."
      ]
    },
    {
      "cell_type": "markdown",
      "id": "d981bc2b-cae5-49a6-b05e-851c6d0f9cb3",
      "metadata": {
        "editable": true,
        "tags": [],
        "id": "d981bc2b-cae5-49a6-b05e-851c6d0f9cb3"
      },
      "source": [
        "# 4.9 Pesquisando Sequências\n",
        "Frequentemente, precisamos determinar se uma sequência (como uma lista, tupla ou string) contém um valor que corresponde a um valor-chave específico. Pesquisar é o processo de localizar uma chave."
      ]
    },
    {
      "cell_type": "markdown",
      "id": "ef6801ed-fb3a-4ee4-8f4d-02bf655f1206",
      "metadata": {
        "editable": true,
        "tags": [],
        "id": "ef6801ed-fb3a-4ee4-8f4d-02bf655f1206"
      },
      "source": [
        "## Método `index` da classe `list`\n"
      ]
    },
    {
      "cell_type": "code",
      "execution_count": null,
      "id": "19ec3494-f60d-4c01-af3f-ce3270975ed3",
      "metadata": {
        "editable": true,
        "tags": [],
        "id": "19ec3494-f60d-4c01-af3f-ce3270975ed3"
      },
      "outputs": [],
      "source": [
        "numbers = [3, 7, 1, 4, 2, 8, 5, 6]"
      ]
    },
    {
      "cell_type": "code",
      "execution_count": null,
      "id": "cce9c5f1-75bf-4cf8-8109-84029553dc1f",
      "metadata": {
        "editable": true,
        "tags": [],
        "id": "cce9c5f1-75bf-4cf8-8109-84029553dc1f"
      },
      "outputs": [],
      "source": [
        "numbers.index(4) # 5 é a chave de pesquisa, ou seja o valor procurado"
      ]
    },
    {
      "cell_type": "code",
      "execution_count": null,
      "id": "0e7e6edb-f5ba-48fd-9ac4-857f2ca1a188",
      "metadata": {
        "id": "0e7e6edb-f5ba-48fd-9ac4-857f2ca1a188"
      },
      "outputs": [],
      "source": [
        "chave = 50\n",
        "if chave in numbers:\n",
        "    print(numbers.index(chave))\n",
        "else:\n",
        "    print('A chave nao esta presente')"
      ]
    },
    {
      "cell_type": "markdown",
      "id": "aa92fa6f-a185-44dc-aa84-22be8a70c879",
      "metadata": {
        "id": "aa92fa6f-a185-44dc-aa84-22be8a70c879"
      },
      "source": [
        "**Exercício** Implemente uma função que receba uma lista como parâmetro bem como uma chave de pesquisa. A função deve retornar o índice do elemento, caso ele esteja presente na lista e False caso ele não esteja presente."
      ]
    },
    {
      "cell_type": "code",
      "execution_count": null,
      "id": "6ad3ad8e-b8ab-42c7-8e11-6ad5b617e7b5",
      "metadata": {
        "id": "6ad3ad8e-b8ab-42c7-8e11-6ad5b617e7b5"
      },
      "outputs": [],
      "source": [
        "def procura(lista, chave):\n",
        "    for indice, valor in enumerate(lista):\n",
        "        if valor == chave:\n",
        "            return indice\n",
        "    return False"
      ]
    },
    {
      "cell_type": "code",
      "execution_count": null,
      "id": "d417c648-f5f8-46a2-a0dc-75e6a998a2f6",
      "metadata": {
        "id": "d417c648-f5f8-46a2-a0dc-75e6a998a2f6"
      },
      "outputs": [],
      "source": [
        "procura(numbers, 7)"
      ]
    },
    {
      "cell_type": "markdown",
      "id": "5cd0dce1-5608-4d42-8795-8fa97f495ce9",
      "metadata": {
        "editable": true,
        "tags": [],
        "id": "5cd0dce1-5608-4d42-8795-8fa97f495ce9"
      },
      "source": [
        "## Especificando o índice inicial para a pesquisa"
      ]
    },
    {
      "cell_type": "code",
      "execution_count": null,
      "id": "69722896-0c97-4faf-8c84-b209fc9d8de2",
      "metadata": {
        "editable": true,
        "tags": [],
        "id": "69722896-0c97-4faf-8c84-b209fc9d8de2"
      },
      "outputs": [],
      "source": [
        "numbers *= 2"
      ]
    },
    {
      "cell_type": "code",
      "execution_count": null,
      "id": "d2e2c250-9df4-4fb1-bcee-77d07f8e53a9",
      "metadata": {
        "editable": true,
        "tags": [],
        "id": "d2e2c250-9df4-4fb1-bcee-77d07f8e53a9"
      },
      "outputs": [],
      "source": [
        "numbers"
      ]
    },
    {
      "cell_type": "code",
      "execution_count": null,
      "id": "96bfa185-b36b-4c08-81a5-15f7e8c8808f",
      "metadata": {
        "editable": true,
        "tags": [],
        "id": "96bfa185-b36b-4c08-81a5-15f7e8c8808f"
      },
      "outputs": [],
      "source": [
        "numbers.index(5, 7) # a pesquisa começa a partir do indice 7"
      ]
    },
    {
      "cell_type": "markdown",
      "id": "a95f3575-c85b-4f9f-b4ff-4e2ff8e62a1e",
      "metadata": {
        "editable": true,
        "tags": [],
        "id": "a95f3575-c85b-4f9f-b4ff-4e2ff8e62a1e"
      },
      "source": [
        "## Especificando o índice inicial e final para a pesquisa\n",
        "A especificação dos índices inicial e final faz com que o método pesquise desde o índice inicial até, mas não incluindo, o valor informado como índice final."
      ]
    },
    {
      "cell_type": "code",
      "execution_count": null,
      "id": "016ae9aa-4eaf-47f9-9fa0-da8131628fe8",
      "metadata": {
        "id": "016ae9aa-4eaf-47f9-9fa0-da8131628fe8"
      },
      "outputs": [],
      "source": [
        "numbers"
      ]
    },
    {
      "cell_type": "code",
      "execution_count": null,
      "id": "f29356be-6e87-435a-86b5-ff0988488b3c",
      "metadata": {
        "editable": true,
        "tags": [],
        "id": "f29356be-6e87-435a-86b5-ff0988488b3c"
      },
      "outputs": [],
      "source": [
        "numbers.index(2, 6, 14)"
      ]
    },
    {
      "cell_type": "markdown",
      "id": "9462ebf6-51eb-4170-9a7f-864c1472d22c",
      "metadata": {
        "editable": true,
        "tags": [],
        "id": "9462ebf6-51eb-4170-9a7f-864c1472d22c"
      },
      "source": [
        "## Operadores `in` e `not in`\n",
        "Esses operadores testam se operando direito (deve ser iterável) contém o valor do operando esquerdo:"
      ]
    },
    {
      "cell_type": "code",
      "execution_count": null,
      "id": "594601a4-c274-4094-8bb2-d72c36c85172",
      "metadata": {
        "id": "594601a4-c274-4094-8bb2-d72c36c85172"
      },
      "outputs": [],
      "source": [
        "numbers"
      ]
    },
    {
      "cell_type": "code",
      "execution_count": null,
      "id": "f16c7204-3307-46a5-95f8-21884d85d2b6",
      "metadata": {
        "editable": true,
        "tags": [],
        "id": "f16c7204-3307-46a5-95f8-21884d85d2b6"
      },
      "outputs": [],
      "source": [
        "1000 in numbers"
      ]
    },
    {
      "cell_type": "code",
      "execution_count": null,
      "id": "e1b225c0-11de-4e38-8fd9-31900a8a1021",
      "metadata": {
        "editable": true,
        "tags": [],
        "id": "e1b225c0-11de-4e38-8fd9-31900a8a1021"
      },
      "outputs": [],
      "source": [
        "5 in numbers"
      ]
    },
    {
      "cell_type": "code",
      "execution_count": null,
      "id": "3a8ea40e-7413-4d25-b088-6aafb7059a8d",
      "metadata": {
        "editable": true,
        "tags": [],
        "id": "3a8ea40e-7413-4d25-b088-6aafb7059a8d"
      },
      "outputs": [],
      "source": [
        "1000 not in numbers"
      ]
    },
    {
      "cell_type": "code",
      "execution_count": null,
      "id": "711da6c1-871b-4085-8e25-a8d7ca2a0cec",
      "metadata": {
        "editable": true,
        "tags": [],
        "id": "711da6c1-871b-4085-8e25-a8d7ca2a0cec"
      },
      "outputs": [],
      "source": [
        "5 not in numbers"
      ]
    },
    {
      "cell_type": "markdown",
      "id": "245f6c9d-fdb7-4f15-8eae-fad3fecb7b7b",
      "metadata": {
        "editable": true,
        "tags": [],
        "id": "245f6c9d-fdb7-4f15-8eae-fad3fecb7b7b"
      },
      "source": [
        "## Usando o  operador `in` para impedir `ValueError`\n",
        "Podemos usar o operador `in` para garantir que as chamadas ao método `index` não resultem em `ValueError` para chaves de pesquisa que não estão na sequência correspondente:"
      ]
    },
    {
      "cell_type": "code",
      "execution_count": null,
      "id": "2198e794-eac6-40c7-8f48-1b02b424cf6d",
      "metadata": {
        "editable": true,
        "tags": [],
        "id": "2198e794-eac6-40c7-8f48-1b02b424cf6d"
      },
      "outputs": [],
      "source": [
        "key = 1000"
      ]
    },
    {
      "cell_type": "code",
      "execution_count": null,
      "id": "2c765886-64db-47b7-8b88-09a1eda24e74",
      "metadata": {
        "editable": true,
        "tags": [],
        "id": "2c765886-64db-47b7-8b88-09a1eda24e74"
      },
      "outputs": [],
      "source": [
        "if key in numbers:\n",
        "    print(f'Encontrada {key} no índice {numbers.index(search_key)}')\n",
        "else:\n",
        "    print(f'{key} não encontrado')"
      ]
    },
    {
      "cell_type": "markdown",
      "id": "3a920ba7-212d-4e8c-9801-c3a6b0f77876",
      "metadata": {
        "editable": true,
        "tags": [],
        "id": "3a920ba7-212d-4e8c-9801-c3a6b0f77876"
      },
      "source": [
        "# 4.10 Outros métodos da classe List"
      ]
    },
    {
      "cell_type": "code",
      "execution_count": null,
      "id": "ff01842b-5aab-4ca9-89ef-985742ed69e4",
      "metadata": {
        "editable": true,
        "tags": [],
        "id": "ff01842b-5aab-4ca9-89ef-985742ed69e4"
      },
      "outputs": [],
      "source": [
        "color_names = ['orange', 'yellow', 'green']"
      ]
    },
    {
      "cell_type": "markdown",
      "id": "52b98b07-3d35-4337-8048-70e1ec6e91d6",
      "metadata": {
        "editable": true,
        "tags": [],
        "id": "52b98b07-3d35-4337-8048-70e1ec6e91d6"
      },
      "source": [
        "## Inserindo um elemento em um índice específico"
      ]
    },
    {
      "cell_type": "code",
      "execution_count": null,
      "id": "1350c419-350f-421e-b270-3ffed6a3c7b3",
      "metadata": {
        "editable": true,
        "tags": [],
        "id": "1350c419-350f-421e-b270-3ffed6a3c7b3"
      },
      "outputs": [],
      "source": [
        "color_names.insert(0, 'red')"
      ]
    },
    {
      "cell_type": "code",
      "execution_count": null,
      "id": "de38da38-0d9d-4173-8e6e-a9f21b29c9e0",
      "metadata": {
        "editable": true,
        "tags": [],
        "id": "de38da38-0d9d-4173-8e6e-a9f21b29c9e0"
      },
      "outputs": [],
      "source": [
        "color_names"
      ]
    },
    {
      "cell_type": "code",
      "execution_count": null,
      "id": "cfff2123-4202-4fc8-b8f9-f4899aaa4df0",
      "metadata": {
        "id": "cfff2123-4202-4fc8-b8f9-f4899aaa4df0"
      },
      "outputs": [],
      "source": [
        "color_names.insert(2, 'purple')"
      ]
    },
    {
      "cell_type": "code",
      "execution_count": null,
      "id": "7361ee29-090a-41a8-b29f-4ebb3fbb9ef4",
      "metadata": {
        "id": "7361ee29-090a-41a8-b29f-4ebb3fbb9ef4"
      },
      "outputs": [],
      "source": [
        "color_names"
      ]
    },
    {
      "cell_type": "code",
      "execution_count": null,
      "id": "f1ee6d1d-ac33-4f2a-90f4-31d2fbf46bb9",
      "metadata": {
        "id": "f1ee6d1d-ac33-4f2a-90f4-31d2fbf46bb9"
      },
      "outputs": [],
      "source": [
        "def insere(lista, indice, valor): # insere o valor na lista, na posicao indicada por indice\n",
        "    copia = lista[indice:]\n",
        "    lista[indice] = valor\n",
        "    lista[indice+1:] = copia"
      ]
    },
    {
      "cell_type": "code",
      "execution_count": null,
      "id": "bc90225e-d87e-4a5c-8a3f-40201842e5ff",
      "metadata": {
        "id": "bc90225e-d87e-4a5c-8a3f-40201842e5ff"
      },
      "outputs": [],
      "source": [
        "insere(color_names, 2, 'magenta')"
      ]
    },
    {
      "cell_type": "code",
      "execution_count": null,
      "id": "bb3cbb3c-9afb-458a-87b9-7af90a6d3747",
      "metadata": {
        "id": "bb3cbb3c-9afb-458a-87b9-7af90a6d3747"
      },
      "outputs": [],
      "source": [
        "color_names"
      ]
    },
    {
      "cell_type": "markdown",
      "id": "fc3f34dd-ec97-4dd8-9550-99073e64ed5c",
      "metadata": {
        "editable": true,
        "tags": [],
        "id": "fc3f34dd-ec97-4dd8-9550-99073e64ed5c"
      },
      "source": [
        "## Adicionando um elemento no final da lista"
      ]
    },
    {
      "cell_type": "code",
      "execution_count": null,
      "id": "7ddee5b1-a99f-4f2c-858f-10e85acc7793",
      "metadata": {
        "editable": true,
        "tags": [],
        "id": "7ddee5b1-a99f-4f2c-858f-10e85acc7793"
      },
      "outputs": [],
      "source": [
        "color_names.append('blue')"
      ]
    },
    {
      "cell_type": "code",
      "execution_count": null,
      "id": "d0dee4fe-6f19-406e-b8dd-8c7107c8ead8",
      "metadata": {
        "editable": true,
        "tags": [],
        "id": "d0dee4fe-6f19-406e-b8dd-8c7107c8ead8"
      },
      "outputs": [],
      "source": [
        "color_names"
      ]
    },
    {
      "cell_type": "code",
      "execution_count": null,
      "id": "af829f97-77d1-4cdb-bee2-c0b58cbc3697",
      "metadata": {
        "id": "af829f97-77d1-4cdb-bee2-c0b58cbc3697"
      },
      "outputs": [],
      "source": [
        "def anexa(lista, valor):\n",
        "    lista += [valor]"
      ]
    },
    {
      "cell_type": "code",
      "execution_count": null,
      "id": "cfd10170-9316-4259-a6c5-f723c82072ba",
      "metadata": {
        "id": "cfd10170-9316-4259-a6c5-f723c82072ba"
      },
      "outputs": [],
      "source": [
        "anexa(color_names, 'pink')"
      ]
    },
    {
      "cell_type": "code",
      "execution_count": null,
      "id": "95f295f6-a37b-4aa2-b572-68e0911dcd25",
      "metadata": {
        "id": "95f295f6-a37b-4aa2-b572-68e0911dcd25"
      },
      "outputs": [],
      "source": [
        "color_names"
      ]
    },
    {
      "cell_type": "markdown",
      "id": "79b75008-b942-4323-9766-bb73f7ebe057",
      "metadata": {
        "editable": true,
        "tags": [],
        "id": "79b75008-b942-4323-9766-bb73f7ebe057"
      },
      "source": [
        "## Adicionando todos os elementos de uma sequência no final de uma lista"
      ]
    },
    {
      "cell_type": "code",
      "execution_count": null,
      "id": "262b3118-5f19-485f-9540-d39961050f67",
      "metadata": {
        "editable": true,
        "tags": [],
        "id": "262b3118-5f19-485f-9540-d39961050f67"
      },
      "outputs": [],
      "source": [
        "color_names.extend(['indigo', 'violet'])"
      ]
    },
    {
      "cell_type": "code",
      "execution_count": null,
      "id": "5222915d-2ebc-4953-9f38-7afd450e368e",
      "metadata": {
        "editable": true,
        "tags": [],
        "id": "5222915d-2ebc-4953-9f38-7afd450e368e"
      },
      "outputs": [],
      "source": [
        "color_names"
      ]
    },
    {
      "cell_type": "code",
      "execution_count": null,
      "id": "e3640fae-ed1e-4d7a-97fe-13b3256eab19",
      "metadata": {
        "editable": true,
        "tags": [],
        "id": "e3640fae-ed1e-4d7a-97fe-13b3256eab19"
      },
      "outputs": [],
      "source": [
        "sample_list = []"
      ]
    },
    {
      "cell_type": "code",
      "execution_count": null,
      "id": "1e5a96cc-af1c-494a-a1a1-2b8dd2df98b3",
      "metadata": {
        "editable": true,
        "tags": [],
        "id": "1e5a96cc-af1c-494a-a1a1-2b8dd2df98b3"
      },
      "outputs": [],
      "source": [
        "s = 'abc'"
      ]
    },
    {
      "cell_type": "code",
      "execution_count": null,
      "id": "ed7a069e-f0a9-45b0-bae7-515420c52492",
      "metadata": {
        "editable": true,
        "tags": [],
        "id": "ed7a069e-f0a9-45b0-bae7-515420c52492"
      },
      "outputs": [],
      "source": [
        "sample_list.extend(s)"
      ]
    },
    {
      "cell_type": "code",
      "execution_count": null,
      "id": "4e49a71b-1dce-46cd-a5a2-b15c3edce191",
      "metadata": {
        "editable": true,
        "tags": [],
        "id": "4e49a71b-1dce-46cd-a5a2-b15c3edce191"
      },
      "outputs": [],
      "source": [
        "sample_list"
      ]
    },
    {
      "cell_type": "code",
      "execution_count": null,
      "id": "2a32ecf5-9862-45df-b841-71bc9e2f841b",
      "metadata": {
        "editable": true,
        "tags": [],
        "id": "2a32ecf5-9862-45df-b841-71bc9e2f841b"
      },
      "outputs": [],
      "source": [
        "t = (1, 2, 3)"
      ]
    },
    {
      "cell_type": "code",
      "execution_count": null,
      "id": "43ac6047-cdbb-4ad8-9a46-bee60d546267",
      "metadata": {
        "editable": true,
        "tags": [],
        "id": "43ac6047-cdbb-4ad8-9a46-bee60d546267"
      },
      "outputs": [],
      "source": [
        "sample_list.extend(t)"
      ]
    },
    {
      "cell_type": "code",
      "execution_count": null,
      "id": "7d301b64-f45e-4e46-8d8d-8db5adc4d72f",
      "metadata": {
        "editable": true,
        "tags": [],
        "id": "7d301b64-f45e-4e46-8d8d-8db5adc4d72f"
      },
      "outputs": [],
      "source": [
        "sample_list"
      ]
    },
    {
      "cell_type": "code",
      "execution_count": null,
      "id": "95768fa2-6b26-4e42-955a-4014cfa3a479",
      "metadata": {
        "editable": true,
        "tags": [],
        "id": "95768fa2-6b26-4e42-955a-4014cfa3a479"
      },
      "outputs": [],
      "source": [
        "sample_list.extend((4, 5, 6))  # note the extra parentheses"
      ]
    },
    {
      "cell_type": "code",
      "execution_count": null,
      "id": "3421a489-5193-4c5f-969e-a7796ce17a55",
      "metadata": {
        "editable": true,
        "tags": [],
        "id": "3421a489-5193-4c5f-969e-a7796ce17a55"
      },
      "outputs": [],
      "source": [
        "sample_list"
      ]
    },
    {
      "cell_type": "markdown",
      "id": "1e715d0b-cfce-4eac-abe5-c9c9e066b737",
      "metadata": {
        "editable": true,
        "tags": [],
        "id": "1e715d0b-cfce-4eac-abe5-c9c9e066b737"
      },
      "source": [
        "## Removendo a primeira ocorrência de um elemento em uma lista"
      ]
    },
    {
      "cell_type": "code",
      "execution_count": null,
      "id": "bbcef9d0-fae0-44c0-b9ed-29233b2db54c",
      "metadata": {
        "editable": true,
        "tags": [],
        "id": "bbcef9d0-fae0-44c0-b9ed-29233b2db54c"
      },
      "outputs": [],
      "source": [
        "color_names"
      ]
    },
    {
      "cell_type": "code",
      "execution_count": null,
      "id": "746293e8-2614-4fe3-9b0f-996e60355006",
      "metadata": {
        "editable": true,
        "tags": [],
        "id": "746293e8-2614-4fe3-9b0f-996e60355006"
      },
      "outputs": [],
      "source": [
        "color_names.remove('green')"
      ]
    },
    {
      "cell_type": "code",
      "execution_count": null,
      "id": "82c10d53-5294-4a52-9b31-f4f8077fdc97",
      "metadata": {
        "editable": true,
        "tags": [],
        "id": "82c10d53-5294-4a52-9b31-f4f8077fdc97"
      },
      "outputs": [],
      "source": [
        "color_names"
      ]
    },
    {
      "cell_type": "markdown",
      "id": "673e945f-171b-43bd-a4b1-70871aec5388",
      "metadata": {
        "editable": true,
        "tags": [],
        "id": "673e945f-171b-43bd-a4b1-70871aec5388"
      },
      "source": [
        "## Esvaziando uma lista"
      ]
    },
    {
      "cell_type": "code",
      "execution_count": null,
      "id": "69da0eb4-526d-407a-a8d8-c86adc8618c9",
      "metadata": {
        "editable": true,
        "tags": [],
        "id": "69da0eb4-526d-407a-a8d8-c86adc8618c9"
      },
      "outputs": [],
      "source": [
        "color_names.clear()"
      ]
    },
    {
      "cell_type": "code",
      "execution_count": null,
      "id": "90946239-f832-4569-8dd8-a31eebd05be4",
      "metadata": {
        "editable": true,
        "tags": [],
        "id": "90946239-f832-4569-8dd8-a31eebd05be4"
      },
      "outputs": [],
      "source": [
        "color_names"
      ]
    },
    {
      "cell_type": "markdown",
      "id": "a4c5c065-13c4-4f8b-9743-b65e73aebff6",
      "metadata": {
        "editable": true,
        "tags": [],
        "id": "a4c5c065-13c4-4f8b-9743-b65e73aebff6"
      },
      "source": [
        "## Contando o número de ocorrências de um ítem"
      ]
    },
    {
      "cell_type": "code",
      "execution_count": null,
      "id": "989a0136-c9b6-4859-8edf-0b1fafcb2891",
      "metadata": {
        "editable": true,
        "tags": [],
        "id": "989a0136-c9b6-4859-8edf-0b1fafcb2891"
      },
      "outputs": [],
      "source": [
        "responses = [1, 2, 5, 4, 3, 5, 2, 1, 3, 3, 1, 4, 3, 3, 3, 2, 3, 3, 2, 2]"
      ]
    },
    {
      "cell_type": "code",
      "execution_count": null,
      "id": "450cafbf-c717-4a0d-a55e-9b65e291bc95",
      "metadata": {
        "editable": true,
        "tags": [],
        "id": "450cafbf-c717-4a0d-a55e-9b65e291bc95"
      },
      "outputs": [],
      "source": [
        "for i in range(1, 6):\n",
        "    print(f'{i} aparece {responses.count(i)} vezes em responses')"
      ]
    },
    {
      "cell_type": "markdown",
      "id": "42198564-2b86-4800-b01b-d1bf0cc01e2b",
      "metadata": {
        "editable": true,
        "tags": [],
        "id": "42198564-2b86-4800-b01b-d1bf0cc01e2b"
      },
      "source": [
        "## Invertendo os elementos de uma lista"
      ]
    },
    {
      "cell_type": "code",
      "execution_count": null,
      "id": "c21b5c67-c3a4-43ac-88b3-f95c64f5d750",
      "metadata": {
        "editable": true,
        "tags": [],
        "id": "c21b5c67-c3a4-43ac-88b3-f95c64f5d750"
      },
      "outputs": [],
      "source": [
        "color_names = ['red', 'orange', 'yellow', 'green', 'blue']"
      ]
    },
    {
      "cell_type": "code",
      "execution_count": null,
      "id": "dbae1118-4508-44c4-9c2e-6a2d2e3898de",
      "metadata": {
        "editable": true,
        "tags": [],
        "id": "dbae1118-4508-44c4-9c2e-6a2d2e3898de"
      },
      "outputs": [],
      "source": [
        "color_names.reverse()"
      ]
    },
    {
      "cell_type": "code",
      "execution_count": null,
      "id": "95f5cb2a-a7f7-4547-bf80-afd5b2cde16b",
      "metadata": {
        "editable": true,
        "tags": [],
        "id": "95f5cb2a-a7f7-4547-bf80-afd5b2cde16b"
      },
      "outputs": [],
      "source": [
        "color_names"
      ]
    },
    {
      "cell_type": "markdown",
      "id": "5d32f4c7-5617-4be5-a358-b9eb8b2a29bf",
      "metadata": {
        "editable": true,
        "tags": [],
        "id": "5d32f4c7-5617-4be5-a358-b9eb8b2a29bf"
      },
      "source": [
        "## Copiando uma lista"
      ]
    },
    {
      "cell_type": "code",
      "execution_count": null,
      "id": "2b810c75-69a9-42d8-9519-45be2de23a3c",
      "metadata": {
        "editable": true,
        "tags": [],
        "id": "2b810c75-69a9-42d8-9519-45be2de23a3c"
      },
      "outputs": [],
      "source": [
        "copied_list = color_names.copy()"
      ]
    },
    {
      "cell_type": "code",
      "execution_count": null,
      "id": "26c15652-8524-4eaf-8e3f-64e44e073fed",
      "metadata": {
        "editable": true,
        "tags": [],
        "id": "26c15652-8524-4eaf-8e3f-64e44e073fed"
      },
      "outputs": [],
      "source": [
        "copied_list"
      ]
    },
    {
      "cell_type": "markdown",
      "id": "13f03805-0aad-45c0-bd69-e21a06851c35",
      "metadata": {
        "editable": true,
        "tags": [],
        "id": "13f03805-0aad-45c0-bd69-e21a06851c35"
      },
      "source": [
        "# 4.11 Compreensão de listas (List Comprehensions)\n",
        "Consiste em uma notação concisa e conveniente para criar novas listas. As compreensões de lista podem substituir muitas instruções que iteram sobre sequências existentes e criam novas listas (o que na maioria dos casos é mais eficiente), como:"
      ]
    },
    {
      "cell_type": "code",
      "execution_count": null,
      "id": "a6b910d8-6d65-4ad5-9200-cf8a14aa1d51",
      "metadata": {
        "editable": true,
        "tags": [],
        "id": "a6b910d8-6d65-4ad5-9200-cf8a14aa1d51"
      },
      "outputs": [],
      "source": [
        "list1 = []"
      ]
    },
    {
      "cell_type": "code",
      "execution_count": null,
      "id": "50371f35-5ead-496f-a746-f3b43d02408a",
      "metadata": {
        "editable": true,
        "tags": [],
        "id": "50371f35-5ead-496f-a746-f3b43d02408a"
      },
      "outputs": [],
      "source": [
        "for item in range(1, 6):\n",
        "    list1.append(item)"
      ]
    },
    {
      "cell_type": "code",
      "execution_count": null,
      "id": "0b32daf7-5a52-4f14-9079-069926d95985",
      "metadata": {
        "editable": true,
        "tags": [],
        "id": "0b32daf7-5a52-4f14-9079-069926d95985",
        "outputId": "f4bc3437-cf3c-466b-ddae-24a17160acec"
      },
      "outputs": [
        {
          "data": {
            "text/plain": [
              "[1, 2, 3, 4, 5]"
            ]
          },
          "execution_count": 314,
          "metadata": {},
          "output_type": "execute_result"
        }
      ],
      "source": [
        "list1"
      ]
    },
    {
      "cell_type": "markdown",
      "id": "593374f2-761c-4d15-8a4b-f1ccc4d99e17",
      "metadata": {
        "editable": true,
        "tags": [],
        "id": "593374f2-761c-4d15-8a4b-f1ccc4d99e17"
      },
      "source": [
        "## Usando uma compreensão de lista para criar uma lista de inteiros"
      ]
    },
    {
      "cell_type": "code",
      "execution_count": null,
      "id": "223bdb4d-edec-4075-bb4d-ccc09040c7d0",
      "metadata": {
        "editable": true,
        "tags": [],
        "id": "223bdb4d-edec-4075-bb4d-ccc09040c7d0"
      },
      "outputs": [],
      "source": [
        "list2 = [item for item in range(1, 6)]"
      ]
    },
    {
      "cell_type": "code",
      "execution_count": null,
      "id": "1f9ae64d-991b-492e-be85-40be3f9e8bf1",
      "metadata": {
        "editable": true,
        "tags": [],
        "id": "1f9ae64d-991b-492e-be85-40be3f9e8bf1"
      },
      "outputs": [],
      "source": [
        "list2"
      ]
    },
    {
      "cell_type": "markdown",
      "id": "b3e3726e-d59e-4a77-8f40-ccf72a80aae8",
      "metadata": {
        "editable": true,
        "tags": [],
        "id": "b3e3726e-d59e-4a77-8f40-ccf72a80aae8"
      },
      "source": [
        "## Mapeamento: realizando operações em uma expressão envolvendo compreensão de lista"
      ]
    },
    {
      "cell_type": "code",
      "execution_count": null,
      "id": "eac51086-ed99-4953-b214-b89818ad7cd4",
      "metadata": {
        "editable": true,
        "tags": [],
        "id": "eac51086-ed99-4953-b214-b89818ad7cd4"
      },
      "outputs": [],
      "source": [
        "list3 = [item ** 3 for item in range(1, 6)]"
      ]
    },
    {
      "cell_type": "code",
      "execution_count": null,
      "id": "cb2fee86-54cf-4d47-bdd4-e6d2c6cd062e",
      "metadata": {
        "editable": true,
        "tags": [],
        "id": "cb2fee86-54cf-4d47-bdd4-e6d2c6cd062e"
      },
      "outputs": [],
      "source": [
        "list3"
      ]
    },
    {
      "cell_type": "markdown",
      "id": "d43733ec-1ea0-4586-bdab-c0a5c630d3bb",
      "metadata": {
        "editable": true,
        "tags": [],
        "id": "d43733ec-1ea0-4586-bdab-c0a5c630d3bb"
      },
      "source": [
        "## Filtragem: compreensao de listas com cláusula `if`"
      ]
    },
    {
      "cell_type": "code",
      "execution_count": null,
      "id": "178d4578-b8b1-48aa-8d10-52a65861acb2",
      "metadata": {
        "editable": true,
        "tags": [],
        "id": "178d4578-b8b1-48aa-8d10-52a65861acb2"
      },
      "outputs": [],
      "source": [
        "list4 = [item for item in range(1, 11) if item % 2 == 0]"
      ]
    },
    {
      "cell_type": "code",
      "execution_count": null,
      "id": "45401759-abc8-4089-906e-e69dad7e6468",
      "metadata": {
        "editable": true,
        "tags": [],
        "id": "45401759-abc8-4089-906e-e69dad7e6468"
      },
      "outputs": [],
      "source": [
        "list4"
      ]
    },
    {
      "cell_type": "markdown",
      "id": "74b68db2-fb14-4237-a0ef-64c7e52eaf67",
      "metadata": {
        "editable": true,
        "tags": [],
        "id": "74b68db2-fb14-4237-a0ef-64c7e52eaf67"
      },
      "source": [
        "## Compreensão de lista que processa os elementos de outra lista"
      ]
    },
    {
      "cell_type": "code",
      "execution_count": null,
      "id": "42ada72e-feb8-4f25-a5b2-11ab853dabb1",
      "metadata": {
        "editable": true,
        "tags": [],
        "id": "42ada72e-feb8-4f25-a5b2-11ab853dabb1"
      },
      "outputs": [],
      "source": [
        "colors = ['red', 'orange', 'yellow', 'green', 'blue']"
      ]
    },
    {
      "cell_type": "code",
      "execution_count": null,
      "id": "ffbd1eb8-d16a-4b68-aea8-908045e42f08",
      "metadata": {
        "editable": true,
        "tags": [],
        "id": "ffbd1eb8-d16a-4b68-aea8-908045e42f08"
      },
      "outputs": [],
      "source": [
        "colors2 = [item.upper() for item in colors]"
      ]
    },
    {
      "cell_type": "code",
      "execution_count": null,
      "id": "7c1c3446-07ad-4936-b720-276b356fa888",
      "metadata": {
        "editable": true,
        "tags": [],
        "id": "7c1c3446-07ad-4936-b720-276b356fa888"
      },
      "outputs": [],
      "source": [
        "colors2"
      ]
    },
    {
      "cell_type": "code",
      "execution_count": null,
      "id": "307763df-ee72-4253-8b9a-1ff2214df387",
      "metadata": {
        "editable": true,
        "tags": [],
        "id": "307763df-ee72-4253-8b9a-1ff2214df387"
      },
      "outputs": [],
      "source": [
        "colors"
      ]
    },
    {
      "cell_type": "markdown",
      "id": "7ad7ec65-d0cb-43eb-b3a9-39aab76bce8d",
      "metadata": {
        "editable": true,
        "tags": [],
        "id": "7ad7ec65-d0cb-43eb-b3a9-39aab76bce8d"
      },
      "source": [
        "# 4.12 Listas Bidimensionais (equivalência a matrizes)\n",
        "\n",
        "As listas podem conter outras listas como elementos. Um uso típico de listas aninhadas (ou multidimensionais) é para representar tabelas que consistem em informações organizadas em linhas e colunas. Para identificar um elemento específico da tabela, especificamos dois índices: o primeiro identifica a linha e o segundo a coluna do elemento.\n",
        "\n",
        "Listas que requerem dois índices para identificar um elemento são chamadas de listas bidimensionais. Listas multidimensionais ($n$ dimensões) podem ter mais de dois índices. Aqui, apresentamos listas bidimensionais ($n = 2$)."
      ]
    },
    {
      "cell_type": "markdown",
      "id": "115fb55a-ed62-4e71-9e05-fc6f05fd3822",
      "metadata": {
        "editable": true,
        "tags": [],
        "id": "115fb55a-ed62-4e71-9e05-fc6f05fd3822"
      },
      "source": [
        "## Criando uma lista bidimensional\n",
        "O exemplo abaixo ilustra a criação de uma lista (de nome $C$) com ordem 3x4 (3 linhas e 4 colunas)."
      ]
    },
    {
      "cell_type": "code",
      "execution_count": null,
      "id": "de1bc17d-1dc8-4d29-9087-1a944e3b72c9",
      "metadata": {
        "editable": true,
        "tags": [],
        "id": "de1bc17d-1dc8-4d29-9087-1a944e3b72c9"
      },
      "outputs": [],
      "source": [
        "A = [[2, 1, 3], [3, 4, 5], [7, 1, 2], [10, 1, 4]]"
      ]
    },
    {
      "cell_type": "code",
      "execution_count": null,
      "id": "9b9cd4a9-616c-47ae-a0a0-458fea614c0a",
      "metadata": {
        "id": "9b9cd4a9-616c-47ae-a0a0-458fea614c0a"
      },
      "outputs": [],
      "source": [
        "B = [[1, 5, -3], [2, 1, 0], [3, 1, 4], [5, 2, 1]]"
      ]
    },
    {
      "cell_type": "code",
      "execution_count": null,
      "id": "f2ae734d-7847-40fa-838e-6540fb57457e",
      "metadata": {
        "id": "f2ae734d-7847-40fa-838e-6540fb57457e"
      },
      "outputs": [],
      "source": [
        "C = [[[1, 2, 3],[4, 5, 6],[7, 8, 9]], [[10, 11, 12],[13, 14, 15],[16, 17, 18]], [[19, 20, 21],[22, 23, 24],[15,26, 27]]]"
      ]
    },
    {
      "cell_type": "code",
      "execution_count": null,
      "id": "13258f3e-0063-4961-8545-9eb4388c1120",
      "metadata": {
        "id": "13258f3e-0063-4961-8545-9eb4388c1120"
      },
      "outputs": [],
      "source": [
        "len(C[0][1])"
      ]
    },
    {
      "cell_type": "code",
      "execution_count": null,
      "id": "05ac498a-f0b7-43cc-b15f-9969a17d50fa",
      "metadata": {
        "id": "05ac498a-f0b7-43cc-b15f-9969a17d50fa"
      },
      "outputs": [],
      "source": [
        "C = [[0, 0, 0],[0, 0, 0],[0, 0, 0],[0, 0, 0]]\n",
        "for i in range(4):\n",
        "    for j in range(3):\n",
        "        C[i][j] = A[i][j] + B[i][j]"
      ]
    },
    {
      "cell_type": "code",
      "execution_count": null,
      "id": "bce13bcd-ee88-466d-873a-cdeac73fca5b",
      "metadata": {
        "id": "bce13bcd-ee88-466d-873a-cdeac73fca5b"
      },
      "outputs": [],
      "source": [
        "C"
      ]
    },
    {
      "cell_type": "markdown",
      "id": "e031d240-ecbd-4a1c-8077-5a95d9ce800f",
      "metadata": {
        "editable": true,
        "tags": [],
        "id": "e031d240-ecbd-4a1c-8077-5a95d9ce800f"
      },
      "source": [
        "## Identificando os elementos em uma lista bidimensional"
      ]
    },
    {
      "cell_type": "code",
      "execution_count": null,
      "id": "95c91522-f41e-4fe1-bb8e-4c96f4328628",
      "metadata": {
        "editable": true,
        "tags": [],
        "id": "95c91522-f41e-4fe1-bb8e-4c96f4328628"
      },
      "outputs": [],
      "source": [
        "for row in a:\n",
        "    for item in row:\n",
        "        print(item, end=' ')\n",
        "    print()\n"
      ]
    },
    {
      "cell_type": "markdown",
      "id": "61a8eb02-fc36-437f-84e6-625762c9d3af",
      "metadata": {
        "editable": true,
        "tags": [],
        "id": "61a8eb02-fc36-437f-84e6-625762c9d3af"
      },
      "source": [
        "Vamos modificar o loop para exibir o nome da lista e os índices de linha e coluna e o valor de cada elemento:"
      ]
    },
    {
      "cell_type": "code",
      "execution_count": null,
      "id": "109f10f3-cbe3-4786-8754-e2aea6adebdf",
      "metadata": {
        "editable": true,
        "tags": [],
        "id": "109f10f3-cbe3-4786-8754-e2aea6adebdf"
      },
      "outputs": [],
      "source": [
        "for i, row in enumerate(a):\n",
        "    for j, item in enumerate(row):\n",
        "        print(f'a[{i}][{j}]={item} ', end=' ')\n",
        "    print()"
      ]
    }
  ],
  "metadata": {
    "kernelspec": {
      "display_name": "Python 3 (ipykernel)",
      "language": "python",
      "name": "python3"
    },
    "language_info": {
      "codemirror_mode": {
        "name": "ipython",
        "version": 3
      },
      "file_extension": ".py",
      "mimetype": "text/x-python",
      "name": "python",
      "nbconvert_exporter": "python",
      "pygments_lexer": "ipython3",
      "version": "3.11.2"
    },
    "colab": {
      "provenance": [],
      "include_colab_link": true
    }
  },
  "nbformat": 4,
  "nbformat_minor": 5
}